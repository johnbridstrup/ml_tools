{
 "cells": [
  {
   "cell_type": "code",
   "execution_count": 1,
   "metadata": {
    "collapsed": true
   },
   "outputs": [],
   "source": [
    "from IPython.display import display\n",
    "from ml_tools import SimpleAggregator, Hour, SingleAggregator, custom_generator, Average\n",
    "import pandas as pd\n",
    "import seaborn as sns"
   ]
  },
  {
   "cell_type": "markdown",
   "source": [
    "# Transforming features"
   ],
   "metadata": {
    "collapsed": false,
    "pycharm": {
     "name": "#%% md\n"
    }
   }
  },
  {
   "cell_type": "code",
   "execution_count": 2,
   "outputs": [
    {
     "data": {
      "text/plain": "          id  card_id  store_id             datetime  amount currency  \\\n40201  40201     2807      2706  2019-01-19 10:33:39   78134      LTL   \n58690  58690    20741      9220  2019-05-27 20:39:31   47113      LTL   \n65959  65959    21790       499  2019-04-26 23:12:27   22353      HKD   \n38881  38881     7193      9214  2019-03-31 13:11:10   29794      EGP   \n25523  25523     2163      5336  2019-02-07 08:53:45   40237      PYG   \n31228  31228     7391      7391  2019-07-06 10:46:15   15969      CZK   \n79243  79243    26955      1067  2019-07-22 04:30:39   14844      BSD   \n70705  70705    11994       561  2019-07-22 13:41:17   69742      KZT   \n57522  57522    18178      3288  2019-02-08 14:04:39   38678      SLL   \n15037  15037    16970      1860  2019-01-15 13:51:21   62343      JEP   \n\n       customer_present          provider       lat        lng         region  \\\n40201             False     VISA 19 digit  40.16750   34.37389       Sungurlu   \n58690              True        Mastercard  -2.90055  -79.00453         Cuenca   \n65959             False      JCB 16 digit  42.52787  -70.92866        Peabody   \n38881             False          Discover  13.44581  101.18445  Phanat Nikhom   \n25523             False  American Express  44.99012 -123.02621         Keizer   \n31228              True        Mastercard  -1.63333   13.58357    Franceville   \n79243             False     VISA 19 digit  54.60528   18.34717           Reda   \n70705              True        Mastercard  15.73628   75.96976   Gajendragarh   \n57522             False     VISA 19 digit  48.49144    9.20427     Reutlingen   \n15037             False     VISA 13 digit  41.27194  123.17306       Liaoyang   \n\n      country  fraud  \n40201      TR  False  \n58690      EC   True  \n65959      US  False  \n38881      TH  False  \n25523      US  False  \n31228      GA  False  \n79243      PL  False  \n70705      IN  False  \n57522      DE  False  \n15037      CN  False  ",
      "text/html": "<div>\n<style scoped>\n    .dataframe tbody tr th:only-of-type {\n        vertical-align: middle;\n    }\n\n    .dataframe tbody tr th {\n        vertical-align: top;\n    }\n\n    .dataframe thead th {\n        text-align: right;\n    }\n</style>\n<table border=\"1\" class=\"dataframe\">\n  <thead>\n    <tr style=\"text-align: right;\">\n      <th></th>\n      <th>id</th>\n      <th>card_id</th>\n      <th>store_id</th>\n      <th>datetime</th>\n      <th>amount</th>\n      <th>currency</th>\n      <th>customer_present</th>\n      <th>provider</th>\n      <th>lat</th>\n      <th>lng</th>\n      <th>region</th>\n      <th>country</th>\n      <th>fraud</th>\n    </tr>\n  </thead>\n  <tbody>\n    <tr>\n      <th>40201</th>\n      <td>40201</td>\n      <td>2807</td>\n      <td>2706</td>\n      <td>2019-01-19 10:33:39</td>\n      <td>78134</td>\n      <td>LTL</td>\n      <td>False</td>\n      <td>VISA 19 digit</td>\n      <td>40.16750</td>\n      <td>34.37389</td>\n      <td>Sungurlu</td>\n      <td>TR</td>\n      <td>False</td>\n    </tr>\n    <tr>\n      <th>58690</th>\n      <td>58690</td>\n      <td>20741</td>\n      <td>9220</td>\n      <td>2019-05-27 20:39:31</td>\n      <td>47113</td>\n      <td>LTL</td>\n      <td>True</td>\n      <td>Mastercard</td>\n      <td>-2.90055</td>\n      <td>-79.00453</td>\n      <td>Cuenca</td>\n      <td>EC</td>\n      <td>True</td>\n    </tr>\n    <tr>\n      <th>65959</th>\n      <td>65959</td>\n      <td>21790</td>\n      <td>499</td>\n      <td>2019-04-26 23:12:27</td>\n      <td>22353</td>\n      <td>HKD</td>\n      <td>False</td>\n      <td>JCB 16 digit</td>\n      <td>42.52787</td>\n      <td>-70.92866</td>\n      <td>Peabody</td>\n      <td>US</td>\n      <td>False</td>\n    </tr>\n    <tr>\n      <th>38881</th>\n      <td>38881</td>\n      <td>7193</td>\n      <td>9214</td>\n      <td>2019-03-31 13:11:10</td>\n      <td>29794</td>\n      <td>EGP</td>\n      <td>False</td>\n      <td>Discover</td>\n      <td>13.44581</td>\n      <td>101.18445</td>\n      <td>Phanat Nikhom</td>\n      <td>TH</td>\n      <td>False</td>\n    </tr>\n    <tr>\n      <th>25523</th>\n      <td>25523</td>\n      <td>2163</td>\n      <td>5336</td>\n      <td>2019-02-07 08:53:45</td>\n      <td>40237</td>\n      <td>PYG</td>\n      <td>False</td>\n      <td>American Express</td>\n      <td>44.99012</td>\n      <td>-123.02621</td>\n      <td>Keizer</td>\n      <td>US</td>\n      <td>False</td>\n    </tr>\n    <tr>\n      <th>31228</th>\n      <td>31228</td>\n      <td>7391</td>\n      <td>7391</td>\n      <td>2019-07-06 10:46:15</td>\n      <td>15969</td>\n      <td>CZK</td>\n      <td>True</td>\n      <td>Mastercard</td>\n      <td>-1.63333</td>\n      <td>13.58357</td>\n      <td>Franceville</td>\n      <td>GA</td>\n      <td>False</td>\n    </tr>\n    <tr>\n      <th>79243</th>\n      <td>79243</td>\n      <td>26955</td>\n      <td>1067</td>\n      <td>2019-07-22 04:30:39</td>\n      <td>14844</td>\n      <td>BSD</td>\n      <td>False</td>\n      <td>VISA 19 digit</td>\n      <td>54.60528</td>\n      <td>18.34717</td>\n      <td>Reda</td>\n      <td>PL</td>\n      <td>False</td>\n    </tr>\n    <tr>\n      <th>70705</th>\n      <td>70705</td>\n      <td>11994</td>\n      <td>561</td>\n      <td>2019-07-22 13:41:17</td>\n      <td>69742</td>\n      <td>KZT</td>\n      <td>True</td>\n      <td>Mastercard</td>\n      <td>15.73628</td>\n      <td>75.96976</td>\n      <td>Gajendragarh</td>\n      <td>IN</td>\n      <td>False</td>\n    </tr>\n    <tr>\n      <th>57522</th>\n      <td>57522</td>\n      <td>18178</td>\n      <td>3288</td>\n      <td>2019-02-08 14:04:39</td>\n      <td>38678</td>\n      <td>SLL</td>\n      <td>False</td>\n      <td>VISA 19 digit</td>\n      <td>48.49144</td>\n      <td>9.20427</td>\n      <td>Reutlingen</td>\n      <td>DE</td>\n      <td>False</td>\n    </tr>\n    <tr>\n      <th>15037</th>\n      <td>15037</td>\n      <td>16970</td>\n      <td>1860</td>\n      <td>2019-01-15 13:51:21</td>\n      <td>62343</td>\n      <td>JEP</td>\n      <td>False</td>\n      <td>VISA 13 digit</td>\n      <td>41.27194</td>\n      <td>123.17306</td>\n      <td>Liaoyang</td>\n      <td>CN</td>\n      <td>False</td>\n    </tr>\n  </tbody>\n</table>\n</div>"
     },
     "metadata": {},
     "output_type": "display_data"
    }
   ],
   "source": [
    "single_dataset = pd.read_csv(\"data/ml_tools_single_table_dataset/fraud.csv\")\n",
    "display(single_dataset.sample(10))\n",
    "## too big to run quickly (also unnecessary for the demo)\n",
    "single_dataset_trunc = single_dataset.sample(200)"
   ],
   "metadata": {
    "collapsed": false,
    "pycharm": {
     "name": "#%%\n"
    }
   }
  },
  {
   "cell_type": "code",
   "execution_count": 3,
   "outputs": [
    {
     "name": "stdout",
     "output_type": "stream",
     "text": [
      "[3]\n"
     ]
    },
    {
     "name": "stderr",
     "output_type": "stream",
     "text": [
      "/Users/john/Projects/Programming/ml_tools/ml_tools/feature_generator.py:30: SettingWithCopyWarning: \n",
      "A value is trying to be set on a copy of a slice from a DataFrame\n",
      "\n",
      "See the caveats in the documentation: https://pandas.pydata.org/pandas-docs/stable/user_guide/indexing.html#returning-a-view-versus-a-copy\n",
      "  data.iloc[:, idx][index] = time.hour\n"
     ]
    },
    {
     "data": {
      "text/plain": "          id  card_id  store_id datetime  amount currency  customer_present  \\\n42307  42307    14982      1825       12   84956      PKR             False   \n92897  92897    15301      7563       15   20365      KES             False   \n95727  95727     4107      4107        2   98044      MXN             False   \n86646  86646    11250       549       12   28056      CUC             False   \n32819  32819    29816      2136        8   30363      KHR              True   \n5884    5884    17073      8934       17   56798      MDL             False   \n77499  77499     9314      6882       21   52325      CNY             False   \n92517  92517     7778      7778       22   57595      TVD              True   \n56611  56611    24870      3206       14   65543      GNF              True   \n33906  33906     9724      9724        2   37848      BAM             False   \n\n                          provider       lat        lng            region  \\\n42307                   Mastercard  48.77644    2.29026            Sceaux   \n92897                 JCB 16 digit  53.59337    9.47629             Stade   \n95727                VISA 13 digit  42.00000   21.32778             Saraj   \n86646                VISA 16 digit  47.49430 -122.24092  Bryn Mawr-Skyway   \n32819             American Express  43.78956    7.60872       Ventimiglia   \n5884                  JCB 16 digit  43.54072 -116.56346             Nampa   \n77499  Diners Club / Carte Blanche  10.13361  124.84472            Maasin   \n92517  Diners Club / Carte Blanche   3.11988   35.59642            Lodwar   \n56611                 JCB 15 digit  46.32313   -0.45877             Niort   \n33906  Diners Club / Carte Blanche  39.32288  -76.72803          Woodlawn   \n\n      country  fraud  \n42307      FR  False  \n92897      DE  False  \n95727      MK   True  \n86646      US  False  \n32819      IT  False  \n5884       US  False  \n77499      PH  False  \n92517      KE  False  \n56611      FR  False  \n33906      US   True  ",
      "text/html": "<div>\n<style scoped>\n    .dataframe tbody tr th:only-of-type {\n        vertical-align: middle;\n    }\n\n    .dataframe tbody tr th {\n        vertical-align: top;\n    }\n\n    .dataframe thead th {\n        text-align: right;\n    }\n</style>\n<table border=\"1\" class=\"dataframe\">\n  <thead>\n    <tr style=\"text-align: right;\">\n      <th></th>\n      <th>id</th>\n      <th>card_id</th>\n      <th>store_id</th>\n      <th>datetime</th>\n      <th>amount</th>\n      <th>currency</th>\n      <th>customer_present</th>\n      <th>provider</th>\n      <th>lat</th>\n      <th>lng</th>\n      <th>region</th>\n      <th>country</th>\n      <th>fraud</th>\n    </tr>\n  </thead>\n  <tbody>\n    <tr>\n      <th>42307</th>\n      <td>42307</td>\n      <td>14982</td>\n      <td>1825</td>\n      <td>12</td>\n      <td>84956</td>\n      <td>PKR</td>\n      <td>False</td>\n      <td>Mastercard</td>\n      <td>48.77644</td>\n      <td>2.29026</td>\n      <td>Sceaux</td>\n      <td>FR</td>\n      <td>False</td>\n    </tr>\n    <tr>\n      <th>92897</th>\n      <td>92897</td>\n      <td>15301</td>\n      <td>7563</td>\n      <td>15</td>\n      <td>20365</td>\n      <td>KES</td>\n      <td>False</td>\n      <td>JCB 16 digit</td>\n      <td>53.59337</td>\n      <td>9.47629</td>\n      <td>Stade</td>\n      <td>DE</td>\n      <td>False</td>\n    </tr>\n    <tr>\n      <th>95727</th>\n      <td>95727</td>\n      <td>4107</td>\n      <td>4107</td>\n      <td>2</td>\n      <td>98044</td>\n      <td>MXN</td>\n      <td>False</td>\n      <td>VISA 13 digit</td>\n      <td>42.00000</td>\n      <td>21.32778</td>\n      <td>Saraj</td>\n      <td>MK</td>\n      <td>True</td>\n    </tr>\n    <tr>\n      <th>86646</th>\n      <td>86646</td>\n      <td>11250</td>\n      <td>549</td>\n      <td>12</td>\n      <td>28056</td>\n      <td>CUC</td>\n      <td>False</td>\n      <td>VISA 16 digit</td>\n      <td>47.49430</td>\n      <td>-122.24092</td>\n      <td>Bryn Mawr-Skyway</td>\n      <td>US</td>\n      <td>False</td>\n    </tr>\n    <tr>\n      <th>32819</th>\n      <td>32819</td>\n      <td>29816</td>\n      <td>2136</td>\n      <td>8</td>\n      <td>30363</td>\n      <td>KHR</td>\n      <td>True</td>\n      <td>American Express</td>\n      <td>43.78956</td>\n      <td>7.60872</td>\n      <td>Ventimiglia</td>\n      <td>IT</td>\n      <td>False</td>\n    </tr>\n    <tr>\n      <th>5884</th>\n      <td>5884</td>\n      <td>17073</td>\n      <td>8934</td>\n      <td>17</td>\n      <td>56798</td>\n      <td>MDL</td>\n      <td>False</td>\n      <td>JCB 16 digit</td>\n      <td>43.54072</td>\n      <td>-116.56346</td>\n      <td>Nampa</td>\n      <td>US</td>\n      <td>False</td>\n    </tr>\n    <tr>\n      <th>77499</th>\n      <td>77499</td>\n      <td>9314</td>\n      <td>6882</td>\n      <td>21</td>\n      <td>52325</td>\n      <td>CNY</td>\n      <td>False</td>\n      <td>Diners Club / Carte Blanche</td>\n      <td>10.13361</td>\n      <td>124.84472</td>\n      <td>Maasin</td>\n      <td>PH</td>\n      <td>False</td>\n    </tr>\n    <tr>\n      <th>92517</th>\n      <td>92517</td>\n      <td>7778</td>\n      <td>7778</td>\n      <td>22</td>\n      <td>57595</td>\n      <td>TVD</td>\n      <td>True</td>\n      <td>Diners Club / Carte Blanche</td>\n      <td>3.11988</td>\n      <td>35.59642</td>\n      <td>Lodwar</td>\n      <td>KE</td>\n      <td>False</td>\n    </tr>\n    <tr>\n      <th>56611</th>\n      <td>56611</td>\n      <td>24870</td>\n      <td>3206</td>\n      <td>14</td>\n      <td>65543</td>\n      <td>GNF</td>\n      <td>True</td>\n      <td>JCB 15 digit</td>\n      <td>46.32313</td>\n      <td>-0.45877</td>\n      <td>Niort</td>\n      <td>FR</td>\n      <td>False</td>\n    </tr>\n    <tr>\n      <th>33906</th>\n      <td>33906</td>\n      <td>9724</td>\n      <td>9724</td>\n      <td>2</td>\n      <td>37848</td>\n      <td>BAM</td>\n      <td>False</td>\n      <td>Diners Club / Carte Blanche</td>\n      <td>39.32288</td>\n      <td>-76.72803</td>\n      <td>Woodlawn</td>\n      <td>US</td>\n      <td>True</td>\n    </tr>\n  </tbody>\n</table>\n</div>"
     },
     "metadata": {},
     "output_type": "display_data"
    }
   ],
   "source": [
    "single_dataset_trunc.datetime = pd.to_datetime(single_dataset_trunc.datetime)\n",
    "single_dataset_hours = Hour.generate_feature(single_dataset_trunc.copy())\n",
    "display(single_dataset_hours.sample(10))"
   ],
   "metadata": {
    "collapsed": false,
    "pycharm": {
     "name": "#%%\n"
    }
   }
  },
  {
   "cell_type": "markdown",
   "source": [
    "# Aggregating data\n",
    "- Across multiple dataframes"
   ],
   "metadata": {
    "collapsed": false,
    "pycharm": {
     "name": "#%% md\n"
    }
   }
  },
  {
   "cell_type": "code",
   "execution_count": 4,
   "outputs": [
    {
     "name": "stdout",
     "output_type": "stream",
     "text": [
      "\n",
      " RELATIONSHIPS:\n",
      "transactions.product_id -> products.product_id\n",
      "\n"
     ]
    },
    {
     "data": {
      "text/plain": "   product_id  count\n0           4    106\n1           5    104\n2           1    102\n3           3     96\n4           2     92",
      "text/html": "<div>\n<style scoped>\n    .dataframe tbody tr th:only-of-type {\n        vertical-align: middle;\n    }\n\n    .dataframe tbody tr th {\n        vertical-align: top;\n    }\n\n    .dataframe thead th {\n        text-align: right;\n    }\n</style>\n<table border=\"1\" class=\"dataframe\">\n  <thead>\n    <tr style=\"text-align: right;\">\n      <th></th>\n      <th>product_id</th>\n      <th>count</th>\n    </tr>\n  </thead>\n  <tbody>\n    <tr>\n      <th>0</th>\n      <td>4</td>\n      <td>106</td>\n    </tr>\n    <tr>\n      <th>1</th>\n      <td>5</td>\n      <td>104</td>\n    </tr>\n    <tr>\n      <th>2</th>\n      <td>1</td>\n      <td>102</td>\n    </tr>\n    <tr>\n      <th>3</th>\n      <td>3</td>\n      <td>96</td>\n    </tr>\n    <tr>\n      <th>4</th>\n      <td>2</td>\n      <td>92</td>\n    </tr>\n  </tbody>\n</table>\n</div>"
     },
     "metadata": {},
     "output_type": "display_data"
    }
   ],
   "source": [
    "transactions = pd.read_csv(\"data/ml_tools_multiiple_tables_dataset/transactions.csv\")\n",
    "products = pd.read_csv(\"data/ml_tools_multiiple_tables_dataset/products.csv\")\n",
    "\n",
    "tp_agg = SimpleAggregator(transactions,\n",
    "                          products,\n",
    "                          label1='transactions',\n",
    "                          label2='products')\n",
    "tp_agg.new_relationship('product_id', 'product_id')\n",
    "print(tp_agg.relationships)\n",
    "\n",
    "agg = tp_agg.aggregate()\n",
    "display(agg)"
   ],
   "metadata": {
    "collapsed": false,
    "pycharm": {
     "name": "#%%\n"
    }
   }
  },
  {
   "cell_type": "markdown",
   "source": [
    "# Aggregating data\n",
    "- In one dataframe"
   ],
   "metadata": {
    "collapsed": false
   }
  },
  {
   "cell_type": "code",
   "execution_count": 5,
   "outputs": [
    {
     "data": {
      "text/plain": "    currency  count\n0        TJS    677\n1        CAD    667\n2        VUV    667\n3        NAD    666\n4        CZK    664\n..       ...    ...\n159      SLL    557\n160      LTL    556\n161      PAB    542\n162      AUD    541\n163      KYD    540\n\n[164 rows x 2 columns]",
      "text/html": "<div>\n<style scoped>\n    .dataframe tbody tr th:only-of-type {\n        vertical-align: middle;\n    }\n\n    .dataframe tbody tr th {\n        vertical-align: top;\n    }\n\n    .dataframe thead th {\n        text-align: right;\n    }\n</style>\n<table border=\"1\" class=\"dataframe\">\n  <thead>\n    <tr style=\"text-align: right;\">\n      <th></th>\n      <th>currency</th>\n      <th>count</th>\n    </tr>\n  </thead>\n  <tbody>\n    <tr>\n      <th>0</th>\n      <td>TJS</td>\n      <td>677</td>\n    </tr>\n    <tr>\n      <th>1</th>\n      <td>CAD</td>\n      <td>667</td>\n    </tr>\n    <tr>\n      <th>2</th>\n      <td>VUV</td>\n      <td>667</td>\n    </tr>\n    <tr>\n      <th>3</th>\n      <td>NAD</td>\n      <td>666</td>\n    </tr>\n    <tr>\n      <th>4</th>\n      <td>CZK</td>\n      <td>664</td>\n    </tr>\n    <tr>\n      <th>...</th>\n      <td>...</td>\n      <td>...</td>\n    </tr>\n    <tr>\n      <th>159</th>\n      <td>SLL</td>\n      <td>557</td>\n    </tr>\n    <tr>\n      <th>160</th>\n      <td>LTL</td>\n      <td>556</td>\n    </tr>\n    <tr>\n      <th>161</th>\n      <td>PAB</td>\n      <td>542</td>\n    </tr>\n    <tr>\n      <th>162</th>\n      <td>AUD</td>\n      <td>541</td>\n    </tr>\n    <tr>\n      <th>163</th>\n      <td>KYD</td>\n      <td>540</td>\n    </tr>\n  </tbody>\n</table>\n<p>164 rows × 2 columns</p>\n</div>"
     },
     "metadata": {},
     "output_type": "display_data"
    }
   ],
   "source": [
    "single_agg = SingleAggregator(single_dataset, 'fraud', 'currency')\n",
    "currency_agg = single_agg.aggregate()\n",
    "\n",
    "display(currency_agg)\n"
   ],
   "metadata": {
    "collapsed": false,
    "pycharm": {
     "name": "#%%\n"
    }
   }
  },
  {
   "cell_type": "markdown",
   "source": [
    "# Custom feature generators"
   ],
   "metadata": {
    "collapsed": false
   }
  },
  {
   "cell_type": "code",
   "execution_count": 6,
   "outputs": [
    {
     "data": {
      "text/plain": "          id  card_id  store_id            datetime  amount currency  \\\n39382  39382     9070      5976 2019-04-30 14:57:35   21229      SCR   \n45348  45348    29776      7172 2019-06-24 03:08:05   17410      ILS   \n65247  65247    26345      4021 2019-05-07 17:29:37   45881      BSD   \n51107  51107    10843      4922 2019-07-25 02:27:40   29776      JOD   \n71414  71414     7944      6229 2019-07-20 20:32:24   87390      CVE   \n...      ...      ...       ...                 ...     ...      ...   \n66186  66186     2481      2481 2019-04-15 06:02:14   42906      ZMW   \n44059  44059    18976      4859 2019-04-02 22:03:09   92661      KGS   \n81931  81931     3076      7182 2019-07-21 01:17:13   10664      BGN   \n55244  55244     9217      3620 2019-07-22 14:10:37   43417      SAR   \n45006  45006    12721      7955 2019-07-17 20:59:35   72908      PYG   \n\n       customer_present          provider       lat        lng  \\\n39382             False      JCB 15 digit  36.02506  -86.77917   \n45348              True      JCB 15 digit  12.12770   78.15794   \n65247              True        Mastercard  34.31000   -2.16000   \n51107             False      JCB 16 digit  40.63316  -74.13653   \n71414             False        Mastercard  24.81757   84.63445   \n...                 ...               ...       ...        ...   \n66186             False           Maestro  46.32313   -0.45877   \n44059             False     VISA 16 digit  27.85000  112.90000   \n81931              True      JCB 16 digit  20.28527 -103.42897   \n55244             False  American Express   6.25947  102.05461   \n45006              True      JCB 16 digit  20.88953 -156.47432   \n\n                  region country  fraud  amount_squared  \n39382  Brentwood Estates      US  False       450670441  \n45348         Dharmapuri      IN  False       303108100  \n65247             Jerada      MA  False      2105066161  \n51107      Port Richmond      US  False       886610176  \n71414           Rafiganj      IN  False      7637012100  \n...                  ...     ...    ...             ...  \n66186              Niort      FR  False      1840924836  \n44059           Xiangtan      CN   True      8586060921  \n81931          Jocotepec      MX  False       113720896  \n55244            Tak Bai      TH  False      1885035889  \n45006            Kahului      US  False      5315576464  \n\n[200 rows x 14 columns]",
      "text/html": "<div>\n<style scoped>\n    .dataframe tbody tr th:only-of-type {\n        vertical-align: middle;\n    }\n\n    .dataframe tbody tr th {\n        vertical-align: top;\n    }\n\n    .dataframe thead th {\n        text-align: right;\n    }\n</style>\n<table border=\"1\" class=\"dataframe\">\n  <thead>\n    <tr style=\"text-align: right;\">\n      <th></th>\n      <th>id</th>\n      <th>card_id</th>\n      <th>store_id</th>\n      <th>datetime</th>\n      <th>amount</th>\n      <th>currency</th>\n      <th>customer_present</th>\n      <th>provider</th>\n      <th>lat</th>\n      <th>lng</th>\n      <th>region</th>\n      <th>country</th>\n      <th>fraud</th>\n      <th>amount_squared</th>\n    </tr>\n  </thead>\n  <tbody>\n    <tr>\n      <th>39382</th>\n      <td>39382</td>\n      <td>9070</td>\n      <td>5976</td>\n      <td>2019-04-30 14:57:35</td>\n      <td>21229</td>\n      <td>SCR</td>\n      <td>False</td>\n      <td>JCB 15 digit</td>\n      <td>36.02506</td>\n      <td>-86.77917</td>\n      <td>Brentwood Estates</td>\n      <td>US</td>\n      <td>False</td>\n      <td>450670441</td>\n    </tr>\n    <tr>\n      <th>45348</th>\n      <td>45348</td>\n      <td>29776</td>\n      <td>7172</td>\n      <td>2019-06-24 03:08:05</td>\n      <td>17410</td>\n      <td>ILS</td>\n      <td>True</td>\n      <td>JCB 15 digit</td>\n      <td>12.12770</td>\n      <td>78.15794</td>\n      <td>Dharmapuri</td>\n      <td>IN</td>\n      <td>False</td>\n      <td>303108100</td>\n    </tr>\n    <tr>\n      <th>65247</th>\n      <td>65247</td>\n      <td>26345</td>\n      <td>4021</td>\n      <td>2019-05-07 17:29:37</td>\n      <td>45881</td>\n      <td>BSD</td>\n      <td>True</td>\n      <td>Mastercard</td>\n      <td>34.31000</td>\n      <td>-2.16000</td>\n      <td>Jerada</td>\n      <td>MA</td>\n      <td>False</td>\n      <td>2105066161</td>\n    </tr>\n    <tr>\n      <th>51107</th>\n      <td>51107</td>\n      <td>10843</td>\n      <td>4922</td>\n      <td>2019-07-25 02:27:40</td>\n      <td>29776</td>\n      <td>JOD</td>\n      <td>False</td>\n      <td>JCB 16 digit</td>\n      <td>40.63316</td>\n      <td>-74.13653</td>\n      <td>Port Richmond</td>\n      <td>US</td>\n      <td>False</td>\n      <td>886610176</td>\n    </tr>\n    <tr>\n      <th>71414</th>\n      <td>71414</td>\n      <td>7944</td>\n      <td>6229</td>\n      <td>2019-07-20 20:32:24</td>\n      <td>87390</td>\n      <td>CVE</td>\n      <td>False</td>\n      <td>Mastercard</td>\n      <td>24.81757</td>\n      <td>84.63445</td>\n      <td>Rafiganj</td>\n      <td>IN</td>\n      <td>False</td>\n      <td>7637012100</td>\n    </tr>\n    <tr>\n      <th>...</th>\n      <td>...</td>\n      <td>...</td>\n      <td>...</td>\n      <td>...</td>\n      <td>...</td>\n      <td>...</td>\n      <td>...</td>\n      <td>...</td>\n      <td>...</td>\n      <td>...</td>\n      <td>...</td>\n      <td>...</td>\n      <td>...</td>\n      <td>...</td>\n    </tr>\n    <tr>\n      <th>66186</th>\n      <td>66186</td>\n      <td>2481</td>\n      <td>2481</td>\n      <td>2019-04-15 06:02:14</td>\n      <td>42906</td>\n      <td>ZMW</td>\n      <td>False</td>\n      <td>Maestro</td>\n      <td>46.32313</td>\n      <td>-0.45877</td>\n      <td>Niort</td>\n      <td>FR</td>\n      <td>False</td>\n      <td>1840924836</td>\n    </tr>\n    <tr>\n      <th>44059</th>\n      <td>44059</td>\n      <td>18976</td>\n      <td>4859</td>\n      <td>2019-04-02 22:03:09</td>\n      <td>92661</td>\n      <td>KGS</td>\n      <td>False</td>\n      <td>VISA 16 digit</td>\n      <td>27.85000</td>\n      <td>112.90000</td>\n      <td>Xiangtan</td>\n      <td>CN</td>\n      <td>True</td>\n      <td>8586060921</td>\n    </tr>\n    <tr>\n      <th>81931</th>\n      <td>81931</td>\n      <td>3076</td>\n      <td>7182</td>\n      <td>2019-07-21 01:17:13</td>\n      <td>10664</td>\n      <td>BGN</td>\n      <td>True</td>\n      <td>JCB 16 digit</td>\n      <td>20.28527</td>\n      <td>-103.42897</td>\n      <td>Jocotepec</td>\n      <td>MX</td>\n      <td>False</td>\n      <td>113720896</td>\n    </tr>\n    <tr>\n      <th>55244</th>\n      <td>55244</td>\n      <td>9217</td>\n      <td>3620</td>\n      <td>2019-07-22 14:10:37</td>\n      <td>43417</td>\n      <td>SAR</td>\n      <td>False</td>\n      <td>American Express</td>\n      <td>6.25947</td>\n      <td>102.05461</td>\n      <td>Tak Bai</td>\n      <td>TH</td>\n      <td>False</td>\n      <td>1885035889</td>\n    </tr>\n    <tr>\n      <th>45006</th>\n      <td>45006</td>\n      <td>12721</td>\n      <td>7955</td>\n      <td>2019-07-17 20:59:35</td>\n      <td>72908</td>\n      <td>PYG</td>\n      <td>True</td>\n      <td>JCB 16 digit</td>\n      <td>20.88953</td>\n      <td>-156.47432</td>\n      <td>Kahului</td>\n      <td>US</td>\n      <td>False</td>\n      <td>5315576464</td>\n    </tr>\n  </tbody>\n</table>\n<p>200 rows × 14 columns</p>\n</div>"
     },
     "metadata": {},
     "output_type": "display_data"
    }
   ],
   "source": [
    "def square_column(data, column):\n",
    "    data[column+'_squared'] = data[column] * data[column]\n",
    "    return data\n",
    "\n",
    "cust_generator = custom_generator(square_column)\n",
    "\n",
    "new_data = cust_generator.generate_feature(single_dataset_trunc.copy(), 'amount')\n",
    "\n",
    "display(new_data)"
   ],
   "metadata": {
    "collapsed": false,
    "pycharm": {
     "name": "#%%\n"
    }
   }
  },
  {
   "cell_type": "markdown",
   "source": [
    "# Average aggregator"
   ],
   "metadata": {
    "collapsed": false
   }
  },
  {
   "cell_type": "code",
   "execution_count": 7,
   "outputs": [
    {
     "data": {
      "text/plain": "      species  count  sepal_length_avg  sepal_width_avg  petal_length_avg  \\\n0      setosa     50             5.006            3.428             1.462   \n1  versicolor     50             5.936            2.770             4.260   \n2   virginica     50             6.588            2.974             5.552   \n\n   petal_width_avg  \n0            0.246  \n1            1.326  \n2            2.026  ",
      "text/html": "<div>\n<style scoped>\n    .dataframe tbody tr th:only-of-type {\n        vertical-align: middle;\n    }\n\n    .dataframe tbody tr th {\n        vertical-align: top;\n    }\n\n    .dataframe thead th {\n        text-align: right;\n    }\n</style>\n<table border=\"1\" class=\"dataframe\">\n  <thead>\n    <tr style=\"text-align: right;\">\n      <th></th>\n      <th>species</th>\n      <th>count</th>\n      <th>sepal_length_avg</th>\n      <th>sepal_width_avg</th>\n      <th>petal_length_avg</th>\n      <th>petal_width_avg</th>\n    </tr>\n  </thead>\n  <tbody>\n    <tr>\n      <th>0</th>\n      <td>setosa</td>\n      <td>50</td>\n      <td>5.006</td>\n      <td>3.428</td>\n      <td>1.462</td>\n      <td>0.246</td>\n    </tr>\n    <tr>\n      <th>1</th>\n      <td>versicolor</td>\n      <td>50</td>\n      <td>5.936</td>\n      <td>2.770</td>\n      <td>4.260</td>\n      <td>1.326</td>\n    </tr>\n    <tr>\n      <th>2</th>\n      <td>virginica</td>\n      <td>50</td>\n      <td>6.588</td>\n      <td>2.974</td>\n      <td>5.552</td>\n      <td>2.026</td>\n    </tr>\n  </tbody>\n</table>\n</div>"
     },
     "metadata": {},
     "output_type": "display_data"
    }
   ],
   "source": [
    "iris = sns.load_dataset('iris')\n",
    "key = 'species'\n",
    "\n",
    "avg_agg = Average(iris, key, label='iris')\n",
    "\n",
    "averages = avg_agg.aggregate()\n",
    "display(averages)"
   ],
   "metadata": {
    "collapsed": false,
    "pycharm": {
     "name": "#%%\n"
    }
   }
  }
 ],
 "metadata": {
  "kernelspec": {
   "name": "pycharm-ef99d5ee",
   "language": "python",
   "display_name": "PyCharm (ml_tools_take_home)"
  },
  "language_info": {
   "codemirror_mode": {
    "name": "ipython",
    "version": 2
   },
   "file_extension": ".py",
   "mimetype": "text/x-python",
   "name": "python",
   "nbconvert_exporter": "python",
   "pygments_lexer": "ipython2",
   "version": "2.7.6"
  }
 },
 "nbformat": 4,
 "nbformat_minor": 0
}