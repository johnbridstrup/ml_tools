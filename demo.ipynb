{
 "cells": [
  {
   "cell_type": "code",
   "execution_count": 1,
   "metadata": {
    "collapsed": true
   },
   "outputs": [],
   "source": [
    "from IPython.display import display\n",
    "from ml_tools import SimpleAggregator, \\\n",
    "    Hour, \\\n",
    "    SingleAggregator, \\\n",
    "    custom_generator, \\\n",
    "    Average, \\\n",
    "    DateTimeInfo, \\\n",
    "    ZipCodeInfo\n",
    "import pandas as pd\n",
    "import seaborn as sns"
   ]
  },
  {
   "cell_type": "markdown",
   "source": [
    "# Transforming features"
   ],
   "metadata": {
    "collapsed": false,
    "pycharm": {
     "name": "#%% md\n"
    }
   }
  },
  {
   "cell_type": "code",
   "execution_count": 2,
   "outputs": [
    {
     "data": {
      "text/plain": "          id  card_id  store_id             datetime  amount currency  \\\n13592  13592     9995      7414  2019-04-27 02:36:57   67881      WST   \n8108    8108    30910      4595  2019-02-15 19:29:00   94381      UYU   \n34158  34158     5615      5615  2019-06-05 07:42:11   21828      ERN   \n18397  18397    14912      2155  2019-06-22 20:05:24   12934      ILS   \n53159  53159    32195      4320  2019-01-05 07:21:59   80213      MUR   \n18038  18038    27348      8548  2019-07-23 14:20:55   18296      ANG   \n33817  33817    19051      8556  2019-01-15 03:12:28    5324      SEK   \n54614  54614    11452      2838  2019-05-02 20:29:24   66015      BTN   \n95992  95992     4537      4537  2019-06-07 01:26:40   82697      CUP   \n98728  98728    15764      6956  2019-04-06 17:52:33   44563      SZL   \n\n       customer_present                     provider       lat        lng  \\\n13592             False                VISA 16 digit  36.64852   51.49621   \n8108               True  Diners Club / Carte Blanche  55.87360   85.42650   \n34158              True                      Maestro  51.65333    5.28750   \n18397              True  Diners Club / Carte Blanche  15.54390   73.75530   \n53159              True                 JCB 16 digit  15.79408  104.14510   \n18038             False                   Mastercard  48.90982    2.45012   \n33817              True  Diners Club / Carte Blanche  30.17746  -81.38758   \n54614             False  Diners Club / Carte Blanche   6.46838  -73.26022   \n95992              True                VISA 16 digit  33.42585   -6.00137   \n98728             False             American Express  14.62578  121.12251   \n\n            region country  fraud  \n13592     Nowshahr      IR  False  \n8108      Yashkino      RU   True  \n34158        Vught      NL  False  \n18397    Calangute      IN  False  \n53159     Yasothon      TH  False  \n18038      Bobigny      FR  False  \n33817  Palm Valley      US  False  \n54614      Socorro      CO  False  \n95992       Oulmes      MA  False  \n98728     Antipolo      PH  False  ",
      "text/html": "<div>\n<style scoped>\n    .dataframe tbody tr th:only-of-type {\n        vertical-align: middle;\n    }\n\n    .dataframe tbody tr th {\n        vertical-align: top;\n    }\n\n    .dataframe thead th {\n        text-align: right;\n    }\n</style>\n<table border=\"1\" class=\"dataframe\">\n  <thead>\n    <tr style=\"text-align: right;\">\n      <th></th>\n      <th>id</th>\n      <th>card_id</th>\n      <th>store_id</th>\n      <th>datetime</th>\n      <th>amount</th>\n      <th>currency</th>\n      <th>customer_present</th>\n      <th>provider</th>\n      <th>lat</th>\n      <th>lng</th>\n      <th>region</th>\n      <th>country</th>\n      <th>fraud</th>\n    </tr>\n  </thead>\n  <tbody>\n    <tr>\n      <th>13592</th>\n      <td>13592</td>\n      <td>9995</td>\n      <td>7414</td>\n      <td>2019-04-27 02:36:57</td>\n      <td>67881</td>\n      <td>WST</td>\n      <td>False</td>\n      <td>VISA 16 digit</td>\n      <td>36.64852</td>\n      <td>51.49621</td>\n      <td>Nowshahr</td>\n      <td>IR</td>\n      <td>False</td>\n    </tr>\n    <tr>\n      <th>8108</th>\n      <td>8108</td>\n      <td>30910</td>\n      <td>4595</td>\n      <td>2019-02-15 19:29:00</td>\n      <td>94381</td>\n      <td>UYU</td>\n      <td>True</td>\n      <td>Diners Club / Carte Blanche</td>\n      <td>55.87360</td>\n      <td>85.42650</td>\n      <td>Yashkino</td>\n      <td>RU</td>\n      <td>True</td>\n    </tr>\n    <tr>\n      <th>34158</th>\n      <td>34158</td>\n      <td>5615</td>\n      <td>5615</td>\n      <td>2019-06-05 07:42:11</td>\n      <td>21828</td>\n      <td>ERN</td>\n      <td>True</td>\n      <td>Maestro</td>\n      <td>51.65333</td>\n      <td>5.28750</td>\n      <td>Vught</td>\n      <td>NL</td>\n      <td>False</td>\n    </tr>\n    <tr>\n      <th>18397</th>\n      <td>18397</td>\n      <td>14912</td>\n      <td>2155</td>\n      <td>2019-06-22 20:05:24</td>\n      <td>12934</td>\n      <td>ILS</td>\n      <td>True</td>\n      <td>Diners Club / Carte Blanche</td>\n      <td>15.54390</td>\n      <td>73.75530</td>\n      <td>Calangute</td>\n      <td>IN</td>\n      <td>False</td>\n    </tr>\n    <tr>\n      <th>53159</th>\n      <td>53159</td>\n      <td>32195</td>\n      <td>4320</td>\n      <td>2019-01-05 07:21:59</td>\n      <td>80213</td>\n      <td>MUR</td>\n      <td>True</td>\n      <td>JCB 16 digit</td>\n      <td>15.79408</td>\n      <td>104.14510</td>\n      <td>Yasothon</td>\n      <td>TH</td>\n      <td>False</td>\n    </tr>\n    <tr>\n      <th>18038</th>\n      <td>18038</td>\n      <td>27348</td>\n      <td>8548</td>\n      <td>2019-07-23 14:20:55</td>\n      <td>18296</td>\n      <td>ANG</td>\n      <td>False</td>\n      <td>Mastercard</td>\n      <td>48.90982</td>\n      <td>2.45012</td>\n      <td>Bobigny</td>\n      <td>FR</td>\n      <td>False</td>\n    </tr>\n    <tr>\n      <th>33817</th>\n      <td>33817</td>\n      <td>19051</td>\n      <td>8556</td>\n      <td>2019-01-15 03:12:28</td>\n      <td>5324</td>\n      <td>SEK</td>\n      <td>True</td>\n      <td>Diners Club / Carte Blanche</td>\n      <td>30.17746</td>\n      <td>-81.38758</td>\n      <td>Palm Valley</td>\n      <td>US</td>\n      <td>False</td>\n    </tr>\n    <tr>\n      <th>54614</th>\n      <td>54614</td>\n      <td>11452</td>\n      <td>2838</td>\n      <td>2019-05-02 20:29:24</td>\n      <td>66015</td>\n      <td>BTN</td>\n      <td>False</td>\n      <td>Diners Club / Carte Blanche</td>\n      <td>6.46838</td>\n      <td>-73.26022</td>\n      <td>Socorro</td>\n      <td>CO</td>\n      <td>False</td>\n    </tr>\n    <tr>\n      <th>95992</th>\n      <td>95992</td>\n      <td>4537</td>\n      <td>4537</td>\n      <td>2019-06-07 01:26:40</td>\n      <td>82697</td>\n      <td>CUP</td>\n      <td>True</td>\n      <td>VISA 16 digit</td>\n      <td>33.42585</td>\n      <td>-6.00137</td>\n      <td>Oulmes</td>\n      <td>MA</td>\n      <td>False</td>\n    </tr>\n    <tr>\n      <th>98728</th>\n      <td>98728</td>\n      <td>15764</td>\n      <td>6956</td>\n      <td>2019-04-06 17:52:33</td>\n      <td>44563</td>\n      <td>SZL</td>\n      <td>False</td>\n      <td>American Express</td>\n      <td>14.62578</td>\n      <td>121.12251</td>\n      <td>Antipolo</td>\n      <td>PH</td>\n      <td>False</td>\n    </tr>\n  </tbody>\n</table>\n</div>"
     },
     "metadata": {},
     "output_type": "display_data"
    }
   ],
   "source": [
    "single_dataset = pd.read_csv(\"data/ml_tools_single_table_dataset/fraud.csv\")\n",
    "display(single_dataset.sample(10))\n",
    "## too big to run quickly (also unnecessary for the demo)\n",
    "single_dataset_trunc = single_dataset.sample(200)"
   ],
   "metadata": {
    "collapsed": false,
    "pycharm": {
     "name": "#%%\n"
    }
   }
  },
  {
   "cell_type": "code",
   "execution_count": 3,
   "outputs": [
    {
     "name": "stderr",
     "output_type": "stream",
     "text": [
      "/Users/john/Projects/Programming/ml_tools/ml_tools/feature_generator.py:74: SettingWithCopyWarning: \n",
      "A value is trying to be set on a copy of a slice from a DataFrame\n",
      "\n",
      "See the caveats in the documentation: https://pandas.pydata.org/pandas-docs/stable/user_guide/indexing.html#returning-a-view-versus-a-copy\n",
      "  data.iloc[:, idx][index] = time.hour\n"
     ]
    },
    {
     "data": {
      "text/plain": "          id  card_id  store_id datetime  amount currency  customer_present  \\\n20961  20961     9873      4400       20   41356      GEL             False   \n44995  44995    27177      5840        4   60808      EGP             False   \n52653  52653    26958      7981       13   21756      AWG             False   \n96239  96239     1458      1458        3   48272      TVD             False   \n34546  34546     5944      5944        7   70584      AOA             False   \n63963  63963    18995      6797       14    8556      BWP              True   \n14431  14431    14397      1632       19   23714      ILS              True   \n77276  77276    30141      4841       14   60137      KRW              True   \n13260  13260     3534      2192       21   48831      JOD              True   \n31328  31328    13609      1028       20   50593      IQD             False   \n\n                          provider       lat        lng         region  \\\n20961                   Mastercard -37.88333  145.06667       Carnegie   \n44995                   Mastercard  37.08819   -8.25030      Albufeira   \n52653             American Express  41.15612    1.10687           Reus   \n96239             American Express  49.97704    9.15214  Aschaffenburg   \n34546                VISA 16 digit  37.30553  120.82747     Zhuangyuan   \n63963  Diners Club / Carte Blanche  56.03361   35.96944    Volokolamsk   \n14431                 JCB 15 digit  32.35126  -95.30106          Tyler   \n77276                VISA 13 digit  35.61452  -88.81395        Jackson   \n13260                 JCB 16 digit  53.16167    6.76111      Hoogezand   \n31328  Diners Club / Carte Blanche  43.50891   16.43915          Split   \n\n      country  fraud  \n20961      AU  False  \n44995      PT  False  \n52653      ES  False  \n96239      DE  False  \n34546      CN  False  \n63963      RU  False  \n14431      US  False  \n77276      US  False  \n13260      NL  False  \n31328      HR   True  ",
      "text/html": "<div>\n<style scoped>\n    .dataframe tbody tr th:only-of-type {\n        vertical-align: middle;\n    }\n\n    .dataframe tbody tr th {\n        vertical-align: top;\n    }\n\n    .dataframe thead th {\n        text-align: right;\n    }\n</style>\n<table border=\"1\" class=\"dataframe\">\n  <thead>\n    <tr style=\"text-align: right;\">\n      <th></th>\n      <th>id</th>\n      <th>card_id</th>\n      <th>store_id</th>\n      <th>datetime</th>\n      <th>amount</th>\n      <th>currency</th>\n      <th>customer_present</th>\n      <th>provider</th>\n      <th>lat</th>\n      <th>lng</th>\n      <th>region</th>\n      <th>country</th>\n      <th>fraud</th>\n    </tr>\n  </thead>\n  <tbody>\n    <tr>\n      <th>20961</th>\n      <td>20961</td>\n      <td>9873</td>\n      <td>4400</td>\n      <td>20</td>\n      <td>41356</td>\n      <td>GEL</td>\n      <td>False</td>\n      <td>Mastercard</td>\n      <td>-37.88333</td>\n      <td>145.06667</td>\n      <td>Carnegie</td>\n      <td>AU</td>\n      <td>False</td>\n    </tr>\n    <tr>\n      <th>44995</th>\n      <td>44995</td>\n      <td>27177</td>\n      <td>5840</td>\n      <td>4</td>\n      <td>60808</td>\n      <td>EGP</td>\n      <td>False</td>\n      <td>Mastercard</td>\n      <td>37.08819</td>\n      <td>-8.25030</td>\n      <td>Albufeira</td>\n      <td>PT</td>\n      <td>False</td>\n    </tr>\n    <tr>\n      <th>52653</th>\n      <td>52653</td>\n      <td>26958</td>\n      <td>7981</td>\n      <td>13</td>\n      <td>21756</td>\n      <td>AWG</td>\n      <td>False</td>\n      <td>American Express</td>\n      <td>41.15612</td>\n      <td>1.10687</td>\n      <td>Reus</td>\n      <td>ES</td>\n      <td>False</td>\n    </tr>\n    <tr>\n      <th>96239</th>\n      <td>96239</td>\n      <td>1458</td>\n      <td>1458</td>\n      <td>3</td>\n      <td>48272</td>\n      <td>TVD</td>\n      <td>False</td>\n      <td>American Express</td>\n      <td>49.97704</td>\n      <td>9.15214</td>\n      <td>Aschaffenburg</td>\n      <td>DE</td>\n      <td>False</td>\n    </tr>\n    <tr>\n      <th>34546</th>\n      <td>34546</td>\n      <td>5944</td>\n      <td>5944</td>\n      <td>7</td>\n      <td>70584</td>\n      <td>AOA</td>\n      <td>False</td>\n      <td>VISA 16 digit</td>\n      <td>37.30553</td>\n      <td>120.82747</td>\n      <td>Zhuangyuan</td>\n      <td>CN</td>\n      <td>False</td>\n    </tr>\n    <tr>\n      <th>63963</th>\n      <td>63963</td>\n      <td>18995</td>\n      <td>6797</td>\n      <td>14</td>\n      <td>8556</td>\n      <td>BWP</td>\n      <td>True</td>\n      <td>Diners Club / Carte Blanche</td>\n      <td>56.03361</td>\n      <td>35.96944</td>\n      <td>Volokolamsk</td>\n      <td>RU</td>\n      <td>False</td>\n    </tr>\n    <tr>\n      <th>14431</th>\n      <td>14431</td>\n      <td>14397</td>\n      <td>1632</td>\n      <td>19</td>\n      <td>23714</td>\n      <td>ILS</td>\n      <td>True</td>\n      <td>JCB 15 digit</td>\n      <td>32.35126</td>\n      <td>-95.30106</td>\n      <td>Tyler</td>\n      <td>US</td>\n      <td>False</td>\n    </tr>\n    <tr>\n      <th>77276</th>\n      <td>77276</td>\n      <td>30141</td>\n      <td>4841</td>\n      <td>14</td>\n      <td>60137</td>\n      <td>KRW</td>\n      <td>True</td>\n      <td>VISA 13 digit</td>\n      <td>35.61452</td>\n      <td>-88.81395</td>\n      <td>Jackson</td>\n      <td>US</td>\n      <td>False</td>\n    </tr>\n    <tr>\n      <th>13260</th>\n      <td>13260</td>\n      <td>3534</td>\n      <td>2192</td>\n      <td>21</td>\n      <td>48831</td>\n      <td>JOD</td>\n      <td>True</td>\n      <td>JCB 16 digit</td>\n      <td>53.16167</td>\n      <td>6.76111</td>\n      <td>Hoogezand</td>\n      <td>NL</td>\n      <td>False</td>\n    </tr>\n    <tr>\n      <th>31328</th>\n      <td>31328</td>\n      <td>13609</td>\n      <td>1028</td>\n      <td>20</td>\n      <td>50593</td>\n      <td>IQD</td>\n      <td>False</td>\n      <td>Diners Club / Carte Blanche</td>\n      <td>43.50891</td>\n      <td>16.43915</td>\n      <td>Split</td>\n      <td>HR</td>\n      <td>True</td>\n    </tr>\n  </tbody>\n</table>\n</div>"
     },
     "metadata": {},
     "output_type": "display_data"
    }
   ],
   "source": [
    "single_dataset_hours = Hour.generate_feature(single_dataset_trunc.copy())\n",
    "display(single_dataset_hours.sample(10))"
   ],
   "metadata": {
    "collapsed": false,
    "pycharm": {
     "name": "#%%\n"
    }
   }
  },
  {
   "cell_type": "markdown",
   "source": [
    "# Splitting data\n",
    "- Splitting timestamps into multiple features"
   ],
   "metadata": {
    "collapsed": false,
    "pycharm": {
     "name": "#%% md\n"
    }
   }
  },
  {
   "cell_type": "code",
   "execution_count": 4,
   "outputs": [
    {
     "data": {
      "text/plain": "          id  card_id  store_id  amount currency  customer_present  \\\n29386  29386    30140      4160   64859      MRO              True   \n98491  98491    30471      4124   85263      RSD              True   \n89669  89669    11797      4890   49288      ETB             False   \n84653  84653    19735      1070   71405      WST             False   \n25138  25138     8992      8992   76175      BTN              True   \n77108  77108    18090      8260   64688      TWD             False   \n44757  44757    10360      9515   30243      MNT              True   \n77765  77765    25034      6006   91459      TND              True   \n3294    3294     6575      7446   56821      LRD             False   \n97817  97817    31062      3380   99333      RWF             False   \n\n               provider       lat        lng         region country  fraud  \\\n29386     VISA 16 digit  41.20485   -8.33147        Paredes      PT  False   \n98491     VISA 19 digit   3.31332  117.59152        Tarakan      ID  False   \n89669      JCB 16 digit  12.74409   -8.07257           Kati      ML  False   \n84653     VISA 13 digit  35.21222    2.31889  Ksar Chellala      DZ  False   \n25138  American Express  48.98994    2.16990        Herblay      FR  False   \n77108           Maestro  51.88333    8.51667           Verl      DE  False   \n44757           Maestro  35.74788  -95.36969       Muskogee      US  False   \n77765     VISA 16 digit   0.03813   36.36339      Nyahururu      KE   True   \n3294            Maestro  50.86079   17.46740          Brzeg      PL  False   \n97817  American Express  36.33011  138.89585         Annaka      JP   True   \n\n       datetime_year  datetime_month  datetime_day  datetime_weekday  \\\n29386           2019               2            15                 4   \n98491           2019               2            25                 0   \n89669           2019               7             7                 6   \n84653           2019               4             5                 4   \n25138           2019               7            23                 1   \n77108           2019               1            19                 5   \n44757           2019               3            29                 4   \n77765           2019               3            22                 4   \n3294            2019               4             8                 0   \n97817           2019               3            17                 6   \n\n      datetime_time  \n29386      15:13:29  \n98491      01:27:13  \n89669      12:16:44  \n84653      21:07:19  \n25138      10:41:36  \n77108      11:45:04  \n44757      01:22:00  \n77765      22:27:09  \n3294       05:19:04  \n97817      09:21:48  ",
      "text/html": "<div>\n<style scoped>\n    .dataframe tbody tr th:only-of-type {\n        vertical-align: middle;\n    }\n\n    .dataframe tbody tr th {\n        vertical-align: top;\n    }\n\n    .dataframe thead th {\n        text-align: right;\n    }\n</style>\n<table border=\"1\" class=\"dataframe\">\n  <thead>\n    <tr style=\"text-align: right;\">\n      <th></th>\n      <th>id</th>\n      <th>card_id</th>\n      <th>store_id</th>\n      <th>amount</th>\n      <th>currency</th>\n      <th>customer_present</th>\n      <th>provider</th>\n      <th>lat</th>\n      <th>lng</th>\n      <th>region</th>\n      <th>country</th>\n      <th>fraud</th>\n      <th>datetime_year</th>\n      <th>datetime_month</th>\n      <th>datetime_day</th>\n      <th>datetime_weekday</th>\n      <th>datetime_time</th>\n    </tr>\n  </thead>\n  <tbody>\n    <tr>\n      <th>29386</th>\n      <td>29386</td>\n      <td>30140</td>\n      <td>4160</td>\n      <td>64859</td>\n      <td>MRO</td>\n      <td>True</td>\n      <td>VISA 16 digit</td>\n      <td>41.20485</td>\n      <td>-8.33147</td>\n      <td>Paredes</td>\n      <td>PT</td>\n      <td>False</td>\n      <td>2019</td>\n      <td>2</td>\n      <td>15</td>\n      <td>4</td>\n      <td>15:13:29</td>\n    </tr>\n    <tr>\n      <th>98491</th>\n      <td>98491</td>\n      <td>30471</td>\n      <td>4124</td>\n      <td>85263</td>\n      <td>RSD</td>\n      <td>True</td>\n      <td>VISA 19 digit</td>\n      <td>3.31332</td>\n      <td>117.59152</td>\n      <td>Tarakan</td>\n      <td>ID</td>\n      <td>False</td>\n      <td>2019</td>\n      <td>2</td>\n      <td>25</td>\n      <td>0</td>\n      <td>01:27:13</td>\n    </tr>\n    <tr>\n      <th>89669</th>\n      <td>89669</td>\n      <td>11797</td>\n      <td>4890</td>\n      <td>49288</td>\n      <td>ETB</td>\n      <td>False</td>\n      <td>JCB 16 digit</td>\n      <td>12.74409</td>\n      <td>-8.07257</td>\n      <td>Kati</td>\n      <td>ML</td>\n      <td>False</td>\n      <td>2019</td>\n      <td>7</td>\n      <td>7</td>\n      <td>6</td>\n      <td>12:16:44</td>\n    </tr>\n    <tr>\n      <th>84653</th>\n      <td>84653</td>\n      <td>19735</td>\n      <td>1070</td>\n      <td>71405</td>\n      <td>WST</td>\n      <td>False</td>\n      <td>VISA 13 digit</td>\n      <td>35.21222</td>\n      <td>2.31889</td>\n      <td>Ksar Chellala</td>\n      <td>DZ</td>\n      <td>False</td>\n      <td>2019</td>\n      <td>4</td>\n      <td>5</td>\n      <td>4</td>\n      <td>21:07:19</td>\n    </tr>\n    <tr>\n      <th>25138</th>\n      <td>25138</td>\n      <td>8992</td>\n      <td>8992</td>\n      <td>76175</td>\n      <td>BTN</td>\n      <td>True</td>\n      <td>American Express</td>\n      <td>48.98994</td>\n      <td>2.16990</td>\n      <td>Herblay</td>\n      <td>FR</td>\n      <td>False</td>\n      <td>2019</td>\n      <td>7</td>\n      <td>23</td>\n      <td>1</td>\n      <td>10:41:36</td>\n    </tr>\n    <tr>\n      <th>77108</th>\n      <td>77108</td>\n      <td>18090</td>\n      <td>8260</td>\n      <td>64688</td>\n      <td>TWD</td>\n      <td>False</td>\n      <td>Maestro</td>\n      <td>51.88333</td>\n      <td>8.51667</td>\n      <td>Verl</td>\n      <td>DE</td>\n      <td>False</td>\n      <td>2019</td>\n      <td>1</td>\n      <td>19</td>\n      <td>5</td>\n      <td>11:45:04</td>\n    </tr>\n    <tr>\n      <th>44757</th>\n      <td>44757</td>\n      <td>10360</td>\n      <td>9515</td>\n      <td>30243</td>\n      <td>MNT</td>\n      <td>True</td>\n      <td>Maestro</td>\n      <td>35.74788</td>\n      <td>-95.36969</td>\n      <td>Muskogee</td>\n      <td>US</td>\n      <td>False</td>\n      <td>2019</td>\n      <td>3</td>\n      <td>29</td>\n      <td>4</td>\n      <td>01:22:00</td>\n    </tr>\n    <tr>\n      <th>77765</th>\n      <td>77765</td>\n      <td>25034</td>\n      <td>6006</td>\n      <td>91459</td>\n      <td>TND</td>\n      <td>True</td>\n      <td>VISA 16 digit</td>\n      <td>0.03813</td>\n      <td>36.36339</td>\n      <td>Nyahururu</td>\n      <td>KE</td>\n      <td>True</td>\n      <td>2019</td>\n      <td>3</td>\n      <td>22</td>\n      <td>4</td>\n      <td>22:27:09</td>\n    </tr>\n    <tr>\n      <th>3294</th>\n      <td>3294</td>\n      <td>6575</td>\n      <td>7446</td>\n      <td>56821</td>\n      <td>LRD</td>\n      <td>False</td>\n      <td>Maestro</td>\n      <td>50.86079</td>\n      <td>17.46740</td>\n      <td>Brzeg</td>\n      <td>PL</td>\n      <td>False</td>\n      <td>2019</td>\n      <td>4</td>\n      <td>8</td>\n      <td>0</td>\n      <td>05:19:04</td>\n    </tr>\n    <tr>\n      <th>97817</th>\n      <td>97817</td>\n      <td>31062</td>\n      <td>3380</td>\n      <td>99333</td>\n      <td>RWF</td>\n      <td>False</td>\n      <td>American Express</td>\n      <td>36.33011</td>\n      <td>138.89585</td>\n      <td>Annaka</td>\n      <td>JP</td>\n      <td>True</td>\n      <td>2019</td>\n      <td>3</td>\n      <td>17</td>\n      <td>6</td>\n      <td>09:21:48</td>\n    </tr>\n  </tbody>\n</table>\n</div>"
     },
     "metadata": {},
     "output_type": "display_data"
    }
   ],
   "source": [
    "single_dataset_split_time = DateTimeInfo.generate_feature(single_dataset_trunc.copy(), column = 'datetime')\n",
    "display(single_dataset_split_time.sample(10))"
   ],
   "metadata": {
    "collapsed": false,
    "pycharm": {
     "name": "#%%\n"
    }
   }
  },
  {
   "cell_type": "markdown",
   "source": [
    "- getting more info from zip codes"
   ],
   "metadata": {
    "collapsed": false,
    "pycharm": {
     "name": "#%% md\n"
    }
   }
  },
  {
   "cell_type": "code",
   "execution_count": 5,
   "outputs": [
    {
     "data": {
      "text/plain": "   customer_id  zip_code            join_date date_of_birth\n0            1     60091  2011-04-17 10:48:33    1994-07-18\n1            2     13244  2012-04-15 23:31:04    1986-08-18\n2            3     13244  2011-08-13 15:42:34    2003-11-21\n3            4     60091  2011-04-08 20:08:14    2006-08-15\n4            5     60091  2010-07-17 05:27:50    1984-07-28",
      "text/html": "<div>\n<style scoped>\n    .dataframe tbody tr th:only-of-type {\n        vertical-align: middle;\n    }\n\n    .dataframe tbody tr th {\n        vertical-align: top;\n    }\n\n    .dataframe thead th {\n        text-align: right;\n    }\n</style>\n<table border=\"1\" class=\"dataframe\">\n  <thead>\n    <tr style=\"text-align: right;\">\n      <th></th>\n      <th>customer_id</th>\n      <th>zip_code</th>\n      <th>join_date</th>\n      <th>date_of_birth</th>\n    </tr>\n  </thead>\n  <tbody>\n    <tr>\n      <th>0</th>\n      <td>1</td>\n      <td>60091</td>\n      <td>2011-04-17 10:48:33</td>\n      <td>1994-07-18</td>\n    </tr>\n    <tr>\n      <th>1</th>\n      <td>2</td>\n      <td>13244</td>\n      <td>2012-04-15 23:31:04</td>\n      <td>1986-08-18</td>\n    </tr>\n    <tr>\n      <th>2</th>\n      <td>3</td>\n      <td>13244</td>\n      <td>2011-08-13 15:42:34</td>\n      <td>2003-11-21</td>\n    </tr>\n    <tr>\n      <th>3</th>\n      <td>4</td>\n      <td>60091</td>\n      <td>2011-04-08 20:08:14</td>\n      <td>2006-08-15</td>\n    </tr>\n    <tr>\n      <th>4</th>\n      <td>5</td>\n      <td>60091</td>\n      <td>2010-07-17 05:27:50</td>\n      <td>1984-07-28</td>\n    </tr>\n  </tbody>\n</table>\n</div>"
     },
     "metadata": {},
     "output_type": "display_data"
    },
    {
     "data": {
      "text/plain": "   customer_id  zip_code            join_date date_of_birth           county  \\\n0            1     60091  2011-04-17 10:48:33    1994-07-18      Cook County   \n1            2     13244  2012-04-15 23:31:04    1986-08-18  Onondaga County   \n2            3     13244  2011-08-13 15:42:34    2003-11-21  Onondaga County   \n3            4     60091  2011-04-08 20:08:14    2006-08-15      Cook County   \n4            5     60091  2010-07-17 05:27:50    1984-07-28      Cook County   \n\n       city    lat    lng  \n0  Wilmette  42.08 -87.73  \n1  Syracuse   None   None  \n2  Syracuse   None   None  \n3  Wilmette  42.08 -87.73  \n4  Wilmette  42.08 -87.73  ",
      "text/html": "<div>\n<style scoped>\n    .dataframe tbody tr th:only-of-type {\n        vertical-align: middle;\n    }\n\n    .dataframe tbody tr th {\n        vertical-align: top;\n    }\n\n    .dataframe thead th {\n        text-align: right;\n    }\n</style>\n<table border=\"1\" class=\"dataframe\">\n  <thead>\n    <tr style=\"text-align: right;\">\n      <th></th>\n      <th>customer_id</th>\n      <th>zip_code</th>\n      <th>join_date</th>\n      <th>date_of_birth</th>\n      <th>county</th>\n      <th>city</th>\n      <th>lat</th>\n      <th>lng</th>\n    </tr>\n  </thead>\n  <tbody>\n    <tr>\n      <th>0</th>\n      <td>1</td>\n      <td>60091</td>\n      <td>2011-04-17 10:48:33</td>\n      <td>1994-07-18</td>\n      <td>Cook County</td>\n      <td>Wilmette</td>\n      <td>42.08</td>\n      <td>-87.73</td>\n    </tr>\n    <tr>\n      <th>1</th>\n      <td>2</td>\n      <td>13244</td>\n      <td>2012-04-15 23:31:04</td>\n      <td>1986-08-18</td>\n      <td>Onondaga County</td>\n      <td>Syracuse</td>\n      <td>None</td>\n      <td>None</td>\n    </tr>\n    <tr>\n      <th>2</th>\n      <td>3</td>\n      <td>13244</td>\n      <td>2011-08-13 15:42:34</td>\n      <td>2003-11-21</td>\n      <td>Onondaga County</td>\n      <td>Syracuse</td>\n      <td>None</td>\n      <td>None</td>\n    </tr>\n    <tr>\n      <th>3</th>\n      <td>4</td>\n      <td>60091</td>\n      <td>2011-04-08 20:08:14</td>\n      <td>2006-08-15</td>\n      <td>Cook County</td>\n      <td>Wilmette</td>\n      <td>42.08</td>\n      <td>-87.73</td>\n    </tr>\n    <tr>\n      <th>4</th>\n      <td>5</td>\n      <td>60091</td>\n      <td>2010-07-17 05:27:50</td>\n      <td>1984-07-28</td>\n      <td>Cook County</td>\n      <td>Wilmette</td>\n      <td>42.08</td>\n      <td>-87.73</td>\n    </tr>\n  </tbody>\n</table>\n</div>"
     },
     "metadata": {},
     "output_type": "display_data"
    }
   ],
   "source": [
    "customers = pd.read_csv(\"data/ml_tools_multiiple_tables_dataset/customers.csv\")\n",
    "display(customers)\n",
    "\n",
    "customers = ZipCodeInfo.generate_feature(customers, column='zip_code')\n",
    "display(customers)"
   ],
   "metadata": {
    "collapsed": false,
    "pycharm": {
     "name": "#%%\n"
    }
   }
  },
  {
   "cell_type": "markdown",
   "source": [
    "# Aggregating data\n",
    "- Across multiple dataframes"
   ],
   "metadata": {
    "collapsed": false,
    "pycharm": {
     "name": "#%% md\n"
    }
   }
  },
  {
   "cell_type": "code",
   "execution_count": 6,
   "outputs": [
    {
     "name": "stdout",
     "output_type": "stream",
     "text": [
      "\n",
      " RELATIONSHIPS:\n",
      "transactions.product_id -> products.product_id\n",
      "\n"
     ]
    },
    {
     "data": {
      "text/plain": "   product_id  count\n0           4    106\n1           5    104\n2           1    102\n3           3     96\n4           2     92",
      "text/html": "<div>\n<style scoped>\n    .dataframe tbody tr th:only-of-type {\n        vertical-align: middle;\n    }\n\n    .dataframe tbody tr th {\n        vertical-align: top;\n    }\n\n    .dataframe thead th {\n        text-align: right;\n    }\n</style>\n<table border=\"1\" class=\"dataframe\">\n  <thead>\n    <tr style=\"text-align: right;\">\n      <th></th>\n      <th>product_id</th>\n      <th>count</th>\n    </tr>\n  </thead>\n  <tbody>\n    <tr>\n      <th>0</th>\n      <td>4</td>\n      <td>106</td>\n    </tr>\n    <tr>\n      <th>1</th>\n      <td>5</td>\n      <td>104</td>\n    </tr>\n    <tr>\n      <th>2</th>\n      <td>1</td>\n      <td>102</td>\n    </tr>\n    <tr>\n      <th>3</th>\n      <td>3</td>\n      <td>96</td>\n    </tr>\n    <tr>\n      <th>4</th>\n      <td>2</td>\n      <td>92</td>\n    </tr>\n  </tbody>\n</table>\n</div>"
     },
     "metadata": {},
     "output_type": "display_data"
    }
   ],
   "source": [
    "transactions = pd.read_csv(\"data/ml_tools_multiiple_tables_dataset/transactions.csv\")\n",
    "products = pd.read_csv(\"data/ml_tools_multiiple_tables_dataset/products.csv\")\n",
    "\n",
    "tp_agg = SimpleAggregator(transactions,\n",
    "                          products,\n",
    "                          label1='transactions',\n",
    "                          label2='products')\n",
    "tp_agg.new_relationship('product_id', 'product_id')\n",
    "print(tp_agg.relationships)\n",
    "\n",
    "agg = tp_agg.aggregate()\n",
    "display(agg)"
   ],
   "metadata": {
    "collapsed": false,
    "pycharm": {
     "name": "#%%\n"
    }
   }
  },
  {
   "cell_type": "markdown",
   "source": [
    "# Aggregating data\n",
    "- In one dataframe"
   ],
   "metadata": {
    "collapsed": false
   }
  },
  {
   "cell_type": "code",
   "execution_count": 7,
   "outputs": [
    {
     "data": {
      "text/plain": "    currency  count\n0        TJS    677\n1        VUV    667\n2        CAD    667\n3        NAD    666\n4        CZK    664\n..       ...    ...\n159      SLL    557\n160      LTL    556\n161      PAB    542\n162      AUD    541\n163      KYD    540\n\n[164 rows x 2 columns]",
      "text/html": "<div>\n<style scoped>\n    .dataframe tbody tr th:only-of-type {\n        vertical-align: middle;\n    }\n\n    .dataframe tbody tr th {\n        vertical-align: top;\n    }\n\n    .dataframe thead th {\n        text-align: right;\n    }\n</style>\n<table border=\"1\" class=\"dataframe\">\n  <thead>\n    <tr style=\"text-align: right;\">\n      <th></th>\n      <th>currency</th>\n      <th>count</th>\n    </tr>\n  </thead>\n  <tbody>\n    <tr>\n      <th>0</th>\n      <td>TJS</td>\n      <td>677</td>\n    </tr>\n    <tr>\n      <th>1</th>\n      <td>VUV</td>\n      <td>667</td>\n    </tr>\n    <tr>\n      <th>2</th>\n      <td>CAD</td>\n      <td>667</td>\n    </tr>\n    <tr>\n      <th>3</th>\n      <td>NAD</td>\n      <td>666</td>\n    </tr>\n    <tr>\n      <th>4</th>\n      <td>CZK</td>\n      <td>664</td>\n    </tr>\n    <tr>\n      <th>...</th>\n      <td>...</td>\n      <td>...</td>\n    </tr>\n    <tr>\n      <th>159</th>\n      <td>SLL</td>\n      <td>557</td>\n    </tr>\n    <tr>\n      <th>160</th>\n      <td>LTL</td>\n      <td>556</td>\n    </tr>\n    <tr>\n      <th>161</th>\n      <td>PAB</td>\n      <td>542</td>\n    </tr>\n    <tr>\n      <th>162</th>\n      <td>AUD</td>\n      <td>541</td>\n    </tr>\n    <tr>\n      <th>163</th>\n      <td>KYD</td>\n      <td>540</td>\n    </tr>\n  </tbody>\n</table>\n<p>164 rows × 2 columns</p>\n</div>"
     },
     "metadata": {},
     "output_type": "display_data"
    }
   ],
   "source": [
    "single_agg = SingleAggregator(single_dataset, 'fraud', 'currency')\n",
    "currency_agg = single_agg.aggregate()\n",
    "\n",
    "display(currency_agg)\n"
   ],
   "metadata": {
    "collapsed": false,
    "pycharm": {
     "name": "#%%\n"
    }
   }
  },
  {
   "cell_type": "markdown",
   "source": [
    "# Custom feature generators"
   ],
   "metadata": {
    "collapsed": false
   }
  },
  {
   "cell_type": "code",
   "execution_count": 8,
   "outputs": [
    {
     "name": "stdout",
     "output_type": "stream",
     "text": [
      "name:  squared\n",
      "feature_type:  polynomial\n"
     ]
    },
    {
     "data": {
      "text/plain": "          id  card_id  store_id             datetime  amount currency  \\\n74102  74102    23782      8351  2019-07-15 16:03:58   75131      BOB   \n4306    4306    27056      8326  2019-02-22 10:51:01   91666      MOP   \n61828  61828    25934      8329  2019-06-21 23:12:21   18153      KRW   \n1543    1543     1788      6219  2019-01-01 02:39:44   37056      TJS   \n9865    9865    11189      3572  2019-01-17 02:58:11   47824      MZN   \n...      ...      ...       ...                  ...     ...      ...   \n36118  36118    18003      3816  2019-06-24 11:28:49   81275      MUR   \n8689    8689     4547      4547  2019-04-01 08:35:57   47662      SZL   \n62972  62972     6197      1714  2019-07-15 14:42:41   78034      TND   \n60279  60279     3382      3382  2019-04-21 11:35:16   11444      AUD   \n45736  45736      218       218  2019-07-25 09:13:15   29173      TJS   \n\n       customer_present                     provider       lat        lng  \\\n74102              True             American Express  50.88506    4.07601   \n4306              False                 JCB 16 digit  36.33011  138.89585   \n61828              True                VISA 16 digit   5.84752   -5.68200   \n1543               True  Diners Club / Carte Blanche  45.44730  -73.75335   \n9865               True                VISA 16 digit  24.28859  116.11768   \n...                 ...                          ...       ...        ...   \n36118             False                      Maestro  32.52515  -93.75018   \n8689               True                VISA 16 digit  23.73333  114.68333   \n62972              True                VISA 13 digit  51.35084   -1.99421   \n60279              True                VISA 13 digit  36.76639    3.47717   \n45736              True                 JCB 16 digit  -4.24444  -42.29444   \n\n            region country  fraud  amount_squared  \n74102  Denderleeuw      BE  False      5644667161  \n4306        Annaka      JP   True      8402655556  \n61828       Lakota      CI  False       329531409  \n1543        Dorval      CA  False      1373147136  \n9865       Meizhou      CN  False      2287134976  \n...            ...     ...    ...             ...  \n36118   Shreveport      US  False      6605625625  \n8689        Heyuan      CN  False      2271666244  \n62972      Devizes      GB  False      6089305156  \n60279    Boumerdas      DZ  False       130965136  \n45736       Barras      BR  False       851063929  \n\n[200 rows x 14 columns]",
      "text/html": "<div>\n<style scoped>\n    .dataframe tbody tr th:only-of-type {\n        vertical-align: middle;\n    }\n\n    .dataframe tbody tr th {\n        vertical-align: top;\n    }\n\n    .dataframe thead th {\n        text-align: right;\n    }\n</style>\n<table border=\"1\" class=\"dataframe\">\n  <thead>\n    <tr style=\"text-align: right;\">\n      <th></th>\n      <th>id</th>\n      <th>card_id</th>\n      <th>store_id</th>\n      <th>datetime</th>\n      <th>amount</th>\n      <th>currency</th>\n      <th>customer_present</th>\n      <th>provider</th>\n      <th>lat</th>\n      <th>lng</th>\n      <th>region</th>\n      <th>country</th>\n      <th>fraud</th>\n      <th>amount_squared</th>\n    </tr>\n  </thead>\n  <tbody>\n    <tr>\n      <th>74102</th>\n      <td>74102</td>\n      <td>23782</td>\n      <td>8351</td>\n      <td>2019-07-15 16:03:58</td>\n      <td>75131</td>\n      <td>BOB</td>\n      <td>True</td>\n      <td>American Express</td>\n      <td>50.88506</td>\n      <td>4.07601</td>\n      <td>Denderleeuw</td>\n      <td>BE</td>\n      <td>False</td>\n      <td>5644667161</td>\n    </tr>\n    <tr>\n      <th>4306</th>\n      <td>4306</td>\n      <td>27056</td>\n      <td>8326</td>\n      <td>2019-02-22 10:51:01</td>\n      <td>91666</td>\n      <td>MOP</td>\n      <td>False</td>\n      <td>JCB 16 digit</td>\n      <td>36.33011</td>\n      <td>138.89585</td>\n      <td>Annaka</td>\n      <td>JP</td>\n      <td>True</td>\n      <td>8402655556</td>\n    </tr>\n    <tr>\n      <th>61828</th>\n      <td>61828</td>\n      <td>25934</td>\n      <td>8329</td>\n      <td>2019-06-21 23:12:21</td>\n      <td>18153</td>\n      <td>KRW</td>\n      <td>True</td>\n      <td>VISA 16 digit</td>\n      <td>5.84752</td>\n      <td>-5.68200</td>\n      <td>Lakota</td>\n      <td>CI</td>\n      <td>False</td>\n      <td>329531409</td>\n    </tr>\n    <tr>\n      <th>1543</th>\n      <td>1543</td>\n      <td>1788</td>\n      <td>6219</td>\n      <td>2019-01-01 02:39:44</td>\n      <td>37056</td>\n      <td>TJS</td>\n      <td>True</td>\n      <td>Diners Club / Carte Blanche</td>\n      <td>45.44730</td>\n      <td>-73.75335</td>\n      <td>Dorval</td>\n      <td>CA</td>\n      <td>False</td>\n      <td>1373147136</td>\n    </tr>\n    <tr>\n      <th>9865</th>\n      <td>9865</td>\n      <td>11189</td>\n      <td>3572</td>\n      <td>2019-01-17 02:58:11</td>\n      <td>47824</td>\n      <td>MZN</td>\n      <td>True</td>\n      <td>VISA 16 digit</td>\n      <td>24.28859</td>\n      <td>116.11768</td>\n      <td>Meizhou</td>\n      <td>CN</td>\n      <td>False</td>\n      <td>2287134976</td>\n    </tr>\n    <tr>\n      <th>...</th>\n      <td>...</td>\n      <td>...</td>\n      <td>...</td>\n      <td>...</td>\n      <td>...</td>\n      <td>...</td>\n      <td>...</td>\n      <td>...</td>\n      <td>...</td>\n      <td>...</td>\n      <td>...</td>\n      <td>...</td>\n      <td>...</td>\n      <td>...</td>\n    </tr>\n    <tr>\n      <th>36118</th>\n      <td>36118</td>\n      <td>18003</td>\n      <td>3816</td>\n      <td>2019-06-24 11:28:49</td>\n      <td>81275</td>\n      <td>MUR</td>\n      <td>False</td>\n      <td>Maestro</td>\n      <td>32.52515</td>\n      <td>-93.75018</td>\n      <td>Shreveport</td>\n      <td>US</td>\n      <td>False</td>\n      <td>6605625625</td>\n    </tr>\n    <tr>\n      <th>8689</th>\n      <td>8689</td>\n      <td>4547</td>\n      <td>4547</td>\n      <td>2019-04-01 08:35:57</td>\n      <td>47662</td>\n      <td>SZL</td>\n      <td>True</td>\n      <td>VISA 16 digit</td>\n      <td>23.73333</td>\n      <td>114.68333</td>\n      <td>Heyuan</td>\n      <td>CN</td>\n      <td>False</td>\n      <td>2271666244</td>\n    </tr>\n    <tr>\n      <th>62972</th>\n      <td>62972</td>\n      <td>6197</td>\n      <td>1714</td>\n      <td>2019-07-15 14:42:41</td>\n      <td>78034</td>\n      <td>TND</td>\n      <td>True</td>\n      <td>VISA 13 digit</td>\n      <td>51.35084</td>\n      <td>-1.99421</td>\n      <td>Devizes</td>\n      <td>GB</td>\n      <td>False</td>\n      <td>6089305156</td>\n    </tr>\n    <tr>\n      <th>60279</th>\n      <td>60279</td>\n      <td>3382</td>\n      <td>3382</td>\n      <td>2019-04-21 11:35:16</td>\n      <td>11444</td>\n      <td>AUD</td>\n      <td>True</td>\n      <td>VISA 13 digit</td>\n      <td>36.76639</td>\n      <td>3.47717</td>\n      <td>Boumerdas</td>\n      <td>DZ</td>\n      <td>False</td>\n      <td>130965136</td>\n    </tr>\n    <tr>\n      <th>45736</th>\n      <td>45736</td>\n      <td>218</td>\n      <td>218</td>\n      <td>2019-07-25 09:13:15</td>\n      <td>29173</td>\n      <td>TJS</td>\n      <td>True</td>\n      <td>JCB 16 digit</td>\n      <td>-4.24444</td>\n      <td>-42.29444</td>\n      <td>Barras</td>\n      <td>BR</td>\n      <td>False</td>\n      <td>851063929</td>\n    </tr>\n  </tbody>\n</table>\n<p>200 rows × 14 columns</p>\n</div>"
     },
     "metadata": {},
     "output_type": "display_data"
    }
   ],
   "source": [
    "def square_column(data, column):\n",
    "    data[column+'_squared'] = data[column] * data[column]\n",
    "    return data\n",
    "\n",
    "cust_generator = custom_generator(square_column,\n",
    "                                  name='squared',\n",
    "                                  feature_type='polynomial')\n",
    "\n",
    "new_data = cust_generator.generate_feature(single_dataset_trunc.copy(), 'amount')\n",
    "\n",
    "print(\"name: \", cust_generator.name)\n",
    "print(\"feature_type: \", cust_generator.feature_type)\n",
    "display(new_data)"
   ],
   "metadata": {
    "collapsed": false,
    "pycharm": {
     "name": "#%%\n"
    }
   }
  },
  {
   "cell_type": "markdown",
   "source": [
    "# Average aggregator"
   ],
   "metadata": {
    "collapsed": false
   }
  },
  {
   "cell_type": "code",
   "execution_count": 9,
   "outputs": [
    {
     "data": {
      "text/plain": "      species  count  sepal_length_avg  sepal_width_avg  petal_length_avg  \\\n0      setosa     50             5.006            3.428             1.462   \n1   virginica     50             6.588            2.974             5.552   \n2  versicolor     50             5.936            2.770             4.260   \n\n   petal_width_avg  \n0            0.246  \n1            2.026  \n2            1.326  ",
      "text/html": "<div>\n<style scoped>\n    .dataframe tbody tr th:only-of-type {\n        vertical-align: middle;\n    }\n\n    .dataframe tbody tr th {\n        vertical-align: top;\n    }\n\n    .dataframe thead th {\n        text-align: right;\n    }\n</style>\n<table border=\"1\" class=\"dataframe\">\n  <thead>\n    <tr style=\"text-align: right;\">\n      <th></th>\n      <th>species</th>\n      <th>count</th>\n      <th>sepal_length_avg</th>\n      <th>sepal_width_avg</th>\n      <th>petal_length_avg</th>\n      <th>petal_width_avg</th>\n    </tr>\n  </thead>\n  <tbody>\n    <tr>\n      <th>0</th>\n      <td>setosa</td>\n      <td>50</td>\n      <td>5.006</td>\n      <td>3.428</td>\n      <td>1.462</td>\n      <td>0.246</td>\n    </tr>\n    <tr>\n      <th>1</th>\n      <td>virginica</td>\n      <td>50</td>\n      <td>6.588</td>\n      <td>2.974</td>\n      <td>5.552</td>\n      <td>2.026</td>\n    </tr>\n    <tr>\n      <th>2</th>\n      <td>versicolor</td>\n      <td>50</td>\n      <td>5.936</td>\n      <td>2.770</td>\n      <td>4.260</td>\n      <td>1.326</td>\n    </tr>\n  </tbody>\n</table>\n</div>"
     },
     "metadata": {},
     "output_type": "display_data"
    }
   ],
   "source": [
    "iris = sns.load_dataset('iris')\n",
    "key = 'species'\n",
    "\n",
    "avg_agg = Average(iris, key, label='iris')\n",
    "\n",
    "averages = avg_agg.aggregate()\n",
    "display(averages)"
   ],
   "metadata": {
    "collapsed": false,
    "pycharm": {
     "name": "#%%\n"
    }
   }
  }
 ],
 "metadata": {
  "kernelspec": {
   "name": "pycharm-ef99d5ee",
   "language": "python",
   "display_name": "PyCharm (ml_tools_take_home)"
  },
  "language_info": {
   "codemirror_mode": {
    "name": "ipython",
    "version": 2
   },
   "file_extension": ".py",
   "mimetype": "text/x-python",
   "name": "python",
   "nbconvert_exporter": "python",
   "pygments_lexer": "ipython2",
   "version": "2.7.6"
  }
 },
 "nbformat": 4,
 "nbformat_minor": 0
}