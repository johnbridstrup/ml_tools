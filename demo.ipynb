{
 "cells": [
  {
   "cell_type": "code",
   "execution_count": 1,
   "metadata": {
    "collapsed": true
   },
   "outputs": [],
   "source": [
    "from IPython.display import display\n",
    "from ml_tools import SimpleAggregator, Hour\n",
    "import pandas as pd"
   ]
  },
  {
   "cell_type": "code",
   "execution_count": 4,
   "outputs": [
    {
     "data": {
      "text/plain": "          id  card_id  store_id             datetime  amount currency  \\\n75650  75650    16804      2960  2019-07-23 21:14:53   89641      SBD   \n85683  85683    23219      7658  2019-04-13 17:35:23   19167      SVC   \n47712  47712    15802      4694  2019-04-15 07:21:59   32217      LTL   \n13271  13271    18309        10  2019-06-23 17:31:13   92510      INR   \n731      731    28089      5179  2019-04-16 01:55:31   72089      JPY   \n30364  30364    29505      6585  2019-04-11 07:29:35   65000      BBD   \n92758  92758    11848      9063  2019-06-23 10:39:57   62312      RON   \n16096  16096    15734      4082  2019-01-24 15:32:49   98424      SLL   \n16458  16458    31676      1734  2019-05-10 18:13:34   36953      UYU   \n10529  10529    15451       606  2019-03-16 07:28:08   56210      CRC   \n\n       customer_present                     provider       lat        lng  \\\n75650              True                VISA 16 digit  40.85158  122.74754   \n85683             False             American Express -27.43380  -65.61427   \n47712             False                VISA 19 digit  37.65181  120.33063   \n13271             False                VISA 16 digit  45.39402    9.29109   \n731                True                      Maestro  52.14000    5.58472   \n30364              True  Diners Club / Carte Blanche  -7.51611  109.05389   \n92758             False                 JCB 16 digit  50.75000    2.25000   \n16096              True                      Maestro  10.20898  123.75800   \n16458             False  Diners Club / Carte Blanche  24.41288   76.56719   \n10529             False                VISA 16 digit  42.24113  -88.31620   \n\n                      region country  fraud  \n75650               Haicheng      CN  False  \n85683              Aguilares      AR  False  \n47712               Longgang      CN  False  \n13271  San Giuliano Milanese      IT   True  \n731                Barneveld      NL  False  \n30364                 Wangon      ID  False  \n92758             Saint-Omer      FR  False  \n16096                   Naga      PH   True  \n16458                 Aklera      IN  False  \n10529           Crystal Lake      US  False  ",
      "text/html": "<div>\n<style scoped>\n    .dataframe tbody tr th:only-of-type {\n        vertical-align: middle;\n    }\n\n    .dataframe tbody tr th {\n        vertical-align: top;\n    }\n\n    .dataframe thead th {\n        text-align: right;\n    }\n</style>\n<table border=\"1\" class=\"dataframe\">\n  <thead>\n    <tr style=\"text-align: right;\">\n      <th></th>\n      <th>id</th>\n      <th>card_id</th>\n      <th>store_id</th>\n      <th>datetime</th>\n      <th>amount</th>\n      <th>currency</th>\n      <th>customer_present</th>\n      <th>provider</th>\n      <th>lat</th>\n      <th>lng</th>\n      <th>region</th>\n      <th>country</th>\n      <th>fraud</th>\n    </tr>\n  </thead>\n  <tbody>\n    <tr>\n      <th>75650</th>\n      <td>75650</td>\n      <td>16804</td>\n      <td>2960</td>\n      <td>2019-07-23 21:14:53</td>\n      <td>89641</td>\n      <td>SBD</td>\n      <td>True</td>\n      <td>VISA 16 digit</td>\n      <td>40.85158</td>\n      <td>122.74754</td>\n      <td>Haicheng</td>\n      <td>CN</td>\n      <td>False</td>\n    </tr>\n    <tr>\n      <th>85683</th>\n      <td>85683</td>\n      <td>23219</td>\n      <td>7658</td>\n      <td>2019-04-13 17:35:23</td>\n      <td>19167</td>\n      <td>SVC</td>\n      <td>False</td>\n      <td>American Express</td>\n      <td>-27.43380</td>\n      <td>-65.61427</td>\n      <td>Aguilares</td>\n      <td>AR</td>\n      <td>False</td>\n    </tr>\n    <tr>\n      <th>47712</th>\n      <td>47712</td>\n      <td>15802</td>\n      <td>4694</td>\n      <td>2019-04-15 07:21:59</td>\n      <td>32217</td>\n      <td>LTL</td>\n      <td>False</td>\n      <td>VISA 19 digit</td>\n      <td>37.65181</td>\n      <td>120.33063</td>\n      <td>Longgang</td>\n      <td>CN</td>\n      <td>False</td>\n    </tr>\n    <tr>\n      <th>13271</th>\n      <td>13271</td>\n      <td>18309</td>\n      <td>10</td>\n      <td>2019-06-23 17:31:13</td>\n      <td>92510</td>\n      <td>INR</td>\n      <td>False</td>\n      <td>VISA 16 digit</td>\n      <td>45.39402</td>\n      <td>9.29109</td>\n      <td>San Giuliano Milanese</td>\n      <td>IT</td>\n      <td>True</td>\n    </tr>\n    <tr>\n      <th>731</th>\n      <td>731</td>\n      <td>28089</td>\n      <td>5179</td>\n      <td>2019-04-16 01:55:31</td>\n      <td>72089</td>\n      <td>JPY</td>\n      <td>True</td>\n      <td>Maestro</td>\n      <td>52.14000</td>\n      <td>5.58472</td>\n      <td>Barneveld</td>\n      <td>NL</td>\n      <td>False</td>\n    </tr>\n    <tr>\n      <th>30364</th>\n      <td>30364</td>\n      <td>29505</td>\n      <td>6585</td>\n      <td>2019-04-11 07:29:35</td>\n      <td>65000</td>\n      <td>BBD</td>\n      <td>True</td>\n      <td>Diners Club / Carte Blanche</td>\n      <td>-7.51611</td>\n      <td>109.05389</td>\n      <td>Wangon</td>\n      <td>ID</td>\n      <td>False</td>\n    </tr>\n    <tr>\n      <th>92758</th>\n      <td>92758</td>\n      <td>11848</td>\n      <td>9063</td>\n      <td>2019-06-23 10:39:57</td>\n      <td>62312</td>\n      <td>RON</td>\n      <td>False</td>\n      <td>JCB 16 digit</td>\n      <td>50.75000</td>\n      <td>2.25000</td>\n      <td>Saint-Omer</td>\n      <td>FR</td>\n      <td>False</td>\n    </tr>\n    <tr>\n      <th>16096</th>\n      <td>16096</td>\n      <td>15734</td>\n      <td>4082</td>\n      <td>2019-01-24 15:32:49</td>\n      <td>98424</td>\n      <td>SLL</td>\n      <td>True</td>\n      <td>Maestro</td>\n      <td>10.20898</td>\n      <td>123.75800</td>\n      <td>Naga</td>\n      <td>PH</td>\n      <td>True</td>\n    </tr>\n    <tr>\n      <th>16458</th>\n      <td>16458</td>\n      <td>31676</td>\n      <td>1734</td>\n      <td>2019-05-10 18:13:34</td>\n      <td>36953</td>\n      <td>UYU</td>\n      <td>False</td>\n      <td>Diners Club / Carte Blanche</td>\n      <td>24.41288</td>\n      <td>76.56719</td>\n      <td>Aklera</td>\n      <td>IN</td>\n      <td>False</td>\n    </tr>\n    <tr>\n      <th>10529</th>\n      <td>10529</td>\n      <td>15451</td>\n      <td>606</td>\n      <td>2019-03-16 07:28:08</td>\n      <td>56210</td>\n      <td>CRC</td>\n      <td>False</td>\n      <td>VISA 16 digit</td>\n      <td>42.24113</td>\n      <td>-88.31620</td>\n      <td>Crystal Lake</td>\n      <td>US</td>\n      <td>False</td>\n    </tr>\n  </tbody>\n</table>\n</div>"
     },
     "metadata": {},
     "output_type": "display_data"
    }
   ],
   "source": [
    "single_dataset = pd.read_csv(\"data/ml_tools_single_table_dataset/fraud.csv\")\n",
    "display(single_dataset.sample(10))"
   ],
   "metadata": {
    "collapsed": false,
    "pycharm": {
     "name": "#%%\n"
    }
   }
  },
  {
   "cell_type": "code",
   "execution_count": null,
   "outputs": [],
   "source": [],
   "metadata": {
    "collapsed": false,
    "pycharm": {
     "name": "#%%\n"
    }
   }
  }
 ],
 "metadata": {
  "kernelspec": {
   "name": "pycharm-ef99d5ee",
   "language": "python",
   "display_name": "PyCharm (ml_tools_take_home)"
  },
  "language_info": {
   "codemirror_mode": {
    "name": "ipython",
    "version": 2
   },
   "file_extension": ".py",
   "mimetype": "text/x-python",
   "name": "python",
   "nbconvert_exporter": "python",
   "pygments_lexer": "ipython2",
   "version": "2.7.6"
  }
 },
 "nbformat": 4,
 "nbformat_minor": 0
}