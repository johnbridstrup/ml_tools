{
 "cells": [
  {
   "cell_type": "code",
   "execution_count": 1,
   "metadata": {
    "collapsed": true
   },
   "outputs": [],
   "source": [
    "from IPython.display import display\n",
    "from ml_tools import SimpleAggregator, Hour, SingleAggregator, custom_generator, Average\n",
    "import pandas as pd\n",
    "import seaborn as sns"
   ]
  },
  {
   "cell_type": "markdown",
   "source": [
    "# Transforming features"
   ],
   "metadata": {
    "collapsed": false,
    "pycharm": {
     "name": "#%% md\n"
    }
   }
  },
  {
   "cell_type": "code",
   "execution_count": 2,
   "outputs": [
    {
     "data": {
      "text/plain": "          id  card_id  store_id             datetime  amount currency  \\\n18771  18771    13423      8451  2019-05-09 07:29:18   99832      LTL   \n73272  73272     7358      5913  2019-03-20 00:04:31   36385      MXN   \n8973    8973    12063      2658  2019-06-07 12:23:37   25165      AFN   \n78258  78258    10833      4576  2019-01-15 23:50:23   12267      INR   \n84286  84286    19007      8194  2019-05-30 00:48:04   98233      NOK   \n36160  36160    20311      5746  2019-02-18 06:30:23   84044      BWP   \n42071  42071     6843      6843  2019-02-02 08:16:56   58922      KHR   \n12549  12549    27316      4758  2019-02-07 13:23:34   44684      PGK   \n77872  77872     4050      9094  2019-01-09 19:09:34   25218      SGD   \n47993  47993     3753      3753  2019-04-21 04:16:25   59893      BBD   \n\n       customer_present                     provider       lat        lng  \\\n18771              True  Diners Club / Carte Blanche  25.66795   85.83636   \n73272              True                   Mastercard   4.02219  101.02083   \n8973               True             American Express  19.32889  -99.32556   \n78258             False                 JCB 15 digit  50.80000    3.16667   \n84286              True                VISA 13 digit  22.47110   88.14530   \n36160              True                 JCB 15 digit  50.75000    2.25000   \n42071             False  Diners Club / Carte Blanche  22.83957   91.84128   \n12549              True                 JCB 15 digit  57.47908   -4.22398   \n77872             False  Diners Club / Carte Blanche  13.70167  -89.10944   \n47993              True                VISA 13 digit  46.32313   -0.45877   \n\n                     region country  fraud  \n18771        Dalsingh Sarai      IN   True  \n73272           Teluk Intan      MY  False  \n8973   San Lorenzo Acopilco      MX  False  \n78258              Wevelgem      BE  False  \n84286                Pujali      IN   True  \n36160            Saint-Omer      FR  False  \n42071            Manikchari      BD   True  \n12549             Inverness      GB  False  \n77872              Ilopango      SV  False  \n47993                 Niort      FR  False  ",
      "text/html": "<div>\n<style scoped>\n    .dataframe tbody tr th:only-of-type {\n        vertical-align: middle;\n    }\n\n    .dataframe tbody tr th {\n        vertical-align: top;\n    }\n\n    .dataframe thead th {\n        text-align: right;\n    }\n</style>\n<table border=\"1\" class=\"dataframe\">\n  <thead>\n    <tr style=\"text-align: right;\">\n      <th></th>\n      <th>id</th>\n      <th>card_id</th>\n      <th>store_id</th>\n      <th>datetime</th>\n      <th>amount</th>\n      <th>currency</th>\n      <th>customer_present</th>\n      <th>provider</th>\n      <th>lat</th>\n      <th>lng</th>\n      <th>region</th>\n      <th>country</th>\n      <th>fraud</th>\n    </tr>\n  </thead>\n  <tbody>\n    <tr>\n      <th>18771</th>\n      <td>18771</td>\n      <td>13423</td>\n      <td>8451</td>\n      <td>2019-05-09 07:29:18</td>\n      <td>99832</td>\n      <td>LTL</td>\n      <td>True</td>\n      <td>Diners Club / Carte Blanche</td>\n      <td>25.66795</td>\n      <td>85.83636</td>\n      <td>Dalsingh Sarai</td>\n      <td>IN</td>\n      <td>True</td>\n    </tr>\n    <tr>\n      <th>73272</th>\n      <td>73272</td>\n      <td>7358</td>\n      <td>5913</td>\n      <td>2019-03-20 00:04:31</td>\n      <td>36385</td>\n      <td>MXN</td>\n      <td>True</td>\n      <td>Mastercard</td>\n      <td>4.02219</td>\n      <td>101.02083</td>\n      <td>Teluk Intan</td>\n      <td>MY</td>\n      <td>False</td>\n    </tr>\n    <tr>\n      <th>8973</th>\n      <td>8973</td>\n      <td>12063</td>\n      <td>2658</td>\n      <td>2019-06-07 12:23:37</td>\n      <td>25165</td>\n      <td>AFN</td>\n      <td>True</td>\n      <td>American Express</td>\n      <td>19.32889</td>\n      <td>-99.32556</td>\n      <td>San Lorenzo Acopilco</td>\n      <td>MX</td>\n      <td>False</td>\n    </tr>\n    <tr>\n      <th>78258</th>\n      <td>78258</td>\n      <td>10833</td>\n      <td>4576</td>\n      <td>2019-01-15 23:50:23</td>\n      <td>12267</td>\n      <td>INR</td>\n      <td>False</td>\n      <td>JCB 15 digit</td>\n      <td>50.80000</td>\n      <td>3.16667</td>\n      <td>Wevelgem</td>\n      <td>BE</td>\n      <td>False</td>\n    </tr>\n    <tr>\n      <th>84286</th>\n      <td>84286</td>\n      <td>19007</td>\n      <td>8194</td>\n      <td>2019-05-30 00:48:04</td>\n      <td>98233</td>\n      <td>NOK</td>\n      <td>True</td>\n      <td>VISA 13 digit</td>\n      <td>22.47110</td>\n      <td>88.14530</td>\n      <td>Pujali</td>\n      <td>IN</td>\n      <td>True</td>\n    </tr>\n    <tr>\n      <th>36160</th>\n      <td>36160</td>\n      <td>20311</td>\n      <td>5746</td>\n      <td>2019-02-18 06:30:23</td>\n      <td>84044</td>\n      <td>BWP</td>\n      <td>True</td>\n      <td>JCB 15 digit</td>\n      <td>50.75000</td>\n      <td>2.25000</td>\n      <td>Saint-Omer</td>\n      <td>FR</td>\n      <td>False</td>\n    </tr>\n    <tr>\n      <th>42071</th>\n      <td>42071</td>\n      <td>6843</td>\n      <td>6843</td>\n      <td>2019-02-02 08:16:56</td>\n      <td>58922</td>\n      <td>KHR</td>\n      <td>False</td>\n      <td>Diners Club / Carte Blanche</td>\n      <td>22.83957</td>\n      <td>91.84128</td>\n      <td>Manikchari</td>\n      <td>BD</td>\n      <td>True</td>\n    </tr>\n    <tr>\n      <th>12549</th>\n      <td>12549</td>\n      <td>27316</td>\n      <td>4758</td>\n      <td>2019-02-07 13:23:34</td>\n      <td>44684</td>\n      <td>PGK</td>\n      <td>True</td>\n      <td>JCB 15 digit</td>\n      <td>57.47908</td>\n      <td>-4.22398</td>\n      <td>Inverness</td>\n      <td>GB</td>\n      <td>False</td>\n    </tr>\n    <tr>\n      <th>77872</th>\n      <td>77872</td>\n      <td>4050</td>\n      <td>9094</td>\n      <td>2019-01-09 19:09:34</td>\n      <td>25218</td>\n      <td>SGD</td>\n      <td>False</td>\n      <td>Diners Club / Carte Blanche</td>\n      <td>13.70167</td>\n      <td>-89.10944</td>\n      <td>Ilopango</td>\n      <td>SV</td>\n      <td>False</td>\n    </tr>\n    <tr>\n      <th>47993</th>\n      <td>47993</td>\n      <td>3753</td>\n      <td>3753</td>\n      <td>2019-04-21 04:16:25</td>\n      <td>59893</td>\n      <td>BBD</td>\n      <td>True</td>\n      <td>VISA 13 digit</td>\n      <td>46.32313</td>\n      <td>-0.45877</td>\n      <td>Niort</td>\n      <td>FR</td>\n      <td>False</td>\n    </tr>\n  </tbody>\n</table>\n</div>"
     },
     "metadata": {},
     "output_type": "display_data"
    }
   ],
   "source": [
    "single_dataset = pd.read_csv(\"data/ml_tools_single_table_dataset/fraud.csv\")\n",
    "display(single_dataset.sample(10))\n",
    "## too big to run quickly (also unnecessary for the demo)\n",
    "single_dataset_trunc = single_dataset.sample(200)"
   ],
   "metadata": {
    "collapsed": false,
    "pycharm": {
     "name": "#%%\n"
    }
   }
  },
  {
   "cell_type": "code",
   "execution_count": 3,
   "outputs": [
    {
     "name": "stdout",
     "output_type": "stream",
     "text": [
      "[3]\n"
     ]
    },
    {
     "name": "stderr",
     "output_type": "stream",
     "text": [
      "/Users/john/Projects/Programming/ml_tools/ml_tools/feature_generator.py:59: SettingWithCopyWarning: \n",
      "A value is trying to be set on a copy of a slice from a DataFrame\n",
      "\n",
      "See the caveats in the documentation: https://pandas.pydata.org/pandas-docs/stable/user_guide/indexing.html#returning-a-view-versus-a-copy\n",
      "  data.iloc[:, idx][index] = time.hour\n"
     ]
    },
    {
     "data": {
      "text/plain": "          id  card_id  store_id datetime  amount currency  customer_present  \\\n74377  74377    25255      4676        1   40006      PGK             False   \n71908  71908     3532      3857       14   56445      NIS             False   \n71178  71178    33100      6896       11   35154      UZS             False   \n42523  42523     2593      1783       15   13483      GMD             False   \n71921  71921    21280      1934        8   31252      DKK              True   \n88794  88794    11847      9826       19   99655      ISK              True   \n66360  66360    11887      3941       22    9631      IDR              True   \n65793  65793    11944      2948       22   18523      SEK             False   \n96279  96279    32144      9765       16   63545      SAR              True   \n56982  56982    32068      6570        6   18316      GMD              True   \n\n                          provider       lat        lng        region country  \\\n74377                 JCB 16 digit   3.88010  -77.03116  Buenaventura      CO   \n71908                   Mastercard  37.05944   37.38250     Gaziantep      TR   \n71178  Diners Club / Carte Blanche  28.71271   77.65600       Pilkhua      IN   \n42523  Diners Club / Carte Blanche  42.24113  -88.31620  Crystal Lake      US   \n71921                VISA 16 digit  40.93121  -73.89875       Yonkers      US   \n88794  Diners Club / Carte Blanche  36.19278  117.65694         Laiwu      CN   \n66360                VISA 16 digit  37.05944   37.38250     Gaziantep      TR   \n65793                 JCB 16 digit  20.21322 -100.88023   Salvatierra      MX   \n96279                     Discover  54.84210   46.58130     Alatyr‚Äô      RU   \n56982                      Maestro  12.74482    4.52514       Argungu      NG   \n\n       fraud  \n74377  False  \n71908  False  \n71178  False  \n42523  False  \n71921  False  \n88794   True  \n66360  False  \n65793  False  \n96279  False  \n56982  False  ",
      "text/html": "<div>\n<style scoped>\n    .dataframe tbody tr th:only-of-type {\n        vertical-align: middle;\n    }\n\n    .dataframe tbody tr th {\n        vertical-align: top;\n    }\n\n    .dataframe thead th {\n        text-align: right;\n    }\n</style>\n<table border=\"1\" class=\"dataframe\">\n  <thead>\n    <tr style=\"text-align: right;\">\n      <th></th>\n      <th>id</th>\n      <th>card_id</th>\n      <th>store_id</th>\n      <th>datetime</th>\n      <th>amount</th>\n      <th>currency</th>\n      <th>customer_present</th>\n      <th>provider</th>\n      <th>lat</th>\n      <th>lng</th>\n      <th>region</th>\n      <th>country</th>\n      <th>fraud</th>\n    </tr>\n  </thead>\n  <tbody>\n    <tr>\n      <th>74377</th>\n      <td>74377</td>\n      <td>25255</td>\n      <td>4676</td>\n      <td>1</td>\n      <td>40006</td>\n      <td>PGK</td>\n      <td>False</td>\n      <td>JCB 16 digit</td>\n      <td>3.88010</td>\n      <td>-77.03116</td>\n      <td>Buenaventura</td>\n      <td>CO</td>\n      <td>False</td>\n    </tr>\n    <tr>\n      <th>71908</th>\n      <td>71908</td>\n      <td>3532</td>\n      <td>3857</td>\n      <td>14</td>\n      <td>56445</td>\n      <td>NIS</td>\n      <td>False</td>\n      <td>Mastercard</td>\n      <td>37.05944</td>\n      <td>37.38250</td>\n      <td>Gaziantep</td>\n      <td>TR</td>\n      <td>False</td>\n    </tr>\n    <tr>\n      <th>71178</th>\n      <td>71178</td>\n      <td>33100</td>\n      <td>6896</td>\n      <td>11</td>\n      <td>35154</td>\n      <td>UZS</td>\n      <td>False</td>\n      <td>Diners Club / Carte Blanche</td>\n      <td>28.71271</td>\n      <td>77.65600</td>\n      <td>Pilkhua</td>\n      <td>IN</td>\n      <td>False</td>\n    </tr>\n    <tr>\n      <th>42523</th>\n      <td>42523</td>\n      <td>2593</td>\n      <td>1783</td>\n      <td>15</td>\n      <td>13483</td>\n      <td>GMD</td>\n      <td>False</td>\n      <td>Diners Club / Carte Blanche</td>\n      <td>42.24113</td>\n      <td>-88.31620</td>\n      <td>Crystal Lake</td>\n      <td>US</td>\n      <td>False</td>\n    </tr>\n    <tr>\n      <th>71921</th>\n      <td>71921</td>\n      <td>21280</td>\n      <td>1934</td>\n      <td>8</td>\n      <td>31252</td>\n      <td>DKK</td>\n      <td>True</td>\n      <td>VISA 16 digit</td>\n      <td>40.93121</td>\n      <td>-73.89875</td>\n      <td>Yonkers</td>\n      <td>US</td>\n      <td>False</td>\n    </tr>\n    <tr>\n      <th>88794</th>\n      <td>88794</td>\n      <td>11847</td>\n      <td>9826</td>\n      <td>19</td>\n      <td>99655</td>\n      <td>ISK</td>\n      <td>True</td>\n      <td>Diners Club / Carte Blanche</td>\n      <td>36.19278</td>\n      <td>117.65694</td>\n      <td>Laiwu</td>\n      <td>CN</td>\n      <td>True</td>\n    </tr>\n    <tr>\n      <th>66360</th>\n      <td>66360</td>\n      <td>11887</td>\n      <td>3941</td>\n      <td>22</td>\n      <td>9631</td>\n      <td>IDR</td>\n      <td>True</td>\n      <td>VISA 16 digit</td>\n      <td>37.05944</td>\n      <td>37.38250</td>\n      <td>Gaziantep</td>\n      <td>TR</td>\n      <td>False</td>\n    </tr>\n    <tr>\n      <th>65793</th>\n      <td>65793</td>\n      <td>11944</td>\n      <td>2948</td>\n      <td>22</td>\n      <td>18523</td>\n      <td>SEK</td>\n      <td>False</td>\n      <td>JCB 16 digit</td>\n      <td>20.21322</td>\n      <td>-100.88023</td>\n      <td>Salvatierra</td>\n      <td>MX</td>\n      <td>False</td>\n    </tr>\n    <tr>\n      <th>96279</th>\n      <td>96279</td>\n      <td>32144</td>\n      <td>9765</td>\n      <td>16</td>\n      <td>63545</td>\n      <td>SAR</td>\n      <td>True</td>\n      <td>Discover</td>\n      <td>54.84210</td>\n      <td>46.58130</td>\n      <td>Alatyr‚Äô</td>\n      <td>RU</td>\n      <td>False</td>\n    </tr>\n    <tr>\n      <th>56982</th>\n      <td>56982</td>\n      <td>32068</td>\n      <td>6570</td>\n      <td>6</td>\n      <td>18316</td>\n      <td>GMD</td>\n      <td>True</td>\n      <td>Maestro</td>\n      <td>12.74482</td>\n      <td>4.52514</td>\n      <td>Argungu</td>\n      <td>NG</td>\n      <td>False</td>\n    </tr>\n  </tbody>\n</table>\n</div>"
     },
     "metadata": {},
     "output_type": "display_data"
    }
   ],
   "source": [
    "single_dataset_trunc.datetime = pd.to_datetime(single_dataset_trunc.datetime)\n",
    "single_dataset_hours = Hour.generate_feature(single_dataset_trunc.copy())\n",
    "display(single_dataset_hours.sample(10))"
   ],
   "metadata": {
    "collapsed": false,
    "pycharm": {
     "name": "#%%\n"
    }
   }
  },
  {
   "cell_type": "markdown",
   "source": [
    "# Aggregating data\n",
    "- Across multiple dataframes"
   ],
   "metadata": {
    "collapsed": false,
    "pycharm": {
     "name": "#%% md\n"
    }
   }
  },
  {
   "cell_type": "code",
   "execution_count": 4,
   "outputs": [
    {
     "name": "stdout",
     "output_type": "stream",
     "text": [
      "\n",
      " RELATIONSHIPS:\n",
      "transactions.product_id -> products.product_id\n",
      "\n"
     ]
    },
    {
     "data": {
      "text/plain": "   product_id  count\n0           4    106\n1           5    104\n2           1    102\n3           3     96\n4           2     92",
      "text/html": "<div>\n<style scoped>\n    .dataframe tbody tr th:only-of-type {\n        vertical-align: middle;\n    }\n\n    .dataframe tbody tr th {\n        vertical-align: top;\n    }\n\n    .dataframe thead th {\n        text-align: right;\n    }\n</style>\n<table border=\"1\" class=\"dataframe\">\n  <thead>\n    <tr style=\"text-align: right;\">\n      <th></th>\n      <th>product_id</th>\n      <th>count</th>\n    </tr>\n  </thead>\n  <tbody>\n    <tr>\n      <th>0</th>\n      <td>4</td>\n      <td>106</td>\n    </tr>\n    <tr>\n      <th>1</th>\n      <td>5</td>\n      <td>104</td>\n    </tr>\n    <tr>\n      <th>2</th>\n      <td>1</td>\n      <td>102</td>\n    </tr>\n    <tr>\n      <th>3</th>\n      <td>3</td>\n      <td>96</td>\n    </tr>\n    <tr>\n      <th>4</th>\n      <td>2</td>\n      <td>92</td>\n    </tr>\n  </tbody>\n</table>\n</div>"
     },
     "metadata": {},
     "output_type": "display_data"
    }
   ],
   "source": [
    "transactions = pd.read_csv(\"data/ml_tools_multiiple_tables_dataset/transactions.csv\")\n",
    "products = pd.read_csv(\"data/ml_tools_multiiple_tables_dataset/products.csv\")\n",
    "\n",
    "tp_agg = SimpleAggregator(transactions,\n",
    "                          products,\n",
    "                          label1='transactions',\n",
    "                          label2='products')\n",
    "tp_agg.new_relationship('product_id', 'product_id')\n",
    "print(tp_agg.relationships)\n",
    "\n",
    "agg = tp_agg.aggregate()\n",
    "display(agg)"
   ],
   "metadata": {
    "collapsed": false,
    "pycharm": {
     "name": "#%%\n"
    }
   }
  },
  {
   "cell_type": "markdown",
   "source": [
    "# Aggregating data\n",
    "- In one dataframe"
   ],
   "metadata": {
    "collapsed": false
   }
  },
  {
   "cell_type": "code",
   "execution_count": 5,
   "outputs": [
    {
     "data": {
      "text/plain": "    currency  count\n0        TJS    677\n1        VUV    667\n2        CAD    667\n3        NAD    666\n4        CZK    664\n..       ...    ...\n159      SLL    557\n160      LTL    556\n161      PAB    542\n162      AUD    541\n163      KYD    540\n\n[164 rows x 2 columns]",
      "text/html": "<div>\n<style scoped>\n    .dataframe tbody tr th:only-of-type {\n        vertical-align: middle;\n    }\n\n    .dataframe tbody tr th {\n        vertical-align: top;\n    }\n\n    .dataframe thead th {\n        text-align: right;\n    }\n</style>\n<table border=\"1\" class=\"dataframe\">\n  <thead>\n    <tr style=\"text-align: right;\">\n      <th></th>\n      <th>currency</th>\n      <th>count</th>\n    </tr>\n  </thead>\n  <tbody>\n    <tr>\n      <th>0</th>\n      <td>TJS</td>\n      <td>677</td>\n    </tr>\n    <tr>\n      <th>1</th>\n      <td>VUV</td>\n      <td>667</td>\n    </tr>\n    <tr>\n      <th>2</th>\n      <td>CAD</td>\n      <td>667</td>\n    </tr>\n    <tr>\n      <th>3</th>\n      <td>NAD</td>\n      <td>666</td>\n    </tr>\n    <tr>\n      <th>4</th>\n      <td>CZK</td>\n      <td>664</td>\n    </tr>\n    <tr>\n      <th>...</th>\n      <td>...</td>\n      <td>...</td>\n    </tr>\n    <tr>\n      <th>159</th>\n      <td>SLL</td>\n      <td>557</td>\n    </tr>\n    <tr>\n      <th>160</th>\n      <td>LTL</td>\n      <td>556</td>\n    </tr>\n    <tr>\n      <th>161</th>\n      <td>PAB</td>\n      <td>542</td>\n    </tr>\n    <tr>\n      <th>162</th>\n      <td>AUD</td>\n      <td>541</td>\n    </tr>\n    <tr>\n      <th>163</th>\n      <td>KYD</td>\n      <td>540</td>\n    </tr>\n  </tbody>\n</table>\n<p>164 rows × 2 columns</p>\n</div>"
     },
     "metadata": {},
     "output_type": "display_data"
    }
   ],
   "source": [
    "single_agg = SingleAggregator(single_dataset, 'fraud', 'currency')\n",
    "currency_agg = single_agg.aggregate()\n",
    "\n",
    "display(currency_agg)\n"
   ],
   "metadata": {
    "collapsed": false,
    "pycharm": {
     "name": "#%%\n"
    }
   }
  },
  {
   "cell_type": "markdown",
   "source": [
    "# Custom feature generators"
   ],
   "metadata": {
    "collapsed": false
   }
  },
  {
   "cell_type": "code",
   "execution_count": 8,
   "outputs": [
    {
     "name": "stdout",
     "output_type": "stream",
     "text": [
      "name:  squared\n",
      "feature_type:  polynomial\n"
     ]
    },
    {
     "data": {
      "text/plain": "          id  card_id  store_id            datetime  amount currency  \\\n79788  79788    33268      8811 2019-03-30 03:49:55   11652      MWK   \n53045  53045    21910      4725 2019-04-20 15:45:09   72120      AZN   \n11391  11391    18037      4994 2019-05-30 19:55:54   48065      IRR   \n87348  87348    12254      5799 2019-04-16 01:36:48    7970      SOS   \n28473  28473    28234      6008 2019-07-20 11:19:14   85404      MXN   \n...      ...      ...       ...                 ...     ...      ...   \n31703  31703    29107       756 2019-01-27 20:22:07   61417      LRD   \n42523  42523     2593      1783 2019-01-13 15:22:17   13483      GMD   \n66500  66500    27280      3973 2019-01-20 01:59:13   68980      BOB   \n12741  12741    19221      3755 2019-04-04 19:43:23   42913      GTQ   \n56982  56982    32068      6570 2019-02-06 06:44:11   18316      GMD   \n\n       customer_present                     provider       lat        lng  \\\n79788             False                     Discover  38.38479   -0.76773   \n53045              True                 JCB 15 digit  53.59337    9.47629   \n11391              True                VISA 19 digit  22.98212  -80.58556   \n87348             False                   Mastercard  49.88307 -119.48568   \n28473              True                      Maestro  -3.14306  -58.44417   \n...                 ...                          ...       ...        ...   \n31703             False                VISA 16 digit  20.88098   75.11937   \n42523             False  Diners Club / Carte Blanche  42.24113  -88.31620   \n66500              True                   Mastercard  40.98894   28.67582   \n12741             False                     Discover   3.27833   32.88667   \n56982              True                      Maestro  12.74482    4.52514   \n\n             region country  fraud  amount_squared  \n79788       Novelda      ES  False       135769104  \n53045         Stade      DE  False      5201294400  \n11391    Corralillo      CU  False      2310244225  \n87348       Kelowna      CA  False        63520900  \n28473   Itacoatiara      BR   True      7293843216  \n...             ...     ...    ...             ...  \n31703        Parola      IN  False      3772047889  \n42523  Crystal Lake      US  False       181791289  \n66500       Yakuplu      TR  False      4758240400  \n12741        Kitgum      UG  False      1841525569  \n56982       Argungu      NG  False       335475856  \n\n[200 rows x 14 columns]",
      "text/html": "<div>\n<style scoped>\n    .dataframe tbody tr th:only-of-type {\n        vertical-align: middle;\n    }\n\n    .dataframe tbody tr th {\n        vertical-align: top;\n    }\n\n    .dataframe thead th {\n        text-align: right;\n    }\n</style>\n<table border=\"1\" class=\"dataframe\">\n  <thead>\n    <tr style=\"text-align: right;\">\n      <th></th>\n      <th>id</th>\n      <th>card_id</th>\n      <th>store_id</th>\n      <th>datetime</th>\n      <th>amount</th>\n      <th>currency</th>\n      <th>customer_present</th>\n      <th>provider</th>\n      <th>lat</th>\n      <th>lng</th>\n      <th>region</th>\n      <th>country</th>\n      <th>fraud</th>\n      <th>amount_squared</th>\n    </tr>\n  </thead>\n  <tbody>\n    <tr>\n      <th>79788</th>\n      <td>79788</td>\n      <td>33268</td>\n      <td>8811</td>\n      <td>2019-03-30 03:49:55</td>\n      <td>11652</td>\n      <td>MWK</td>\n      <td>False</td>\n      <td>Discover</td>\n      <td>38.38479</td>\n      <td>-0.76773</td>\n      <td>Novelda</td>\n      <td>ES</td>\n      <td>False</td>\n      <td>135769104</td>\n    </tr>\n    <tr>\n      <th>53045</th>\n      <td>53045</td>\n      <td>21910</td>\n      <td>4725</td>\n      <td>2019-04-20 15:45:09</td>\n      <td>72120</td>\n      <td>AZN</td>\n      <td>True</td>\n      <td>JCB 15 digit</td>\n      <td>53.59337</td>\n      <td>9.47629</td>\n      <td>Stade</td>\n      <td>DE</td>\n      <td>False</td>\n      <td>5201294400</td>\n    </tr>\n    <tr>\n      <th>11391</th>\n      <td>11391</td>\n      <td>18037</td>\n      <td>4994</td>\n      <td>2019-05-30 19:55:54</td>\n      <td>48065</td>\n      <td>IRR</td>\n      <td>True</td>\n      <td>VISA 19 digit</td>\n      <td>22.98212</td>\n      <td>-80.58556</td>\n      <td>Corralillo</td>\n      <td>CU</td>\n      <td>False</td>\n      <td>2310244225</td>\n    </tr>\n    <tr>\n      <th>87348</th>\n      <td>87348</td>\n      <td>12254</td>\n      <td>5799</td>\n      <td>2019-04-16 01:36:48</td>\n      <td>7970</td>\n      <td>SOS</td>\n      <td>False</td>\n      <td>Mastercard</td>\n      <td>49.88307</td>\n      <td>-119.48568</td>\n      <td>Kelowna</td>\n      <td>CA</td>\n      <td>False</td>\n      <td>63520900</td>\n    </tr>\n    <tr>\n      <th>28473</th>\n      <td>28473</td>\n      <td>28234</td>\n      <td>6008</td>\n      <td>2019-07-20 11:19:14</td>\n      <td>85404</td>\n      <td>MXN</td>\n      <td>True</td>\n      <td>Maestro</td>\n      <td>-3.14306</td>\n      <td>-58.44417</td>\n      <td>Itacoatiara</td>\n      <td>BR</td>\n      <td>True</td>\n      <td>7293843216</td>\n    </tr>\n    <tr>\n      <th>...</th>\n      <td>...</td>\n      <td>...</td>\n      <td>...</td>\n      <td>...</td>\n      <td>...</td>\n      <td>...</td>\n      <td>...</td>\n      <td>...</td>\n      <td>...</td>\n      <td>...</td>\n      <td>...</td>\n      <td>...</td>\n      <td>...</td>\n      <td>...</td>\n    </tr>\n    <tr>\n      <th>31703</th>\n      <td>31703</td>\n      <td>29107</td>\n      <td>756</td>\n      <td>2019-01-27 20:22:07</td>\n      <td>61417</td>\n      <td>LRD</td>\n      <td>False</td>\n      <td>VISA 16 digit</td>\n      <td>20.88098</td>\n      <td>75.11937</td>\n      <td>Parola</td>\n      <td>IN</td>\n      <td>False</td>\n      <td>3772047889</td>\n    </tr>\n    <tr>\n      <th>42523</th>\n      <td>42523</td>\n      <td>2593</td>\n      <td>1783</td>\n      <td>2019-01-13 15:22:17</td>\n      <td>13483</td>\n      <td>GMD</td>\n      <td>False</td>\n      <td>Diners Club / Carte Blanche</td>\n      <td>42.24113</td>\n      <td>-88.31620</td>\n      <td>Crystal Lake</td>\n      <td>US</td>\n      <td>False</td>\n      <td>181791289</td>\n    </tr>\n    <tr>\n      <th>66500</th>\n      <td>66500</td>\n      <td>27280</td>\n      <td>3973</td>\n      <td>2019-01-20 01:59:13</td>\n      <td>68980</td>\n      <td>BOB</td>\n      <td>True</td>\n      <td>Mastercard</td>\n      <td>40.98894</td>\n      <td>28.67582</td>\n      <td>Yakuplu</td>\n      <td>TR</td>\n      <td>False</td>\n      <td>4758240400</td>\n    </tr>\n    <tr>\n      <th>12741</th>\n      <td>12741</td>\n      <td>19221</td>\n      <td>3755</td>\n      <td>2019-04-04 19:43:23</td>\n      <td>42913</td>\n      <td>GTQ</td>\n      <td>False</td>\n      <td>Discover</td>\n      <td>3.27833</td>\n      <td>32.88667</td>\n      <td>Kitgum</td>\n      <td>UG</td>\n      <td>False</td>\n      <td>1841525569</td>\n    </tr>\n    <tr>\n      <th>56982</th>\n      <td>56982</td>\n      <td>32068</td>\n      <td>6570</td>\n      <td>2019-02-06 06:44:11</td>\n      <td>18316</td>\n      <td>GMD</td>\n      <td>True</td>\n      <td>Maestro</td>\n      <td>12.74482</td>\n      <td>4.52514</td>\n      <td>Argungu</td>\n      <td>NG</td>\n      <td>False</td>\n      <td>335475856</td>\n    </tr>\n  </tbody>\n</table>\n<p>200 rows × 14 columns</p>\n</div>"
     },
     "metadata": {},
     "output_type": "display_data"
    }
   ],
   "source": [
    "def square_column(data, column):\n",
    "    data[column+'_squared'] = data[column] * data[column]\n",
    "    return data\n",
    "\n",
    "cust_generator = custom_generator(square_column,\n",
    "                                  name='squared',\n",
    "                                  feature_type='polynomial')\n",
    "\n",
    "new_data = cust_generator.generate_feature(single_dataset_trunc.copy(), 'amount')\n",
    "\n",
    "print(\"name: \", cust_generator.name)\n",
    "print(\"feature_type: \", cust_generator.feature_type)\n",
    "display(new_data)"
   ],
   "metadata": {
    "collapsed": false,
    "pycharm": {
     "name": "#%%\n"
    }
   }
  },
  {
   "cell_type": "markdown",
   "source": [
    "# Average aggregator"
   ],
   "metadata": {
    "collapsed": false
   }
  },
  {
   "cell_type": "code",
   "execution_count": null,
   "outputs": [],
   "source": [
    "iris = sns.load_dataset('iris')\n",
    "key = 'species'\n",
    "\n",
    "avg_agg = Average(iris, key, label='iris')\n",
    "\n",
    "averages = avg_agg.aggregate()\n",
    "display(averages)"
   ],
   "metadata": {
    "collapsed": false,
    "pycharm": {
     "name": "#%%\n"
    }
   }
  }
 ],
 "metadata": {
  "kernelspec": {
   "name": "pycharm-ef99d5ee",
   "language": "python",
   "display_name": "PyCharm (ml_tools_take_home)"
  },
  "language_info": {
   "codemirror_mode": {
    "name": "ipython",
    "version": 2
   },
   "file_extension": ".py",
   "mimetype": "text/x-python",
   "name": "python",
   "nbconvert_exporter": "python",
   "pygments_lexer": "ipython2",
   "version": "2.7.6"
  }
 },
 "nbformat": 4,
 "nbformat_minor": 0
}