{
 "cells": [
  {
   "cell_type": "code",
   "execution_count": 2,
   "metadata": {
    "collapsed": true
   },
   "outputs": [],
   "source": [
    "from IPython.display import display\n",
    "from ml_tools import SimpleAggregator, \\\n",
    "    Hour, \\\n",
    "    SingleAggregator, \\\n",
    "    custom_generator, \\\n",
    "    Average, \\\n",
    "    DateTimeInfo, \\\n",
    "    ZipCodeInfo\n",
    "import pandas as pd\n",
    "import seaborn as sns"
   ]
  },
  {
   "cell_type": "markdown",
   "source": [
    "# Transforming features"
   ],
   "metadata": {
    "collapsed": false,
    "pycharm": {
     "name": "#%% md\n"
    }
   }
  },
  {
   "cell_type": "code",
   "execution_count": 3,
   "outputs": [
    {
     "data": {
      "text/plain": "          id  card_id  store_id             datetime  amount currency  \\\n90589  90589     5674      5674  2019-06-22 13:23:45   79753      NAD   \n79448  79448    23622      2363  2019-04-05 01:41:39   71276      MVR   \n62846  62846    32936      3163  2019-04-13 18:49:26   86045      RSD   \n46134  46134    29944      5392  2019-06-12 16:50:19    5596      CDF   \n30128  30128     4282      5303  2019-02-21 04:22:44   92695      KYD   \n70789  70789    30732      6116  2019-05-04 05:01:40   64408      TVD   \n9267    9267    18666      9141  2019-07-27 02:54:12   48249      DZD   \n84149  84149    10169      8088  2019-06-06 17:29:53   28582      NAD   \n70742  70742    24193      8888  2019-01-29 02:47:12   31538      KMF   \n26496  26496    22400       296  2019-01-23 03:53:33   68006      BGN   \n\n       customer_present                     provider       lat        lng  \\\n90589              True                VISA 16 digit  33.72255 -116.37697   \n79448              True                   Mastercard  36.64852   51.49621   \n62846             False             American Express  25.92127   86.79271   \n46134             False                 JCB 16 digit  32.65246   51.67462   \n30128              True                 JCB 16 digit  -7.51611  109.05389   \n70789             False                VISA 19 digit  53.95278   32.86389   \n9267              False             American Express -14.66463  -52.35558   \n84149             False                      Maestro  23.07492   88.28637   \n70742              True  Diners Club / Carte Blanche  35.00000  136.51667   \n26496              True                   Mastercard   2.41669   30.98551   \n\n               region country  fraud  \n90589     Palm Desert      US  False  \n79448        Nowshahr      IR  False  \n62846       Madhipura      IN  False  \n46134         Isfahan      IR  False  \n30128          Wangon      ID   True  \n70789      Roslavl‚Äô      RU  False  \n9267   Nova Xavantina      BR  False  \n84149          Pandua      IN  False  \n70742          Komono      JP  False  \n26496          Paidha      UG  False  ",
      "text/html": "<div>\n<style scoped>\n    .dataframe tbody tr th:only-of-type {\n        vertical-align: middle;\n    }\n\n    .dataframe tbody tr th {\n        vertical-align: top;\n    }\n\n    .dataframe thead th {\n        text-align: right;\n    }\n</style>\n<table border=\"1\" class=\"dataframe\">\n  <thead>\n    <tr style=\"text-align: right;\">\n      <th></th>\n      <th>id</th>\n      <th>card_id</th>\n      <th>store_id</th>\n      <th>datetime</th>\n      <th>amount</th>\n      <th>currency</th>\n      <th>customer_present</th>\n      <th>provider</th>\n      <th>lat</th>\n      <th>lng</th>\n      <th>region</th>\n      <th>country</th>\n      <th>fraud</th>\n    </tr>\n  </thead>\n  <tbody>\n    <tr>\n      <th>90589</th>\n      <td>90589</td>\n      <td>5674</td>\n      <td>5674</td>\n      <td>2019-06-22 13:23:45</td>\n      <td>79753</td>\n      <td>NAD</td>\n      <td>True</td>\n      <td>VISA 16 digit</td>\n      <td>33.72255</td>\n      <td>-116.37697</td>\n      <td>Palm Desert</td>\n      <td>US</td>\n      <td>False</td>\n    </tr>\n    <tr>\n      <th>79448</th>\n      <td>79448</td>\n      <td>23622</td>\n      <td>2363</td>\n      <td>2019-04-05 01:41:39</td>\n      <td>71276</td>\n      <td>MVR</td>\n      <td>True</td>\n      <td>Mastercard</td>\n      <td>36.64852</td>\n      <td>51.49621</td>\n      <td>Nowshahr</td>\n      <td>IR</td>\n      <td>False</td>\n    </tr>\n    <tr>\n      <th>62846</th>\n      <td>62846</td>\n      <td>32936</td>\n      <td>3163</td>\n      <td>2019-04-13 18:49:26</td>\n      <td>86045</td>\n      <td>RSD</td>\n      <td>False</td>\n      <td>American Express</td>\n      <td>25.92127</td>\n      <td>86.79271</td>\n      <td>Madhipura</td>\n      <td>IN</td>\n      <td>False</td>\n    </tr>\n    <tr>\n      <th>46134</th>\n      <td>46134</td>\n      <td>29944</td>\n      <td>5392</td>\n      <td>2019-06-12 16:50:19</td>\n      <td>5596</td>\n      <td>CDF</td>\n      <td>False</td>\n      <td>JCB 16 digit</td>\n      <td>32.65246</td>\n      <td>51.67462</td>\n      <td>Isfahan</td>\n      <td>IR</td>\n      <td>False</td>\n    </tr>\n    <tr>\n      <th>30128</th>\n      <td>30128</td>\n      <td>4282</td>\n      <td>5303</td>\n      <td>2019-02-21 04:22:44</td>\n      <td>92695</td>\n      <td>KYD</td>\n      <td>True</td>\n      <td>JCB 16 digit</td>\n      <td>-7.51611</td>\n      <td>109.05389</td>\n      <td>Wangon</td>\n      <td>ID</td>\n      <td>True</td>\n    </tr>\n    <tr>\n      <th>70789</th>\n      <td>70789</td>\n      <td>30732</td>\n      <td>6116</td>\n      <td>2019-05-04 05:01:40</td>\n      <td>64408</td>\n      <td>TVD</td>\n      <td>False</td>\n      <td>VISA 19 digit</td>\n      <td>53.95278</td>\n      <td>32.86389</td>\n      <td>Roslavl‚Äô</td>\n      <td>RU</td>\n      <td>False</td>\n    </tr>\n    <tr>\n      <th>9267</th>\n      <td>9267</td>\n      <td>18666</td>\n      <td>9141</td>\n      <td>2019-07-27 02:54:12</td>\n      <td>48249</td>\n      <td>DZD</td>\n      <td>False</td>\n      <td>American Express</td>\n      <td>-14.66463</td>\n      <td>-52.35558</td>\n      <td>Nova Xavantina</td>\n      <td>BR</td>\n      <td>False</td>\n    </tr>\n    <tr>\n      <th>84149</th>\n      <td>84149</td>\n      <td>10169</td>\n      <td>8088</td>\n      <td>2019-06-06 17:29:53</td>\n      <td>28582</td>\n      <td>NAD</td>\n      <td>False</td>\n      <td>Maestro</td>\n      <td>23.07492</td>\n      <td>88.28637</td>\n      <td>Pandua</td>\n      <td>IN</td>\n      <td>False</td>\n    </tr>\n    <tr>\n      <th>70742</th>\n      <td>70742</td>\n      <td>24193</td>\n      <td>8888</td>\n      <td>2019-01-29 02:47:12</td>\n      <td>31538</td>\n      <td>KMF</td>\n      <td>True</td>\n      <td>Diners Club / Carte Blanche</td>\n      <td>35.00000</td>\n      <td>136.51667</td>\n      <td>Komono</td>\n      <td>JP</td>\n      <td>False</td>\n    </tr>\n    <tr>\n      <th>26496</th>\n      <td>26496</td>\n      <td>22400</td>\n      <td>296</td>\n      <td>2019-01-23 03:53:33</td>\n      <td>68006</td>\n      <td>BGN</td>\n      <td>True</td>\n      <td>Mastercard</td>\n      <td>2.41669</td>\n      <td>30.98551</td>\n      <td>Paidha</td>\n      <td>UG</td>\n      <td>False</td>\n    </tr>\n  </tbody>\n</table>\n</div>"
     },
     "metadata": {},
     "output_type": "display_data"
    }
   ],
   "source": [
    "single_dataset = pd.read_csv(\"data/ml_tools_single_table_dataset/fraud.csv\")\n",
    "display(single_dataset.sample(10))\n",
    "## too big to run quickly (also unnecessary for the demo)\n",
    "single_dataset_trunc = single_dataset.sample(200)"
   ],
   "metadata": {
    "collapsed": false,
    "pycharm": {
     "name": "#%%\n"
    }
   }
  },
  {
   "cell_type": "code",
   "execution_count": 4,
   "outputs": [
    {
     "name": "stderr",
     "output_type": "stream",
     "text": [
      "/Users/john/Projects/Programming/ml_tools/ml_tools/feature_generator.py:74: SettingWithCopyWarning: \n",
      "A value is trying to be set on a copy of a slice from a DataFrame\n",
      "\n",
      "See the caveats in the documentation: https://pandas.pydata.org/pandas-docs/stable/user_guide/indexing.html#returning-a-view-versus-a-copy\n",
      "  data.iloc[:, idx][index] = time.hour\n"
     ]
    },
    {
     "data": {
      "text/plain": "          id  card_id  store_id datetime  amount currency  customer_present  \\\n9373    9373      395      7915       17   78110      JEP             False   \n97769  97769     9002      9002       14   60979      KHR             False   \n69105  69105     8928      8928       17   66699      STD             False   \n4387    4387      674      9052        2   21220      VEF             False   \n16574  16574    11842      4145        4   22349      OMR             False   \n79305  79305    11857      2635       14   98879      HUF              True   \n74556  74556     1657      1657       17   20633      PYG              True   \n12756  12756    13154      8081        2   98387      LRD             False   \n43158  43158     8148      3043        3   91782      BIF              True   \n9421    9421    28001      6978       20    2599      LSL             False   \n\n                          provider       lat        lng            region  \\\n9373                 VISA 16 digit  35.25064  -91.73625            Searcy   \n97769                VISA 16 digit  41.67640  -91.58045        Coralville   \n69105                VISA 19 digit  22.49396 -105.36369         Acaponeta   \n4387                  JCB 16 digit  42.35843  -71.05977            Boston   \n16574  Diners Club / Carte Blanche  33.95015 -118.03917    South Whittier   \n79305                     Discover  14.62072   74.83554             Sirsi   \n74556                      Maestro  36.00000  139.55722           Okegawa   \n12756             American Express  53.83333   -2.98333  Poulton-le-Fylde   \n43158                   Mastercard  34.75856  136.13108   Ueno-ebisumachi   \n9421                 VISA 16 digit  36.76639    3.47717         Boumerdas   \n\n      country  fraud  \n9373       US  False  \n97769      US  False  \n69105      MX  False  \n4387       US  False  \n16574      US   True  \n79305      IN   True  \n74556      JP  False  \n12756      GB   True  \n43158      JP   True  \n9421       DZ  False  ",
      "text/html": "<div>\n<style scoped>\n    .dataframe tbody tr th:only-of-type {\n        vertical-align: middle;\n    }\n\n    .dataframe tbody tr th {\n        vertical-align: top;\n    }\n\n    .dataframe thead th {\n        text-align: right;\n    }\n</style>\n<table border=\"1\" class=\"dataframe\">\n  <thead>\n    <tr style=\"text-align: right;\">\n      <th></th>\n      <th>id</th>\n      <th>card_id</th>\n      <th>store_id</th>\n      <th>datetime</th>\n      <th>amount</th>\n      <th>currency</th>\n      <th>customer_present</th>\n      <th>provider</th>\n      <th>lat</th>\n      <th>lng</th>\n      <th>region</th>\n      <th>country</th>\n      <th>fraud</th>\n    </tr>\n  </thead>\n  <tbody>\n    <tr>\n      <th>9373</th>\n      <td>9373</td>\n      <td>395</td>\n      <td>7915</td>\n      <td>17</td>\n      <td>78110</td>\n      <td>JEP</td>\n      <td>False</td>\n      <td>VISA 16 digit</td>\n      <td>35.25064</td>\n      <td>-91.73625</td>\n      <td>Searcy</td>\n      <td>US</td>\n      <td>False</td>\n    </tr>\n    <tr>\n      <th>97769</th>\n      <td>97769</td>\n      <td>9002</td>\n      <td>9002</td>\n      <td>14</td>\n      <td>60979</td>\n      <td>KHR</td>\n      <td>False</td>\n      <td>VISA 16 digit</td>\n      <td>41.67640</td>\n      <td>-91.58045</td>\n      <td>Coralville</td>\n      <td>US</td>\n      <td>False</td>\n    </tr>\n    <tr>\n      <th>69105</th>\n      <td>69105</td>\n      <td>8928</td>\n      <td>8928</td>\n      <td>17</td>\n      <td>66699</td>\n      <td>STD</td>\n      <td>False</td>\n      <td>VISA 19 digit</td>\n      <td>22.49396</td>\n      <td>-105.36369</td>\n      <td>Acaponeta</td>\n      <td>MX</td>\n      <td>False</td>\n    </tr>\n    <tr>\n      <th>4387</th>\n      <td>4387</td>\n      <td>674</td>\n      <td>9052</td>\n      <td>2</td>\n      <td>21220</td>\n      <td>VEF</td>\n      <td>False</td>\n      <td>JCB 16 digit</td>\n      <td>42.35843</td>\n      <td>-71.05977</td>\n      <td>Boston</td>\n      <td>US</td>\n      <td>False</td>\n    </tr>\n    <tr>\n      <th>16574</th>\n      <td>16574</td>\n      <td>11842</td>\n      <td>4145</td>\n      <td>4</td>\n      <td>22349</td>\n      <td>OMR</td>\n      <td>False</td>\n      <td>Diners Club / Carte Blanche</td>\n      <td>33.95015</td>\n      <td>-118.03917</td>\n      <td>South Whittier</td>\n      <td>US</td>\n      <td>True</td>\n    </tr>\n    <tr>\n      <th>79305</th>\n      <td>79305</td>\n      <td>11857</td>\n      <td>2635</td>\n      <td>14</td>\n      <td>98879</td>\n      <td>HUF</td>\n      <td>True</td>\n      <td>Discover</td>\n      <td>14.62072</td>\n      <td>74.83554</td>\n      <td>Sirsi</td>\n      <td>IN</td>\n      <td>True</td>\n    </tr>\n    <tr>\n      <th>74556</th>\n      <td>74556</td>\n      <td>1657</td>\n      <td>1657</td>\n      <td>17</td>\n      <td>20633</td>\n      <td>PYG</td>\n      <td>True</td>\n      <td>Maestro</td>\n      <td>36.00000</td>\n      <td>139.55722</td>\n      <td>Okegawa</td>\n      <td>JP</td>\n      <td>False</td>\n    </tr>\n    <tr>\n      <th>12756</th>\n      <td>12756</td>\n      <td>13154</td>\n      <td>8081</td>\n      <td>2</td>\n      <td>98387</td>\n      <td>LRD</td>\n      <td>False</td>\n      <td>American Express</td>\n      <td>53.83333</td>\n      <td>-2.98333</td>\n      <td>Poulton-le-Fylde</td>\n      <td>GB</td>\n      <td>True</td>\n    </tr>\n    <tr>\n      <th>43158</th>\n      <td>43158</td>\n      <td>8148</td>\n      <td>3043</td>\n      <td>3</td>\n      <td>91782</td>\n      <td>BIF</td>\n      <td>True</td>\n      <td>Mastercard</td>\n      <td>34.75856</td>\n      <td>136.13108</td>\n      <td>Ueno-ebisumachi</td>\n      <td>JP</td>\n      <td>True</td>\n    </tr>\n    <tr>\n      <th>9421</th>\n      <td>9421</td>\n      <td>28001</td>\n      <td>6978</td>\n      <td>20</td>\n      <td>2599</td>\n      <td>LSL</td>\n      <td>False</td>\n      <td>VISA 16 digit</td>\n      <td>36.76639</td>\n      <td>3.47717</td>\n      <td>Boumerdas</td>\n      <td>DZ</td>\n      <td>False</td>\n    </tr>\n  </tbody>\n</table>\n</div>"
     },
     "metadata": {},
     "output_type": "display_data"
    }
   ],
   "source": [
    "single_dataset_hours = Hour.generate_feature(single_dataset_trunc.copy())\n",
    "display(single_dataset_hours.sample(10))"
   ],
   "metadata": {
    "collapsed": false,
    "pycharm": {
     "name": "#%%\n"
    }
   }
  },
  {
   "cell_type": "markdown",
   "source": [
    "# Splitting data\n",
    "- Splitting timestamps into multiple features"
   ],
   "metadata": {
    "collapsed": false,
    "pycharm": {
     "name": "#%% md\n"
    }
   }
  },
  {
   "cell_type": "code",
   "execution_count": 5,
   "outputs": [
    {
     "data": {
      "text/plain": "          id  card_id  store_id  amount currency  customer_present  \\\n81108  81108     4821      4821   86661      XPF             False   \n48509  48509    32490      8990   40346      RWF              True   \n68611  68611     7515      7515   56837      XCD             False   \n49914  49914    18940      2556   83280      ZMW             False   \n14914  14914    28536      6885   16645      LAK             False   \n19022  19022    33116      3394   93654      BZD              True   \n32505  32505    17939      7386   99958      SBD             False   \n65691  65691    12659      7457   49094      UYU             False   \n43158  43158     8148      3043   91782      BIF              True   \n16985  16985    12108       968   86210      SZL             False   \n\n            provider       lat        lng           region country  fraud  \\\n81108     Mastercard  11.93381   79.82979       Puducherry      IN  False   \n48509   JCB 16 digit  36.92574   14.72443           Ragusa      IT  False   \n68611   JCB 16 digit -31.44880  -60.93173        Esperanza      AR  False   \n49914       Discover -17.83333   48.41667   Ambatondrazaka      MG  False   \n14914   JCB 16 digit  31.28092   74.85849            Patti      IN   True   \n19022  VISA 13 digit  35.48199  137.02166         Minokamo      JP   True   \n32505   JCB 15 digit  55.25000   24.75000          Ukmerge      LT   True   \n65691     Mastercard  38.70734  -77.02303  Fort Washington      US  False   \n43158     Mastercard  34.75856  136.13108  Ueno-ebisumachi      JP   True   \n16985       Discover  53.59337    9.47629            Stade      DE  False   \n\n       datetime_year  datetime_month  datetime_day  datetime_weekday  \\\n81108           2019               2             7                 3   \n48509           2019               7             6                 5   \n68611           2019               5             9                 3   \n49914           2019               2            26                 1   \n14914           2019               7             2                 1   \n19022           2019               5            17                 4   \n32505           2019               5            15                 2   \n65691           2019               2            25                 0   \n43158           2019               4             1                 0   \n16985           2019               6            16                 6   \n\n      datetime_time  \n81108      02:11:39  \n48509      12:04:21  \n68611      21:17:37  \n49914      03:54:09  \n14914      15:56:58  \n19022      06:48:35  \n32505      21:09:00  \n65691      02:59:11  \n43158      03:19:19  \n16985      05:23:17  ",
      "text/html": "<div>\n<style scoped>\n    .dataframe tbody tr th:only-of-type {\n        vertical-align: middle;\n    }\n\n    .dataframe tbody tr th {\n        vertical-align: top;\n    }\n\n    .dataframe thead th {\n        text-align: right;\n    }\n</style>\n<table border=\"1\" class=\"dataframe\">\n  <thead>\n    <tr style=\"text-align: right;\">\n      <th></th>\n      <th>id</th>\n      <th>card_id</th>\n      <th>store_id</th>\n      <th>amount</th>\n      <th>currency</th>\n      <th>customer_present</th>\n      <th>provider</th>\n      <th>lat</th>\n      <th>lng</th>\n      <th>region</th>\n      <th>country</th>\n      <th>fraud</th>\n      <th>datetime_year</th>\n      <th>datetime_month</th>\n      <th>datetime_day</th>\n      <th>datetime_weekday</th>\n      <th>datetime_time</th>\n    </tr>\n  </thead>\n  <tbody>\n    <tr>\n      <th>81108</th>\n      <td>81108</td>\n      <td>4821</td>\n      <td>4821</td>\n      <td>86661</td>\n      <td>XPF</td>\n      <td>False</td>\n      <td>Mastercard</td>\n      <td>11.93381</td>\n      <td>79.82979</td>\n      <td>Puducherry</td>\n      <td>IN</td>\n      <td>False</td>\n      <td>2019</td>\n      <td>2</td>\n      <td>7</td>\n      <td>3</td>\n      <td>02:11:39</td>\n    </tr>\n    <tr>\n      <th>48509</th>\n      <td>48509</td>\n      <td>32490</td>\n      <td>8990</td>\n      <td>40346</td>\n      <td>RWF</td>\n      <td>True</td>\n      <td>JCB 16 digit</td>\n      <td>36.92574</td>\n      <td>14.72443</td>\n      <td>Ragusa</td>\n      <td>IT</td>\n      <td>False</td>\n      <td>2019</td>\n      <td>7</td>\n      <td>6</td>\n      <td>5</td>\n      <td>12:04:21</td>\n    </tr>\n    <tr>\n      <th>68611</th>\n      <td>68611</td>\n      <td>7515</td>\n      <td>7515</td>\n      <td>56837</td>\n      <td>XCD</td>\n      <td>False</td>\n      <td>JCB 16 digit</td>\n      <td>-31.44880</td>\n      <td>-60.93173</td>\n      <td>Esperanza</td>\n      <td>AR</td>\n      <td>False</td>\n      <td>2019</td>\n      <td>5</td>\n      <td>9</td>\n      <td>3</td>\n      <td>21:17:37</td>\n    </tr>\n    <tr>\n      <th>49914</th>\n      <td>49914</td>\n      <td>18940</td>\n      <td>2556</td>\n      <td>83280</td>\n      <td>ZMW</td>\n      <td>False</td>\n      <td>Discover</td>\n      <td>-17.83333</td>\n      <td>48.41667</td>\n      <td>Ambatondrazaka</td>\n      <td>MG</td>\n      <td>False</td>\n      <td>2019</td>\n      <td>2</td>\n      <td>26</td>\n      <td>1</td>\n      <td>03:54:09</td>\n    </tr>\n    <tr>\n      <th>14914</th>\n      <td>14914</td>\n      <td>28536</td>\n      <td>6885</td>\n      <td>16645</td>\n      <td>LAK</td>\n      <td>False</td>\n      <td>JCB 16 digit</td>\n      <td>31.28092</td>\n      <td>74.85849</td>\n      <td>Patti</td>\n      <td>IN</td>\n      <td>True</td>\n      <td>2019</td>\n      <td>7</td>\n      <td>2</td>\n      <td>1</td>\n      <td>15:56:58</td>\n    </tr>\n    <tr>\n      <th>19022</th>\n      <td>19022</td>\n      <td>33116</td>\n      <td>3394</td>\n      <td>93654</td>\n      <td>BZD</td>\n      <td>True</td>\n      <td>VISA 13 digit</td>\n      <td>35.48199</td>\n      <td>137.02166</td>\n      <td>Minokamo</td>\n      <td>JP</td>\n      <td>True</td>\n      <td>2019</td>\n      <td>5</td>\n      <td>17</td>\n      <td>4</td>\n      <td>06:48:35</td>\n    </tr>\n    <tr>\n      <th>32505</th>\n      <td>32505</td>\n      <td>17939</td>\n      <td>7386</td>\n      <td>99958</td>\n      <td>SBD</td>\n      <td>False</td>\n      <td>JCB 15 digit</td>\n      <td>55.25000</td>\n      <td>24.75000</td>\n      <td>Ukmerge</td>\n      <td>LT</td>\n      <td>True</td>\n      <td>2019</td>\n      <td>5</td>\n      <td>15</td>\n      <td>2</td>\n      <td>21:09:00</td>\n    </tr>\n    <tr>\n      <th>65691</th>\n      <td>65691</td>\n      <td>12659</td>\n      <td>7457</td>\n      <td>49094</td>\n      <td>UYU</td>\n      <td>False</td>\n      <td>Mastercard</td>\n      <td>38.70734</td>\n      <td>-77.02303</td>\n      <td>Fort Washington</td>\n      <td>US</td>\n      <td>False</td>\n      <td>2019</td>\n      <td>2</td>\n      <td>25</td>\n      <td>0</td>\n      <td>02:59:11</td>\n    </tr>\n    <tr>\n      <th>43158</th>\n      <td>43158</td>\n      <td>8148</td>\n      <td>3043</td>\n      <td>91782</td>\n      <td>BIF</td>\n      <td>True</td>\n      <td>Mastercard</td>\n      <td>34.75856</td>\n      <td>136.13108</td>\n      <td>Ueno-ebisumachi</td>\n      <td>JP</td>\n      <td>True</td>\n      <td>2019</td>\n      <td>4</td>\n      <td>1</td>\n      <td>0</td>\n      <td>03:19:19</td>\n    </tr>\n    <tr>\n      <th>16985</th>\n      <td>16985</td>\n      <td>12108</td>\n      <td>968</td>\n      <td>86210</td>\n      <td>SZL</td>\n      <td>False</td>\n      <td>Discover</td>\n      <td>53.59337</td>\n      <td>9.47629</td>\n      <td>Stade</td>\n      <td>DE</td>\n      <td>False</td>\n      <td>2019</td>\n      <td>6</td>\n      <td>16</td>\n      <td>6</td>\n      <td>05:23:17</td>\n    </tr>\n  </tbody>\n</table>\n</div>"
     },
     "metadata": {},
     "output_type": "display_data"
    }
   ],
   "source": [
    "single_dataset_split_time = DateTimeInfo.generate_feature(single_dataset_trunc.copy(), column = 'datetime')\n",
    "display(single_dataset_split_time.sample(10))"
   ],
   "metadata": {
    "collapsed": false,
    "pycharm": {
     "name": "#%%\n"
    }
   }
  },
  {
   "cell_type": "markdown",
   "source": [
    "- getting more info from zip codes"
   ],
   "metadata": {
    "collapsed": false,
    "pycharm": {
     "name": "#%% md\n"
    }
   }
  },
  {
   "cell_type": "code",
   "execution_count": 6,
   "outputs": [
    {
     "data": {
      "text/plain": "   customer_id  zip_code            join_date date_of_birth\n0            1     60091  2011-04-17 10:48:33    1994-07-18\n1            2     13244  2012-04-15 23:31:04    1986-08-18\n2            3     13244  2011-08-13 15:42:34    2003-11-21\n3            4     60091  2011-04-08 20:08:14    2006-08-15\n4            5     60091  2010-07-17 05:27:50    1984-07-28",
      "text/html": "<div>\n<style scoped>\n    .dataframe tbody tr th:only-of-type {\n        vertical-align: middle;\n    }\n\n    .dataframe tbody tr th {\n        vertical-align: top;\n    }\n\n    .dataframe thead th {\n        text-align: right;\n    }\n</style>\n<table border=\"1\" class=\"dataframe\">\n  <thead>\n    <tr style=\"text-align: right;\">\n      <th></th>\n      <th>customer_id</th>\n      <th>zip_code</th>\n      <th>join_date</th>\n      <th>date_of_birth</th>\n    </tr>\n  </thead>\n  <tbody>\n    <tr>\n      <th>0</th>\n      <td>1</td>\n      <td>60091</td>\n      <td>2011-04-17 10:48:33</td>\n      <td>1994-07-18</td>\n    </tr>\n    <tr>\n      <th>1</th>\n      <td>2</td>\n      <td>13244</td>\n      <td>2012-04-15 23:31:04</td>\n      <td>1986-08-18</td>\n    </tr>\n    <tr>\n      <th>2</th>\n      <td>3</td>\n      <td>13244</td>\n      <td>2011-08-13 15:42:34</td>\n      <td>2003-11-21</td>\n    </tr>\n    <tr>\n      <th>3</th>\n      <td>4</td>\n      <td>60091</td>\n      <td>2011-04-08 20:08:14</td>\n      <td>2006-08-15</td>\n    </tr>\n    <tr>\n      <th>4</th>\n      <td>5</td>\n      <td>60091</td>\n      <td>2010-07-17 05:27:50</td>\n      <td>1984-07-28</td>\n    </tr>\n  </tbody>\n</table>\n</div>"
     },
     "metadata": {},
     "output_type": "display_data"
    },
    {
     "data": {
      "text/plain": "   customer_id  zip_code            join_date date_of_birth state  \\\n0            1     60091  2011-04-17 10:48:33    1994-07-18    IL   \n1            2     13244  2012-04-15 23:31:04    1986-08-18    NY   \n2            3     13244  2011-08-13 15:42:34    2003-11-21    NY   \n3            4     60091  2011-04-08 20:08:14    2006-08-15    IL   \n4            5     60091  2010-07-17 05:27:50    1984-07-28    IL   \n\n            county      city    lat    lng timezone  \n0      Cook County  Wilmette  42.08 -87.73  Central  \n1  Onondaga County  Syracuse   None   None     None  \n2  Onondaga County  Syracuse   None   None     None  \n3      Cook County  Wilmette  42.08 -87.73  Central  \n4      Cook County  Wilmette  42.08 -87.73  Central  ",
      "text/html": "<div>\n<style scoped>\n    .dataframe tbody tr th:only-of-type {\n        vertical-align: middle;\n    }\n\n    .dataframe tbody tr th {\n        vertical-align: top;\n    }\n\n    .dataframe thead th {\n        text-align: right;\n    }\n</style>\n<table border=\"1\" class=\"dataframe\">\n  <thead>\n    <tr style=\"text-align: right;\">\n      <th></th>\n      <th>customer_id</th>\n      <th>zip_code</th>\n      <th>join_date</th>\n      <th>date_of_birth</th>\n      <th>state</th>\n      <th>county</th>\n      <th>city</th>\n      <th>lat</th>\n      <th>lng</th>\n      <th>timezone</th>\n    </tr>\n  </thead>\n  <tbody>\n    <tr>\n      <th>0</th>\n      <td>1</td>\n      <td>60091</td>\n      <td>2011-04-17 10:48:33</td>\n      <td>1994-07-18</td>\n      <td>IL</td>\n      <td>Cook County</td>\n      <td>Wilmette</td>\n      <td>42.08</td>\n      <td>-87.73</td>\n      <td>Central</td>\n    </tr>\n    <tr>\n      <th>1</th>\n      <td>2</td>\n      <td>13244</td>\n      <td>2012-04-15 23:31:04</td>\n      <td>1986-08-18</td>\n      <td>NY</td>\n      <td>Onondaga County</td>\n      <td>Syracuse</td>\n      <td>None</td>\n      <td>None</td>\n      <td>None</td>\n    </tr>\n    <tr>\n      <th>2</th>\n      <td>3</td>\n      <td>13244</td>\n      <td>2011-08-13 15:42:34</td>\n      <td>2003-11-21</td>\n      <td>NY</td>\n      <td>Onondaga County</td>\n      <td>Syracuse</td>\n      <td>None</td>\n      <td>None</td>\n      <td>None</td>\n    </tr>\n    <tr>\n      <th>3</th>\n      <td>4</td>\n      <td>60091</td>\n      <td>2011-04-08 20:08:14</td>\n      <td>2006-08-15</td>\n      <td>IL</td>\n      <td>Cook County</td>\n      <td>Wilmette</td>\n      <td>42.08</td>\n      <td>-87.73</td>\n      <td>Central</td>\n    </tr>\n    <tr>\n      <th>4</th>\n      <td>5</td>\n      <td>60091</td>\n      <td>2010-07-17 05:27:50</td>\n      <td>1984-07-28</td>\n      <td>IL</td>\n      <td>Cook County</td>\n      <td>Wilmette</td>\n      <td>42.08</td>\n      <td>-87.73</td>\n      <td>Central</td>\n    </tr>\n  </tbody>\n</table>\n</div>"
     },
     "metadata": {},
     "output_type": "display_data"
    }
   ],
   "source": [
    "customers = pd.read_csv(\"data/ml_tools_multiiple_tables_dataset/customers.csv\")\n",
    "display(customers)\n",
    "\n",
    "customers = ZipCodeInfo.generate_feature(customers, column='zip_code')\n",
    "display(customers)"
   ],
   "metadata": {
    "collapsed": false,
    "pycharm": {
     "name": "#%%\n"
    }
   }
  },
  {
   "cell_type": "markdown",
   "source": [
    "# Aggregating data\n",
    "- Across multiple dataframes"
   ],
   "metadata": {
    "collapsed": false,
    "pycharm": {
     "name": "#%% md\n"
    }
   }
  },
  {
   "cell_type": "code",
   "execution_count": 7,
   "outputs": [
    {
     "name": "stdout",
     "output_type": "stream",
     "text": [
      "\n",
      " RELATIONSHIPS:\n",
      "transactions.product_id -> products.product_id\n",
      "\n"
     ]
    },
    {
     "data": {
      "text/plain": "   product_id  count\n0           4    106\n1           5    104\n2           1    102\n3           3     96\n4           2     92",
      "text/html": "<div>\n<style scoped>\n    .dataframe tbody tr th:only-of-type {\n        vertical-align: middle;\n    }\n\n    .dataframe tbody tr th {\n        vertical-align: top;\n    }\n\n    .dataframe thead th {\n        text-align: right;\n    }\n</style>\n<table border=\"1\" class=\"dataframe\">\n  <thead>\n    <tr style=\"text-align: right;\">\n      <th></th>\n      <th>product_id</th>\n      <th>count</th>\n    </tr>\n  </thead>\n  <tbody>\n    <tr>\n      <th>0</th>\n      <td>4</td>\n      <td>106</td>\n    </tr>\n    <tr>\n      <th>1</th>\n      <td>5</td>\n      <td>104</td>\n    </tr>\n    <tr>\n      <th>2</th>\n      <td>1</td>\n      <td>102</td>\n    </tr>\n    <tr>\n      <th>3</th>\n      <td>3</td>\n      <td>96</td>\n    </tr>\n    <tr>\n      <th>4</th>\n      <td>2</td>\n      <td>92</td>\n    </tr>\n  </tbody>\n</table>\n</div>"
     },
     "metadata": {},
     "output_type": "display_data"
    }
   ],
   "source": [
    "transactions = pd.read_csv(\"data/ml_tools_multiiple_tables_dataset/transactions.csv\")\n",
    "products = pd.read_csv(\"data/ml_tools_multiiple_tables_dataset/products.csv\")\n",
    "\n",
    "tp_agg = SimpleAggregator(transactions,\n",
    "                          products,\n",
    "                          label1='transactions',\n",
    "                          label2='products')\n",
    "tp_agg.new_relationship('product_id', 'product_id')\n",
    "print(tp_agg.relationships)\n",
    "\n",
    "agg = tp_agg.aggregate()\n",
    "display(agg)"
   ],
   "metadata": {
    "collapsed": false,
    "pycharm": {
     "name": "#%%\n"
    }
   }
  },
  {
   "cell_type": "markdown",
   "source": [
    "# Aggregating data\n",
    "- In one dataframe"
   ],
   "metadata": {
    "collapsed": false
   }
  },
  {
   "cell_type": "code",
   "execution_count": 8,
   "outputs": [
    {
     "data": {
      "text/plain": "    currency  count\n0        TJS    677\n1        CAD    667\n2        VUV    667\n3        NAD    666\n4        CZK    664\n..       ...    ...\n159      SLL    557\n160      LTL    556\n161      PAB    542\n162      AUD    541\n163      KYD    540\n\n[164 rows x 2 columns]",
      "text/html": "<div>\n<style scoped>\n    .dataframe tbody tr th:only-of-type {\n        vertical-align: middle;\n    }\n\n    .dataframe tbody tr th {\n        vertical-align: top;\n    }\n\n    .dataframe thead th {\n        text-align: right;\n    }\n</style>\n<table border=\"1\" class=\"dataframe\">\n  <thead>\n    <tr style=\"text-align: right;\">\n      <th></th>\n      <th>currency</th>\n      <th>count</th>\n    </tr>\n  </thead>\n  <tbody>\n    <tr>\n      <th>0</th>\n      <td>TJS</td>\n      <td>677</td>\n    </tr>\n    <tr>\n      <th>1</th>\n      <td>CAD</td>\n      <td>667</td>\n    </tr>\n    <tr>\n      <th>2</th>\n      <td>VUV</td>\n      <td>667</td>\n    </tr>\n    <tr>\n      <th>3</th>\n      <td>NAD</td>\n      <td>666</td>\n    </tr>\n    <tr>\n      <th>4</th>\n      <td>CZK</td>\n      <td>664</td>\n    </tr>\n    <tr>\n      <th>...</th>\n      <td>...</td>\n      <td>...</td>\n    </tr>\n    <tr>\n      <th>159</th>\n      <td>SLL</td>\n      <td>557</td>\n    </tr>\n    <tr>\n      <th>160</th>\n      <td>LTL</td>\n      <td>556</td>\n    </tr>\n    <tr>\n      <th>161</th>\n      <td>PAB</td>\n      <td>542</td>\n    </tr>\n    <tr>\n      <th>162</th>\n      <td>AUD</td>\n      <td>541</td>\n    </tr>\n    <tr>\n      <th>163</th>\n      <td>KYD</td>\n      <td>540</td>\n    </tr>\n  </tbody>\n</table>\n<p>164 rows × 2 columns</p>\n</div>"
     },
     "metadata": {},
     "output_type": "display_data"
    }
   ],
   "source": [
    "single_agg = SingleAggregator(single_dataset, 'fraud', 'currency')\n",
    "currency_agg = single_agg.aggregate()\n",
    "\n",
    "display(currency_agg)\n"
   ],
   "metadata": {
    "collapsed": false,
    "pycharm": {
     "name": "#%%\n"
    }
   }
  },
  {
   "cell_type": "markdown",
   "source": [
    "# Custom feature generators"
   ],
   "metadata": {
    "collapsed": false
   }
  },
  {
   "cell_type": "code",
   "execution_count": 9,
   "outputs": [
    {
     "name": "stdout",
     "output_type": "stream",
     "text": [
      "name:  squared\n",
      "feature_type:  polynomial\n"
     ]
    },
    {
     "data": {
      "text/plain": "          id  card_id  store_id             datetime  amount currency  \\\n63356  63356     7468      6356  2019-01-23 05:03:11   62015      BWP   \n4387    4387      674      9052  2019-02-11 02:06:15   21220      VEF   \n4122    4122    16887       808  2019-04-20 07:34:39   56973      UZS   \n67371  67371    16354      6214  2019-02-11 01:11:23   16913      BRL   \n75690  75690    16361      2494  2019-08-03 01:50:12   99633      SYP   \n...      ...      ...       ...                  ...     ...      ...   \n85692  85692    15137      9840  2019-06-14 17:16:57   60884      SLL   \n57991  57991    12619       730  2019-04-22 11:22:33   13149      MZN   \n69486  69486     7453      8550  2019-05-21 09:51:55   49380      NIO   \n55474  55474    17146      5020  2019-06-24 01:47:34   91877      CAD   \n57960  57960     8738      1913  2019-03-24 01:57:59   67562      AZN   \n\n       customer_present                     provider       lat        lng  \\\n63356              True                   Mastercard  33.44250  129.96972   \n4387              False                 JCB 16 digit  42.35843  -71.05977   \n4122              False                   Mastercard  50.76306   -1.29772   \n67371              True  Diners Club / Carte Blanche  52.86147    9.59260   \n75690              True             American Express  27.85000  112.90000   \n...                 ...                          ...       ...        ...   \n85692             False                      Maestro  20.74122 -100.44843   \n57991              True                     Discover  -7.57897  112.23109   \n69486             False                   Mastercard  22.47110   88.14530   \n55474             False                 JCB 16 digit  46.32374 -120.00865   \n57960             False                      Maestro  50.82709    6.97470   \n\n                    region country  fraud  amount_squared  \n63356              Karatsu      JP  False      3845860225  \n4387                Boston      US  False       450288400  \n4122                 Cowes      GB   True      3245922729  \n67371             Walsrode      DE  False       286049569  \n75690             Xiangtan      CN   True      9926734689  \n...                    ...     ...    ...             ...  \n85692  Santa Rosa Jauregui      MX  False      3706861456  \n57991                Diwek      ID  False       172896201  \n69486               Pujali      IN  False      2438384400  \n55474            Sunnyside      US   True      8441383129  \n57960            Wesseling      DE  False      4564623844  \n\n[200 rows x 14 columns]",
      "text/html": "<div>\n<style scoped>\n    .dataframe tbody tr th:only-of-type {\n        vertical-align: middle;\n    }\n\n    .dataframe tbody tr th {\n        vertical-align: top;\n    }\n\n    .dataframe thead th {\n        text-align: right;\n    }\n</style>\n<table border=\"1\" class=\"dataframe\">\n  <thead>\n    <tr style=\"text-align: right;\">\n      <th></th>\n      <th>id</th>\n      <th>card_id</th>\n      <th>store_id</th>\n      <th>datetime</th>\n      <th>amount</th>\n      <th>currency</th>\n      <th>customer_present</th>\n      <th>provider</th>\n      <th>lat</th>\n      <th>lng</th>\n      <th>region</th>\n      <th>country</th>\n      <th>fraud</th>\n      <th>amount_squared</th>\n    </tr>\n  </thead>\n  <tbody>\n    <tr>\n      <th>63356</th>\n      <td>63356</td>\n      <td>7468</td>\n      <td>6356</td>\n      <td>2019-01-23 05:03:11</td>\n      <td>62015</td>\n      <td>BWP</td>\n      <td>True</td>\n      <td>Mastercard</td>\n      <td>33.44250</td>\n      <td>129.96972</td>\n      <td>Karatsu</td>\n      <td>JP</td>\n      <td>False</td>\n      <td>3845860225</td>\n    </tr>\n    <tr>\n      <th>4387</th>\n      <td>4387</td>\n      <td>674</td>\n      <td>9052</td>\n      <td>2019-02-11 02:06:15</td>\n      <td>21220</td>\n      <td>VEF</td>\n      <td>False</td>\n      <td>JCB 16 digit</td>\n      <td>42.35843</td>\n      <td>-71.05977</td>\n      <td>Boston</td>\n      <td>US</td>\n      <td>False</td>\n      <td>450288400</td>\n    </tr>\n    <tr>\n      <th>4122</th>\n      <td>4122</td>\n      <td>16887</td>\n      <td>808</td>\n      <td>2019-04-20 07:34:39</td>\n      <td>56973</td>\n      <td>UZS</td>\n      <td>False</td>\n      <td>Mastercard</td>\n      <td>50.76306</td>\n      <td>-1.29772</td>\n      <td>Cowes</td>\n      <td>GB</td>\n      <td>True</td>\n      <td>3245922729</td>\n    </tr>\n    <tr>\n      <th>67371</th>\n      <td>67371</td>\n      <td>16354</td>\n      <td>6214</td>\n      <td>2019-02-11 01:11:23</td>\n      <td>16913</td>\n      <td>BRL</td>\n      <td>True</td>\n      <td>Diners Club / Carte Blanche</td>\n      <td>52.86147</td>\n      <td>9.59260</td>\n      <td>Walsrode</td>\n      <td>DE</td>\n      <td>False</td>\n      <td>286049569</td>\n    </tr>\n    <tr>\n      <th>75690</th>\n      <td>75690</td>\n      <td>16361</td>\n      <td>2494</td>\n      <td>2019-08-03 01:50:12</td>\n      <td>99633</td>\n      <td>SYP</td>\n      <td>True</td>\n      <td>American Express</td>\n      <td>27.85000</td>\n      <td>112.90000</td>\n      <td>Xiangtan</td>\n      <td>CN</td>\n      <td>True</td>\n      <td>9926734689</td>\n    </tr>\n    <tr>\n      <th>...</th>\n      <td>...</td>\n      <td>...</td>\n      <td>...</td>\n      <td>...</td>\n      <td>...</td>\n      <td>...</td>\n      <td>...</td>\n      <td>...</td>\n      <td>...</td>\n      <td>...</td>\n      <td>...</td>\n      <td>...</td>\n      <td>...</td>\n      <td>...</td>\n    </tr>\n    <tr>\n      <th>85692</th>\n      <td>85692</td>\n      <td>15137</td>\n      <td>9840</td>\n      <td>2019-06-14 17:16:57</td>\n      <td>60884</td>\n      <td>SLL</td>\n      <td>False</td>\n      <td>Maestro</td>\n      <td>20.74122</td>\n      <td>-100.44843</td>\n      <td>Santa Rosa Jauregui</td>\n      <td>MX</td>\n      <td>False</td>\n      <td>3706861456</td>\n    </tr>\n    <tr>\n      <th>57991</th>\n      <td>57991</td>\n      <td>12619</td>\n      <td>730</td>\n      <td>2019-04-22 11:22:33</td>\n      <td>13149</td>\n      <td>MZN</td>\n      <td>True</td>\n      <td>Discover</td>\n      <td>-7.57897</td>\n      <td>112.23109</td>\n      <td>Diwek</td>\n      <td>ID</td>\n      <td>False</td>\n      <td>172896201</td>\n    </tr>\n    <tr>\n      <th>69486</th>\n      <td>69486</td>\n      <td>7453</td>\n      <td>8550</td>\n      <td>2019-05-21 09:51:55</td>\n      <td>49380</td>\n      <td>NIO</td>\n      <td>False</td>\n      <td>Mastercard</td>\n      <td>22.47110</td>\n      <td>88.14530</td>\n      <td>Pujali</td>\n      <td>IN</td>\n      <td>False</td>\n      <td>2438384400</td>\n    </tr>\n    <tr>\n      <th>55474</th>\n      <td>55474</td>\n      <td>17146</td>\n      <td>5020</td>\n      <td>2019-06-24 01:47:34</td>\n      <td>91877</td>\n      <td>CAD</td>\n      <td>False</td>\n      <td>JCB 16 digit</td>\n      <td>46.32374</td>\n      <td>-120.00865</td>\n      <td>Sunnyside</td>\n      <td>US</td>\n      <td>True</td>\n      <td>8441383129</td>\n    </tr>\n    <tr>\n      <th>57960</th>\n      <td>57960</td>\n      <td>8738</td>\n      <td>1913</td>\n      <td>2019-03-24 01:57:59</td>\n      <td>67562</td>\n      <td>AZN</td>\n      <td>False</td>\n      <td>Maestro</td>\n      <td>50.82709</td>\n      <td>6.97470</td>\n      <td>Wesseling</td>\n      <td>DE</td>\n      <td>False</td>\n      <td>4564623844</td>\n    </tr>\n  </tbody>\n</table>\n<p>200 rows × 14 columns</p>\n</div>"
     },
     "metadata": {},
     "output_type": "display_data"
    }
   ],
   "source": [
    "def square_column(data, column):\n",
    "    data[column+'_squared'] = data[column] * data[column]\n",
    "    return data\n",
    "\n",
    "cust_generator = custom_generator(square_column,\n",
    "                                  name='squared',\n",
    "                                  feature_type='polynomial')\n",
    "\n",
    "new_data = cust_generator.generate_feature(single_dataset_trunc.copy(), 'amount')\n",
    "\n",
    "print(\"name: \", cust_generator.name)\n",
    "print(\"feature_type: \", cust_generator.feature_type)\n",
    "display(new_data)"
   ],
   "metadata": {
    "collapsed": false,
    "pycharm": {
     "name": "#%%\n"
    }
   }
  },
  {
   "cell_type": "markdown",
   "source": [
    "# Average aggregator"
   ],
   "metadata": {
    "collapsed": false
   }
  },
  {
   "cell_type": "code",
   "execution_count": 10,
   "outputs": [
    {
     "data": {
      "text/plain": "      species  count  sepal_length_avg  sepal_width_avg  petal_length_avg  \\\n0  versicolor     50             5.936            2.770             4.260   \n1      setosa     50             5.006            3.428             1.462   \n2   virginica     50             6.588            2.974             5.552   \n\n   petal_width_avg  \n0            1.326  \n1            0.246  \n2            2.026  ",
      "text/html": "<div>\n<style scoped>\n    .dataframe tbody tr th:only-of-type {\n        vertical-align: middle;\n    }\n\n    .dataframe tbody tr th {\n        vertical-align: top;\n    }\n\n    .dataframe thead th {\n        text-align: right;\n    }\n</style>\n<table border=\"1\" class=\"dataframe\">\n  <thead>\n    <tr style=\"text-align: right;\">\n      <th></th>\n      <th>species</th>\n      <th>count</th>\n      <th>sepal_length_avg</th>\n      <th>sepal_width_avg</th>\n      <th>petal_length_avg</th>\n      <th>petal_width_avg</th>\n    </tr>\n  </thead>\n  <tbody>\n    <tr>\n      <th>0</th>\n      <td>versicolor</td>\n      <td>50</td>\n      <td>5.936</td>\n      <td>2.770</td>\n      <td>4.260</td>\n      <td>1.326</td>\n    </tr>\n    <tr>\n      <th>1</th>\n      <td>setosa</td>\n      <td>50</td>\n      <td>5.006</td>\n      <td>3.428</td>\n      <td>1.462</td>\n      <td>0.246</td>\n    </tr>\n    <tr>\n      <th>2</th>\n      <td>virginica</td>\n      <td>50</td>\n      <td>6.588</td>\n      <td>2.974</td>\n      <td>5.552</td>\n      <td>2.026</td>\n    </tr>\n  </tbody>\n</table>\n</div>"
     },
     "metadata": {},
     "output_type": "display_data"
    }
   ],
   "source": [
    "iris = sns.load_dataset('iris')\n",
    "key = 'species'\n",
    "\n",
    "avg_agg = Average(iris, key, label='iris')\n",
    "\n",
    "averages = avg_agg.aggregate()\n",
    "display(averages)"
   ],
   "metadata": {
    "collapsed": false,
    "pycharm": {
     "name": "#%%\n"
    }
   }
  }
 ],
 "metadata": {
  "kernelspec": {
   "name": "pycharm-ef99d5ee",
   "language": "python",
   "display_name": "PyCharm (ml_tools_take_home)"
  },
  "language_info": {
   "codemirror_mode": {
    "name": "ipython",
    "version": 2
   },
   "file_extension": ".py",
   "mimetype": "text/x-python",
   "name": "python",
   "nbconvert_exporter": "python",
   "pygments_lexer": "ipython2",
   "version": "2.7.6"
  }
 },
 "nbformat": 4,
 "nbformat_minor": 0
}