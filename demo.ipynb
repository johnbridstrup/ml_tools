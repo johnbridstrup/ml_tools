{
 "cells": [
  {
   "cell_type": "code",
   "execution_count": 7,
   "metadata": {
    "collapsed": true
   },
   "outputs": [],
   "source": [
    "from IPython.display import display\n",
    "from ml_tools import SimpleAggregator, Hour, SingleAggregator, custom_generator\n",
    "import pandas as pd"
   ]
  },
  {
   "cell_type": "markdown",
   "source": [
    "# Transforming features"
   ],
   "metadata": {
    "collapsed": false,
    "pycharm": {
     "name": "#%% md\n"
    }
   }
  },
  {
   "cell_type": "code",
   "execution_count": 8,
   "outputs": [
    {
     "data": {
      "text/plain": "          id  card_id  store_id             datetime  amount currency  \\\n90186  90186    29950      1100  2019-07-01 16:49:53   69208      KZT   \n17942  17942    29084      4527  2019-02-25 01:20:29   44160      NPR   \n31672  31672    21948      7483  2019-06-06 15:07:25   38709      TOP   \n89222  89222    33122      8765  2019-04-07 13:25:02   80495      SRD   \n69516  69516      461      1688  2019-03-26 12:04:16   77133      KES   \n5223    5223    23154      1055  2019-04-23 01:00:39   31183      HNL   \n13213  13213    25090      2281  2019-07-07 04:37:24   42490      MVR   \n93406  93406     8868      2529  2019-02-06 23:51:20   40314      QAR   \n83815  83815    13392      1768  2019-05-31 16:59:13   63845      BZD   \n97525  97525    20389      9706  2019-04-27 08:06:35   90114      NPR   \n\n       customer_present                     provider       lat       lng  \\\n90186              True  Diners Club / Carte Blanche  60.97944  76.92421   \n17942             False                VISA 19 digit  12.18441  18.69303   \n31672              True             American Express -17.74431 -48.62789   \n89222             False                VISA 19 digit  43.31667  -2.68333   \n69516             False                 JCB 16 digit  25.67927 -80.31727   \n5223              False                VISA 13 digit  51.20219   7.36027   \n13213             False                   Mastercard  58.63667  59.80222   \n93406             False                 JCB 15 digit  45.44868 -73.81669   \n83815              True                VISA 19 digit  53.19146  -2.52398   \n97525             False                VISA 13 digit  29.84576 -90.10674   \n\n              region country  fraud  \n90186     Izluchinsk      RU  False  \n17942          Mongo      TD   True  \n31672   Caldas Novas      BR   True  \n89222   Gernika-Lumo      ES  False  \n69516        Kendall      US  False  \n5223    Radevormwald      DE  False  \n13213         Lesnoy      RU  False  \n93406  Pointe-Claire      CA  False  \n83815       Winsford      GB   True  \n97525        Estelle      US   True  ",
      "text/html": "<div>\n<style scoped>\n    .dataframe tbody tr th:only-of-type {\n        vertical-align: middle;\n    }\n\n    .dataframe tbody tr th {\n        vertical-align: top;\n    }\n\n    .dataframe thead th {\n        text-align: right;\n    }\n</style>\n<table border=\"1\" class=\"dataframe\">\n  <thead>\n    <tr style=\"text-align: right;\">\n      <th></th>\n      <th>id</th>\n      <th>card_id</th>\n      <th>store_id</th>\n      <th>datetime</th>\n      <th>amount</th>\n      <th>currency</th>\n      <th>customer_present</th>\n      <th>provider</th>\n      <th>lat</th>\n      <th>lng</th>\n      <th>region</th>\n      <th>country</th>\n      <th>fraud</th>\n    </tr>\n  </thead>\n  <tbody>\n    <tr>\n      <th>90186</th>\n      <td>90186</td>\n      <td>29950</td>\n      <td>1100</td>\n      <td>2019-07-01 16:49:53</td>\n      <td>69208</td>\n      <td>KZT</td>\n      <td>True</td>\n      <td>Diners Club / Carte Blanche</td>\n      <td>60.97944</td>\n      <td>76.92421</td>\n      <td>Izluchinsk</td>\n      <td>RU</td>\n      <td>False</td>\n    </tr>\n    <tr>\n      <th>17942</th>\n      <td>17942</td>\n      <td>29084</td>\n      <td>4527</td>\n      <td>2019-02-25 01:20:29</td>\n      <td>44160</td>\n      <td>NPR</td>\n      <td>False</td>\n      <td>VISA 19 digit</td>\n      <td>12.18441</td>\n      <td>18.69303</td>\n      <td>Mongo</td>\n      <td>TD</td>\n      <td>True</td>\n    </tr>\n    <tr>\n      <th>31672</th>\n      <td>31672</td>\n      <td>21948</td>\n      <td>7483</td>\n      <td>2019-06-06 15:07:25</td>\n      <td>38709</td>\n      <td>TOP</td>\n      <td>True</td>\n      <td>American Express</td>\n      <td>-17.74431</td>\n      <td>-48.62789</td>\n      <td>Caldas Novas</td>\n      <td>BR</td>\n      <td>True</td>\n    </tr>\n    <tr>\n      <th>89222</th>\n      <td>89222</td>\n      <td>33122</td>\n      <td>8765</td>\n      <td>2019-04-07 13:25:02</td>\n      <td>80495</td>\n      <td>SRD</td>\n      <td>False</td>\n      <td>VISA 19 digit</td>\n      <td>43.31667</td>\n      <td>-2.68333</td>\n      <td>Gernika-Lumo</td>\n      <td>ES</td>\n      <td>False</td>\n    </tr>\n    <tr>\n      <th>69516</th>\n      <td>69516</td>\n      <td>461</td>\n      <td>1688</td>\n      <td>2019-03-26 12:04:16</td>\n      <td>77133</td>\n      <td>KES</td>\n      <td>False</td>\n      <td>JCB 16 digit</td>\n      <td>25.67927</td>\n      <td>-80.31727</td>\n      <td>Kendall</td>\n      <td>US</td>\n      <td>False</td>\n    </tr>\n    <tr>\n      <th>5223</th>\n      <td>5223</td>\n      <td>23154</td>\n      <td>1055</td>\n      <td>2019-04-23 01:00:39</td>\n      <td>31183</td>\n      <td>HNL</td>\n      <td>False</td>\n      <td>VISA 13 digit</td>\n      <td>51.20219</td>\n      <td>7.36027</td>\n      <td>Radevormwald</td>\n      <td>DE</td>\n      <td>False</td>\n    </tr>\n    <tr>\n      <th>13213</th>\n      <td>13213</td>\n      <td>25090</td>\n      <td>2281</td>\n      <td>2019-07-07 04:37:24</td>\n      <td>42490</td>\n      <td>MVR</td>\n      <td>False</td>\n      <td>Mastercard</td>\n      <td>58.63667</td>\n      <td>59.80222</td>\n      <td>Lesnoy</td>\n      <td>RU</td>\n      <td>False</td>\n    </tr>\n    <tr>\n      <th>93406</th>\n      <td>93406</td>\n      <td>8868</td>\n      <td>2529</td>\n      <td>2019-02-06 23:51:20</td>\n      <td>40314</td>\n      <td>QAR</td>\n      <td>False</td>\n      <td>JCB 15 digit</td>\n      <td>45.44868</td>\n      <td>-73.81669</td>\n      <td>Pointe-Claire</td>\n      <td>CA</td>\n      <td>False</td>\n    </tr>\n    <tr>\n      <th>83815</th>\n      <td>83815</td>\n      <td>13392</td>\n      <td>1768</td>\n      <td>2019-05-31 16:59:13</td>\n      <td>63845</td>\n      <td>BZD</td>\n      <td>True</td>\n      <td>VISA 19 digit</td>\n      <td>53.19146</td>\n      <td>-2.52398</td>\n      <td>Winsford</td>\n      <td>GB</td>\n      <td>True</td>\n    </tr>\n    <tr>\n      <th>97525</th>\n      <td>97525</td>\n      <td>20389</td>\n      <td>9706</td>\n      <td>2019-04-27 08:06:35</td>\n      <td>90114</td>\n      <td>NPR</td>\n      <td>False</td>\n      <td>VISA 13 digit</td>\n      <td>29.84576</td>\n      <td>-90.10674</td>\n      <td>Estelle</td>\n      <td>US</td>\n      <td>True</td>\n    </tr>\n  </tbody>\n</table>\n</div>"
     },
     "metadata": {},
     "output_type": "display_data"
    }
   ],
   "source": [
    "single_dataset = pd.read_csv(\"data/ml_tools_single_table_dataset/fraud.csv\")\n",
    "display(single_dataset.sample(10))\n",
    "## too big to run quickly (also unnecessary for the demo)\n",
    "single_dataset_trunc = single_dataset.sample(200)"
   ],
   "metadata": {
    "collapsed": false,
    "pycharm": {
     "name": "#%%\n"
    }
   }
  },
  {
   "cell_type": "code",
   "execution_count": 9,
   "outputs": [
    {
     "name": "stdout",
     "output_type": "stream",
     "text": [
      "[3]\n"
     ]
    },
    {
     "name": "stderr",
     "output_type": "stream",
     "text": [
      "/Users/john/Projects/Programming/ml_tools/ml_tools/feature_generator.py:30: SettingWithCopyWarning: \n",
      "A value is trying to be set on a copy of a slice from a DataFrame\n",
      "\n",
      "See the caveats in the documentation: https://pandas.pydata.org/pandas-docs/stable/user_guide/indexing.html#returning-a-view-versus-a-copy\n",
      "  data.iloc[:, idx][index] = time.hour\n"
     ]
    },
    {
     "data": {
      "text/plain": "          id  card_id  store_id datetime  amount currency  customer_present  \\\n68130  68130    32066       997       22   79834      LSL              True   \n95998  95998    32887      7547        0   97560      HRK              True   \n17279  17279     3550      3550       15    8047      NGN             False   \n18267  18267    32220      3225        4   58580      GNF              True   \n44795  44795    28093       785       15   71813      LSL             False   \n3750    3750     2284      8604        7   75604      MRO              True   \n74610  74610    11157      8055       21   52115      XDR             False   \n36386  36386    16695      5039        3   91532      KHR             False   \n40959  40959    29730      1288        8   36496      UZS              True   \n29828  29828    23835      5330       14   46806      IQD             False   \n\n                          provider       lat        lng         region  \\\n68130                VISA 16 digit  33.52253 -117.70755  Laguna Niguel   \n95998  Diners Club / Carte Blanche -26.22861  -52.67056    Pato Branco   \n17279                 JCB 16 digit  33.37526   74.30920        Rajaori   \n18267                VISA 16 digit  34.08565   74.80555       Srinagar   \n44795                      Maestro  36.60090  126.66500      Hongseong   \n3750                 VISA 19 digit  39.57582 -105.11221      Ken Caryl   \n74610                VISA 16 digit  52.14000    5.58472      Barneveld   \n36386                   Mastercard  37.73604 -120.93549      Riverbank   \n40959                VISA 13 digit  46.18396    6.10237           Onex   \n29828                VISA 13 digit   6.25947  102.05461        Tak Bai   \n\n      country  fraud  \n68130      US  False  \n95998      BR   True  \n17279      IN  False  \n18267      IN  False  \n44795      KR  False  \n3750       US  False  \n74610      NL  False  \n36386      US   True  \n40959      CH  False  \n29828      TH  False  ",
      "text/html": "<div>\n<style scoped>\n    .dataframe tbody tr th:only-of-type {\n        vertical-align: middle;\n    }\n\n    .dataframe tbody tr th {\n        vertical-align: top;\n    }\n\n    .dataframe thead th {\n        text-align: right;\n    }\n</style>\n<table border=\"1\" class=\"dataframe\">\n  <thead>\n    <tr style=\"text-align: right;\">\n      <th></th>\n      <th>id</th>\n      <th>card_id</th>\n      <th>store_id</th>\n      <th>datetime</th>\n      <th>amount</th>\n      <th>currency</th>\n      <th>customer_present</th>\n      <th>provider</th>\n      <th>lat</th>\n      <th>lng</th>\n      <th>region</th>\n      <th>country</th>\n      <th>fraud</th>\n    </tr>\n  </thead>\n  <tbody>\n    <tr>\n      <th>68130</th>\n      <td>68130</td>\n      <td>32066</td>\n      <td>997</td>\n      <td>22</td>\n      <td>79834</td>\n      <td>LSL</td>\n      <td>True</td>\n      <td>VISA 16 digit</td>\n      <td>33.52253</td>\n      <td>-117.70755</td>\n      <td>Laguna Niguel</td>\n      <td>US</td>\n      <td>False</td>\n    </tr>\n    <tr>\n      <th>95998</th>\n      <td>95998</td>\n      <td>32887</td>\n      <td>7547</td>\n      <td>0</td>\n      <td>97560</td>\n      <td>HRK</td>\n      <td>True</td>\n      <td>Diners Club / Carte Blanche</td>\n      <td>-26.22861</td>\n      <td>-52.67056</td>\n      <td>Pato Branco</td>\n      <td>BR</td>\n      <td>True</td>\n    </tr>\n    <tr>\n      <th>17279</th>\n      <td>17279</td>\n      <td>3550</td>\n      <td>3550</td>\n      <td>15</td>\n      <td>8047</td>\n      <td>NGN</td>\n      <td>False</td>\n      <td>JCB 16 digit</td>\n      <td>33.37526</td>\n      <td>74.30920</td>\n      <td>Rajaori</td>\n      <td>IN</td>\n      <td>False</td>\n    </tr>\n    <tr>\n      <th>18267</th>\n      <td>18267</td>\n      <td>32220</td>\n      <td>3225</td>\n      <td>4</td>\n      <td>58580</td>\n      <td>GNF</td>\n      <td>True</td>\n      <td>VISA 16 digit</td>\n      <td>34.08565</td>\n      <td>74.80555</td>\n      <td>Srinagar</td>\n      <td>IN</td>\n      <td>False</td>\n    </tr>\n    <tr>\n      <th>44795</th>\n      <td>44795</td>\n      <td>28093</td>\n      <td>785</td>\n      <td>15</td>\n      <td>71813</td>\n      <td>LSL</td>\n      <td>False</td>\n      <td>Maestro</td>\n      <td>36.60090</td>\n      <td>126.66500</td>\n      <td>Hongseong</td>\n      <td>KR</td>\n      <td>False</td>\n    </tr>\n    <tr>\n      <th>3750</th>\n      <td>3750</td>\n      <td>2284</td>\n      <td>8604</td>\n      <td>7</td>\n      <td>75604</td>\n      <td>MRO</td>\n      <td>True</td>\n      <td>VISA 19 digit</td>\n      <td>39.57582</td>\n      <td>-105.11221</td>\n      <td>Ken Caryl</td>\n      <td>US</td>\n      <td>False</td>\n    </tr>\n    <tr>\n      <th>74610</th>\n      <td>74610</td>\n      <td>11157</td>\n      <td>8055</td>\n      <td>21</td>\n      <td>52115</td>\n      <td>XDR</td>\n      <td>False</td>\n      <td>VISA 16 digit</td>\n      <td>52.14000</td>\n      <td>5.58472</td>\n      <td>Barneveld</td>\n      <td>NL</td>\n      <td>False</td>\n    </tr>\n    <tr>\n      <th>36386</th>\n      <td>36386</td>\n      <td>16695</td>\n      <td>5039</td>\n      <td>3</td>\n      <td>91532</td>\n      <td>KHR</td>\n      <td>False</td>\n      <td>Mastercard</td>\n      <td>37.73604</td>\n      <td>-120.93549</td>\n      <td>Riverbank</td>\n      <td>US</td>\n      <td>True</td>\n    </tr>\n    <tr>\n      <th>40959</th>\n      <td>40959</td>\n      <td>29730</td>\n      <td>1288</td>\n      <td>8</td>\n      <td>36496</td>\n      <td>UZS</td>\n      <td>True</td>\n      <td>VISA 13 digit</td>\n      <td>46.18396</td>\n      <td>6.10237</td>\n      <td>Onex</td>\n      <td>CH</td>\n      <td>False</td>\n    </tr>\n    <tr>\n      <th>29828</th>\n      <td>29828</td>\n      <td>23835</td>\n      <td>5330</td>\n      <td>14</td>\n      <td>46806</td>\n      <td>IQD</td>\n      <td>False</td>\n      <td>VISA 13 digit</td>\n      <td>6.25947</td>\n      <td>102.05461</td>\n      <td>Tak Bai</td>\n      <td>TH</td>\n      <td>False</td>\n    </tr>\n  </tbody>\n</table>\n</div>"
     },
     "metadata": {},
     "output_type": "display_data"
    }
   ],
   "source": [
    "single_dataset_trunc.datetime = pd.to_datetime(single_dataset_trunc.datetime)\n",
    "single_dataset_hours = Hour.generate_feature(single_dataset_trunc.copy())\n",
    "display(single_dataset_hours.sample(10))"
   ],
   "metadata": {
    "collapsed": false,
    "pycharm": {
     "name": "#%%\n"
    }
   }
  },
  {
   "cell_type": "markdown",
   "source": [
    "# Aggregating data\n",
    "- Across multiple dataframes"
   ],
   "metadata": {
    "collapsed": false,
    "pycharm": {
     "name": "#%% md\n"
    }
   }
  },
  {
   "cell_type": "code",
   "execution_count": 13,
   "outputs": [
    {
     "name": "stdout",
     "output_type": "stream",
     "text": [
      "\n",
      " RELATIONSHIPS:\n",
      "transactions.product_id -> products.product_id\n",
      "\n"
     ]
    },
    {
     "data": {
      "text/plain": "   product_id  count\n0           4    106\n1           5    104\n2           1    102\n3           3     96\n4           2     92",
      "text/html": "<div>\n<style scoped>\n    .dataframe tbody tr th:only-of-type {\n        vertical-align: middle;\n    }\n\n    .dataframe tbody tr th {\n        vertical-align: top;\n    }\n\n    .dataframe thead th {\n        text-align: right;\n    }\n</style>\n<table border=\"1\" class=\"dataframe\">\n  <thead>\n    <tr style=\"text-align: right;\">\n      <th></th>\n      <th>product_id</th>\n      <th>count</th>\n    </tr>\n  </thead>\n  <tbody>\n    <tr>\n      <th>0</th>\n      <td>4</td>\n      <td>106</td>\n    </tr>\n    <tr>\n      <th>1</th>\n      <td>5</td>\n      <td>104</td>\n    </tr>\n    <tr>\n      <th>2</th>\n      <td>1</td>\n      <td>102</td>\n    </tr>\n    <tr>\n      <th>3</th>\n      <td>3</td>\n      <td>96</td>\n    </tr>\n    <tr>\n      <th>4</th>\n      <td>2</td>\n      <td>92</td>\n    </tr>\n  </tbody>\n</table>\n</div>"
     },
     "metadata": {},
     "output_type": "display_data"
    }
   ],
   "source": [
    "transactions = pd.read_csv(\"data/ml_tools_multiiple_tables_dataset/transactions.csv\")\n",
    "products = pd.read_csv(\"data/ml_tools_multiiple_tables_dataset/products.csv\")\n",
    "\n",
    "tp_agg = SimpleAggregator(transactions,\n",
    "                          products,\n",
    "                          label1='transactions',\n",
    "                          label2='products')\n",
    "tp_agg.new_relationship('product_id', 'product_id')\n",
    "print(tp_agg.relationships)\n",
    "\n",
    "agg = tp_agg.aggregate()\n",
    "display(agg)"
   ],
   "metadata": {
    "collapsed": false,
    "pycharm": {
     "name": "#%%\n"
    }
   }
  },
  {
   "cell_type": "markdown",
   "source": [
    "# Aggregating data\n",
    "- In one dataframe"
   ],
   "metadata": {
    "collapsed": false
   }
  },
  {
   "cell_type": "code",
   "execution_count": 11,
   "outputs": [
    {
     "data": {
      "text/plain": "    currency  count\n0        TJS    677\n1        VUV    667\n2        CAD    667\n3        NAD    666\n4        CZK    664\n..       ...    ...\n159      SLL    557\n160      LTL    556\n161      PAB    542\n162      AUD    541\n163      KYD    540\n\n[164 rows x 2 columns]",
      "text/html": "<div>\n<style scoped>\n    .dataframe tbody tr th:only-of-type {\n        vertical-align: middle;\n    }\n\n    .dataframe tbody tr th {\n        vertical-align: top;\n    }\n\n    .dataframe thead th {\n        text-align: right;\n    }\n</style>\n<table border=\"1\" class=\"dataframe\">\n  <thead>\n    <tr style=\"text-align: right;\">\n      <th></th>\n      <th>currency</th>\n      <th>count</th>\n    </tr>\n  </thead>\n  <tbody>\n    <tr>\n      <th>0</th>\n      <td>TJS</td>\n      <td>677</td>\n    </tr>\n    <tr>\n      <th>1</th>\n      <td>VUV</td>\n      <td>667</td>\n    </tr>\n    <tr>\n      <th>2</th>\n      <td>CAD</td>\n      <td>667</td>\n    </tr>\n    <tr>\n      <th>3</th>\n      <td>NAD</td>\n      <td>666</td>\n    </tr>\n    <tr>\n      <th>4</th>\n      <td>CZK</td>\n      <td>664</td>\n    </tr>\n    <tr>\n      <th>...</th>\n      <td>...</td>\n      <td>...</td>\n    </tr>\n    <tr>\n      <th>159</th>\n      <td>SLL</td>\n      <td>557</td>\n    </tr>\n    <tr>\n      <th>160</th>\n      <td>LTL</td>\n      <td>556</td>\n    </tr>\n    <tr>\n      <th>161</th>\n      <td>PAB</td>\n      <td>542</td>\n    </tr>\n    <tr>\n      <th>162</th>\n      <td>AUD</td>\n      <td>541</td>\n    </tr>\n    <tr>\n      <th>163</th>\n      <td>KYD</td>\n      <td>540</td>\n    </tr>\n  </tbody>\n</table>\n<p>164 rows × 2 columns</p>\n</div>"
     },
     "metadata": {},
     "output_type": "display_data"
    }
   ],
   "source": [
    "single_agg = SingleAggregator(single_dataset, 'fraud', 'currency')\n",
    "currency_agg = single_agg.aggregate()\n",
    "\n",
    "display(currency_agg)\n"
   ],
   "metadata": {
    "collapsed": false,
    "pycharm": {
     "name": "#%%\n"
    }
   }
  },
  {
   "cell_type": "markdown",
   "source": [
    "# Custom feature generators"
   ],
   "metadata": {
    "collapsed": false
   }
  },
  {
   "cell_type": "code",
   "execution_count": 12,
   "outputs": [
    {
     "data": {
      "text/plain": "          id  card_id  store_id            datetime  amount currency  \\\n83836  83836    12039      5678 2019-07-11 19:33:20   59598      GEL   \n46381  46381    29781      7404 2019-01-29 09:34:48   56119      TVD   \n27082  27082    22557      3801 2019-05-06 05:01:51   25916      GYD   \n20680  20680     4001      4001 2019-07-14 15:56:58    7112      JEP   \n95172  95172     1370      1370 2019-05-10 04:34:27    3123      MRO   \n...      ...      ...       ...                 ...     ...      ...   \n95998  95998    32887      7547 2019-07-01 00:10:40   97560      HRK   \n53644  53644    23649       702 2019-04-27 13:38:24    7242      OMR   \n98902  98902    28224      9106 2019-05-03 12:55:02   42629      CUP   \n69949  69949     1054      5014 2019-06-04 01:52:05   57470      YER   \n60346  60346    15772      3128 2019-05-06 20:45:23   98603      TWD   \n\n       customer_present                     provider       lat        lng  \\\n83836             False                   Mastercard  36.20389  127.08472   \n46381             False                     Discover  43.78956    7.60872   \n27082              True                VISA 16 digit  20.28527 -103.42897   \n20680             False                 JCB 15 digit  48.77275    5.16108   \n95172             False                     Discover   5.30383   -1.98956   \n...                 ...                          ...       ...        ...   \n95998              True  Diners Club / Carte Blanche -26.22861  -52.67056   \n53644             False  Diners Club / Carte Blanche  33.03699 -117.29198   \n98902             False                VISA 16 digit  45.49428 -122.86705   \n69949             False                   Mastercard  -4.83000   29.65806   \n60346             False                   Mastercard  44.43579   26.01649   \n\n            region country  fraud  amount_squared  \n83836       Nonsan      KR  False      3551921604  \n46381  Ventimiglia      IT  False      3149342161  \n27082    Jocotepec      MX   True       671639056  \n20680   Bar-le-Duc      FR  False        50580544  \n95172       Tarkwa      GH  False         9753129  \n...            ...     ...    ...             ...  \n95998  Pato Branco      BR   True      9517953600  \n53644    Encinitas      US  False        52446564  \n98902        Aloha      US  False      1817231641  \n69949     Mwandiga      TZ  False      3302800900  \n60346     Sector 6      RO   True      9722551609  \n\n[200 rows x 14 columns]",
      "text/html": "<div>\n<style scoped>\n    .dataframe tbody tr th:only-of-type {\n        vertical-align: middle;\n    }\n\n    .dataframe tbody tr th {\n        vertical-align: top;\n    }\n\n    .dataframe thead th {\n        text-align: right;\n    }\n</style>\n<table border=\"1\" class=\"dataframe\">\n  <thead>\n    <tr style=\"text-align: right;\">\n      <th></th>\n      <th>id</th>\n      <th>card_id</th>\n      <th>store_id</th>\n      <th>datetime</th>\n      <th>amount</th>\n      <th>currency</th>\n      <th>customer_present</th>\n      <th>provider</th>\n      <th>lat</th>\n      <th>lng</th>\n      <th>region</th>\n      <th>country</th>\n      <th>fraud</th>\n      <th>amount_squared</th>\n    </tr>\n  </thead>\n  <tbody>\n    <tr>\n      <th>83836</th>\n      <td>83836</td>\n      <td>12039</td>\n      <td>5678</td>\n      <td>2019-07-11 19:33:20</td>\n      <td>59598</td>\n      <td>GEL</td>\n      <td>False</td>\n      <td>Mastercard</td>\n      <td>36.20389</td>\n      <td>127.08472</td>\n      <td>Nonsan</td>\n      <td>KR</td>\n      <td>False</td>\n      <td>3551921604</td>\n    </tr>\n    <tr>\n      <th>46381</th>\n      <td>46381</td>\n      <td>29781</td>\n      <td>7404</td>\n      <td>2019-01-29 09:34:48</td>\n      <td>56119</td>\n      <td>TVD</td>\n      <td>False</td>\n      <td>Discover</td>\n      <td>43.78956</td>\n      <td>7.60872</td>\n      <td>Ventimiglia</td>\n      <td>IT</td>\n      <td>False</td>\n      <td>3149342161</td>\n    </tr>\n    <tr>\n      <th>27082</th>\n      <td>27082</td>\n      <td>22557</td>\n      <td>3801</td>\n      <td>2019-05-06 05:01:51</td>\n      <td>25916</td>\n      <td>GYD</td>\n      <td>True</td>\n      <td>VISA 16 digit</td>\n      <td>20.28527</td>\n      <td>-103.42897</td>\n      <td>Jocotepec</td>\n      <td>MX</td>\n      <td>True</td>\n      <td>671639056</td>\n    </tr>\n    <tr>\n      <th>20680</th>\n      <td>20680</td>\n      <td>4001</td>\n      <td>4001</td>\n      <td>2019-07-14 15:56:58</td>\n      <td>7112</td>\n      <td>JEP</td>\n      <td>False</td>\n      <td>JCB 15 digit</td>\n      <td>48.77275</td>\n      <td>5.16108</td>\n      <td>Bar-le-Duc</td>\n      <td>FR</td>\n      <td>False</td>\n      <td>50580544</td>\n    </tr>\n    <tr>\n      <th>95172</th>\n      <td>95172</td>\n      <td>1370</td>\n      <td>1370</td>\n      <td>2019-05-10 04:34:27</td>\n      <td>3123</td>\n      <td>MRO</td>\n      <td>False</td>\n      <td>Discover</td>\n      <td>5.30383</td>\n      <td>-1.98956</td>\n      <td>Tarkwa</td>\n      <td>GH</td>\n      <td>False</td>\n      <td>9753129</td>\n    </tr>\n    <tr>\n      <th>...</th>\n      <td>...</td>\n      <td>...</td>\n      <td>...</td>\n      <td>...</td>\n      <td>...</td>\n      <td>...</td>\n      <td>...</td>\n      <td>...</td>\n      <td>...</td>\n      <td>...</td>\n      <td>...</td>\n      <td>...</td>\n      <td>...</td>\n      <td>...</td>\n    </tr>\n    <tr>\n      <th>95998</th>\n      <td>95998</td>\n      <td>32887</td>\n      <td>7547</td>\n      <td>2019-07-01 00:10:40</td>\n      <td>97560</td>\n      <td>HRK</td>\n      <td>True</td>\n      <td>Diners Club / Carte Blanche</td>\n      <td>-26.22861</td>\n      <td>-52.67056</td>\n      <td>Pato Branco</td>\n      <td>BR</td>\n      <td>True</td>\n      <td>9517953600</td>\n    </tr>\n    <tr>\n      <th>53644</th>\n      <td>53644</td>\n      <td>23649</td>\n      <td>702</td>\n      <td>2019-04-27 13:38:24</td>\n      <td>7242</td>\n      <td>OMR</td>\n      <td>False</td>\n      <td>Diners Club / Carte Blanche</td>\n      <td>33.03699</td>\n      <td>-117.29198</td>\n      <td>Encinitas</td>\n      <td>US</td>\n      <td>False</td>\n      <td>52446564</td>\n    </tr>\n    <tr>\n      <th>98902</th>\n      <td>98902</td>\n      <td>28224</td>\n      <td>9106</td>\n      <td>2019-05-03 12:55:02</td>\n      <td>42629</td>\n      <td>CUP</td>\n      <td>False</td>\n      <td>VISA 16 digit</td>\n      <td>45.49428</td>\n      <td>-122.86705</td>\n      <td>Aloha</td>\n      <td>US</td>\n      <td>False</td>\n      <td>1817231641</td>\n    </tr>\n    <tr>\n      <th>69949</th>\n      <td>69949</td>\n      <td>1054</td>\n      <td>5014</td>\n      <td>2019-06-04 01:52:05</td>\n      <td>57470</td>\n      <td>YER</td>\n      <td>False</td>\n      <td>Mastercard</td>\n      <td>-4.83000</td>\n      <td>29.65806</td>\n      <td>Mwandiga</td>\n      <td>TZ</td>\n      <td>False</td>\n      <td>3302800900</td>\n    </tr>\n    <tr>\n      <th>60346</th>\n      <td>60346</td>\n      <td>15772</td>\n      <td>3128</td>\n      <td>2019-05-06 20:45:23</td>\n      <td>98603</td>\n      <td>TWD</td>\n      <td>False</td>\n      <td>Mastercard</td>\n      <td>44.43579</td>\n      <td>26.01649</td>\n      <td>Sector 6</td>\n      <td>RO</td>\n      <td>True</td>\n      <td>9722551609</td>\n    </tr>\n  </tbody>\n</table>\n<p>200 rows × 14 columns</p>\n</div>"
     },
     "metadata": {},
     "output_type": "display_data"
    }
   ],
   "source": [
    "def square_column(data, column):\n",
    "    data[column+'_squared'] = data[column] * data[column]\n",
    "    return data\n",
    "\n",
    "cust_generator = custom_generator(square_column)\n",
    "\n",
    "new_data = cust_generator.generate_feature(single_dataset_trunc.copy(), 'amount')\n",
    "\n",
    "display(new_data)"
   ],
   "metadata": {
    "collapsed": false,
    "pycharm": {
     "name": "#%%\n"
    }
   }
  }
 ],
 "metadata": {
  "kernelspec": {
   "name": "pycharm-ef99d5ee",
   "language": "python",
   "display_name": "PyCharm (ml_tools_take_home)"
  },
  "language_info": {
   "codemirror_mode": {
    "name": "ipython",
    "version": 2
   },
   "file_extension": ".py",
   "mimetype": "text/x-python",
   "name": "python",
   "nbconvert_exporter": "python",
   "pygments_lexer": "ipython2",
   "version": "2.7.6"
  }
 },
 "nbformat": 4,
 "nbformat_minor": 0
}